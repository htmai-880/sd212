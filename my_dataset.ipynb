{
 "cells": [
  {
   "cell_type": "markdown",
   "metadata": {},
   "source": [
    "# SD212: Graph mining\n",
    "\n",
    "## Saving a dataset\n",
    "\n",
    "This notebook shows how to save your dataset as a ``Bunch`` object."
   ]
  },
  {
   "cell_type": "code",
   "execution_count": 1,
   "metadata": {},
   "outputs": [],
   "source": [
    "from sknetwork.data import erdos_renyi # to generate fake data\n",
    "from sknetwork.data import Bunch, save"
   ]
  },
  {
   "cell_type": "code",
   "execution_count": 14,
   "metadata": {},
   "outputs": [],
   "source": [
    "import pickle\n",
    "import pandas as pd"
   ]
  },
  {
   "cell_type": "code",
   "execution_count": 15,
   "metadata": {},
   "outputs": [],
   "source": [
    "# your names\n",
    "name = 'CHHY_MAI'"
   ]
  },
  {
   "cell_type": "code",
   "execution_count": 16,
   "metadata": {},
   "outputs": [],
   "source": [
    "# fake data\n",
    "anime_df = pd.read_csv('data/anime.csv', header=0, encoding = 'ISO-8859-1')"
   ]
  },
  {
   "cell_type": "code",
   "execution_count": 17,
   "metadata": {},
   "outputs": [
    {
     "data": {
      "text/html": [
       "<div>\n",
       "<style scoped>\n",
       "    .dataframe tbody tr th:only-of-type {\n",
       "        vertical-align: middle;\n",
       "    }\n",
       "\n",
       "    .dataframe tbody tr th {\n",
       "        vertical-align: top;\n",
       "    }\n",
       "\n",
       "    .dataframe thead th {\n",
       "        text-align: right;\n",
       "    }\n",
       "</style>\n",
       "<table border=\"1\" class=\"dataframe\">\n",
       "  <thead>\n",
       "    <tr style=\"text-align: right;\">\n",
       "      <th></th>\n",
       "      <th>anime_id</th>\n",
       "      <th>name</th>\n",
       "      <th>genre</th>\n",
       "      <th>type</th>\n",
       "      <th>episodes</th>\n",
       "      <th>rating</th>\n",
       "      <th>members</th>\n",
       "    </tr>\n",
       "  </thead>\n",
       "  <tbody>\n",
       "    <tr>\n",
       "      <th>0</th>\n",
       "      <td>5114</td>\n",
       "      <td>b'Fullmetal Alchemist: Brotherhood'</td>\n",
       "      <td>['Action', 'Adventure', 'Drama', 'Fantasy']</td>\n",
       "      <td>TV</td>\n",
       "      <td>64.0</td>\n",
       "      <td>9.14</td>\n",
       "      <td>2893493</td>\n",
       "    </tr>\n",
       "    <tr>\n",
       "      <th>1</th>\n",
       "      <td>28977</td>\n",
       "      <td>b'Gintama\\xc2\\xb0'</td>\n",
       "      <td>['Action', 'Comedy', 'Sci-Fi']</td>\n",
       "      <td>TV</td>\n",
       "      <td>51.0</td>\n",
       "      <td>9.08</td>\n",
       "      <td>536990</td>\n",
       "    </tr>\n",
       "    <tr>\n",
       "      <th>2</th>\n",
       "      <td>9253</td>\n",
       "      <td>b'Steins;Gate'</td>\n",
       "      <td>['Drama', 'Sci-Fi', 'Suspense']</td>\n",
       "      <td>TV</td>\n",
       "      <td>24.0</td>\n",
       "      <td>9.08</td>\n",
       "      <td>2245646</td>\n",
       "    </tr>\n",
       "    <tr>\n",
       "      <th>3</th>\n",
       "      <td>38524</td>\n",
       "      <td>b'Shingeki no Kyojin Season 3 Part 2'</td>\n",
       "      <td>['Action', 'Drama']</td>\n",
       "      <td>TV</td>\n",
       "      <td>10.0</td>\n",
       "      <td>9.07</td>\n",
       "      <td>1847582</td>\n",
       "    </tr>\n",
       "    <tr>\n",
       "      <th>4</th>\n",
       "      <td>9969</td>\n",
       "      <td>b\"Gintama'\"</td>\n",
       "      <td>['Action', 'Comedy', 'Sci-Fi']</td>\n",
       "      <td>TV</td>\n",
       "      <td>51.0</td>\n",
       "      <td>9.05</td>\n",
       "      <td>473413</td>\n",
       "    </tr>\n",
       "    <tr>\n",
       "      <th>...</th>\n",
       "      <td>...</td>\n",
       "      <td>...</td>\n",
       "      <td>...</td>\n",
       "      <td>...</td>\n",
       "      <td>...</td>\n",
       "      <td>...</td>\n",
       "      <td>...</td>\n",
       "    </tr>\n",
       "    <tr>\n",
       "      <th>195</th>\n",
       "      <td>9617</td>\n",
       "      <td>b'K-On! Movie'</td>\n",
       "      <td>['Comedy', 'Slice of Life']</td>\n",
       "      <td>Movie</td>\n",
       "      <td>1.0</td>\n",
       "      <td>8.35</td>\n",
       "      <td>294502</td>\n",
       "    </tr>\n",
       "    <tr>\n",
       "      <th>196</th>\n",
       "      <td>17389</td>\n",
       "      <td>b'Kingdom 2nd Season'</td>\n",
       "      <td>['Action']</td>\n",
       "      <td>TV</td>\n",
       "      <td>39.0</td>\n",
       "      <td>8.35</td>\n",
       "      <td>103013</td>\n",
       "    </tr>\n",
       "    <tr>\n",
       "      <th>197</th>\n",
       "      <td>22535</td>\n",
       "      <td>b'Kiseijuu: Sei no Kakuritsu'</td>\n",
       "      <td>['Action', 'Horror', 'Sci-Fi']</td>\n",
       "      <td>TV</td>\n",
       "      <td>24.0</td>\n",
       "      <td>8.35</td>\n",
       "      <td>1636938</td>\n",
       "    </tr>\n",
       "    <tr>\n",
       "      <th>198</th>\n",
       "      <td>49909</td>\n",
       "      <td>b'Kotarou wa Hitorigurashi'</td>\n",
       "      <td>['Comedy', 'Slice of Life']</td>\n",
       "      <td>ONA</td>\n",
       "      <td>10.0</td>\n",
       "      <td>8.34</td>\n",
       "      <td>76773</td>\n",
       "    </tr>\n",
       "    <tr>\n",
       "      <th>199</th>\n",
       "      <td>37515</td>\n",
       "      <td>b'Made in Abyss Movie 2: Hourou Suru Tasogare'</td>\n",
       "      <td>['Adventure', 'Drama', 'Fantasy', 'Mystery', '...</td>\n",
       "      <td>Movie</td>\n",
       "      <td>1.0</td>\n",
       "      <td>8.35</td>\n",
       "      <td>94758</td>\n",
       "    </tr>\n",
       "  </tbody>\n",
       "</table>\n",
       "<p>200 rows × 7 columns</p>\n",
       "</div>"
      ],
      "text/plain": [
       "     anime_id                                            name  \\\n",
       "0        5114             b'Fullmetal Alchemist: Brotherhood'   \n",
       "1       28977                              b'Gintama\\xc2\\xb0'   \n",
       "2        9253                                  b'Steins;Gate'   \n",
       "3       38524           b'Shingeki no Kyojin Season 3 Part 2'   \n",
       "4        9969                                     b\"Gintama'\"   \n",
       "..        ...                                             ...   \n",
       "195      9617                                  b'K-On! Movie'   \n",
       "196     17389                           b'Kingdom 2nd Season'   \n",
       "197     22535                   b'Kiseijuu: Sei no Kakuritsu'   \n",
       "198     49909                     b'Kotarou wa Hitorigurashi'   \n",
       "199     37515  b'Made in Abyss Movie 2: Hourou Suru Tasogare'   \n",
       "\n",
       "                                                 genre   type  episodes  \\\n",
       "0          ['Action', 'Adventure', 'Drama', 'Fantasy']     TV      64.0   \n",
       "1                       ['Action', 'Comedy', 'Sci-Fi']     TV      51.0   \n",
       "2                      ['Drama', 'Sci-Fi', 'Suspense']     TV      24.0   \n",
       "3                                  ['Action', 'Drama']     TV      10.0   \n",
       "4                       ['Action', 'Comedy', 'Sci-Fi']     TV      51.0   \n",
       "..                                                 ...    ...       ...   \n",
       "195                        ['Comedy', 'Slice of Life']  Movie       1.0   \n",
       "196                                         ['Action']     TV      39.0   \n",
       "197                     ['Action', 'Horror', 'Sci-Fi']     TV      24.0   \n",
       "198                        ['Comedy', 'Slice of Life']    ONA      10.0   \n",
       "199  ['Adventure', 'Drama', 'Fantasy', 'Mystery', '...  Movie       1.0   \n",
       "\n",
       "     rating  members  \n",
       "0      9.14  2893493  \n",
       "1      9.08   536990  \n",
       "2      9.08  2245646  \n",
       "3      9.07  1847582  \n",
       "4      9.05   473413  \n",
       "..      ...      ...  \n",
       "195    8.35   294502  \n",
       "196    8.35   103013  \n",
       "197    8.35  1636938  \n",
       "198    8.34    76773  \n",
       "199    8.35    94758  \n",
       "\n",
       "[200 rows x 7 columns]"
      ]
     },
     "execution_count": 17,
     "metadata": {},
     "output_type": "execute_result"
    }
   ],
   "source": [
    "anime_df"
   ]
  },
  {
   "cell_type": "code",
   "execution_count": 18,
   "metadata": {},
   "outputs": [
    {
     "data": {
      "text/html": [
       "<div>\n",
       "<style scoped>\n",
       "    .dataframe tbody tr th:only-of-type {\n",
       "        vertical-align: middle;\n",
       "    }\n",
       "\n",
       "    .dataframe tbody tr th {\n",
       "        vertical-align: top;\n",
       "    }\n",
       "\n",
       "    .dataframe thead th {\n",
       "        text-align: right;\n",
       "    }\n",
       "</style>\n",
       "<table border=\"1\" class=\"dataframe\">\n",
       "  <thead>\n",
       "    <tr style=\"text-align: right;\">\n",
       "      <th></th>\n",
       "      <th>username</th>\n",
       "      <th>anime_id</th>\n",
       "      <th>rating</th>\n",
       "    </tr>\n",
       "  </thead>\n",
       "  <tbody>\n",
       "    <tr>\n",
       "      <th>0</th>\n",
       "      <td>Lachawla</td>\n",
       "      <td>1</td>\n",
       "      <td>-1</td>\n",
       "    </tr>\n",
       "    <tr>\n",
       "      <th>1</th>\n",
       "      <td>Dubba</td>\n",
       "      <td>1</td>\n",
       "      <td>9</td>\n",
       "    </tr>\n",
       "    <tr>\n",
       "      <th>2</th>\n",
       "      <td>epicene</td>\n",
       "      <td>1</td>\n",
       "      <td>10</td>\n",
       "    </tr>\n",
       "    <tr>\n",
       "      <th>3</th>\n",
       "      <td>Effloress</td>\n",
       "      <td>1</td>\n",
       "      <td>-1</td>\n",
       "    </tr>\n",
       "    <tr>\n",
       "      <th>4</th>\n",
       "      <td>JeSuisGarrick</td>\n",
       "      <td>1</td>\n",
       "      <td>-1</td>\n",
       "    </tr>\n",
       "    <tr>\n",
       "      <th>...</th>\n",
       "      <td>...</td>\n",
       "      <td>...</td>\n",
       "      <td>...</td>\n",
       "    </tr>\n",
       "    <tr>\n",
       "      <th>74395</th>\n",
       "      <td>bxrrylatte</td>\n",
       "      <td>9969</td>\n",
       "      <td>-1</td>\n",
       "    </tr>\n",
       "    <tr>\n",
       "      <th>74396</th>\n",
       "      <td>KarolusZan</td>\n",
       "      <td>9969</td>\n",
       "      <td>-1</td>\n",
       "    </tr>\n",
       "    <tr>\n",
       "      <th>74397</th>\n",
       "      <td>bilwor</td>\n",
       "      <td>9969</td>\n",
       "      <td>-1</td>\n",
       "    </tr>\n",
       "    <tr>\n",
       "      <th>74398</th>\n",
       "      <td>JezusAntychryst</td>\n",
       "      <td>9969</td>\n",
       "      <td>-1</td>\n",
       "    </tr>\n",
       "    <tr>\n",
       "      <th>74399</th>\n",
       "      <td>Ragnarok82</td>\n",
       "      <td>9969</td>\n",
       "      <td>-1</td>\n",
       "    </tr>\n",
       "  </tbody>\n",
       "</table>\n",
       "<p>74400 rows × 3 columns</p>\n",
       "</div>"
      ],
      "text/plain": [
       "              username  anime_id  rating\n",
       "0             Lachawla         1      -1\n",
       "1                Dubba         1       9\n",
       "2              epicene         1      10\n",
       "3            Effloress         1      -1\n",
       "4        JeSuisGarrick         1      -1\n",
       "...                ...       ...     ...\n",
       "74395       bxrrylatte      9969      -1\n",
       "74396       KarolusZan      9969      -1\n",
       "74397           bilwor      9969      -1\n",
       "74398  JezusAntychryst      9969      -1\n",
       "74399       Ragnarok82      9969      -1\n",
       "\n",
       "[74400 rows x 3 columns]"
      ]
     },
     "execution_count": 18,
     "metadata": {},
     "output_type": "execute_result"
    }
   ],
   "source": [
    "rating_df = pd.read_csv('data/rating.csv', header=0, encoding = 'ISO-8859-1')\n",
    "rating_df"
   ]
  },
  {
   "cell_type": "code",
   "execution_count": 6,
   "metadata": {},
   "outputs": [
    {
     "data": {
      "text/plain": [
       "True"
      ]
     },
     "execution_count": 6,
     "metadata": {},
     "output_type": "execute_result"
    }
   ],
   "source": [
    "# check\n",
    "10**3 < adjacency.nnz < 10**6"
   ]
  },
  {
   "cell_type": "code",
   "execution_count": 20,
   "metadata": {},
   "outputs": [],
   "source": [
    "dataset = Bunch()"
   ]
  },
  {
   "cell_type": "code",
   "execution_count": 23,
   "metadata": {},
   "outputs": [],
   "source": [
    "dataset.anime_df = anime_df\n",
    "dataset.rating_df = rating_df\n"
   ]
  },
  {
   "cell_type": "code",
   "execution_count": 25,
   "metadata": {},
   "outputs": [
    {
     "data": {
      "text/plain": [
       "{'anime_df':      anime_id                                            name  \\\n",
       " 0        5114             b'Fullmetal Alchemist: Brotherhood'   \n",
       " 1       28977                              b'Gintama\\xc2\\xb0'   \n",
       " 2        9253                                  b'Steins;Gate'   \n",
       " 3       38524           b'Shingeki no Kyojin Season 3 Part 2'   \n",
       " 4        9969                                     b\"Gintama'\"   \n",
       " ..        ...                                             ...   \n",
       " 195      9617                                  b'K-On! Movie'   \n",
       " 196     17389                           b'Kingdom 2nd Season'   \n",
       " 197     22535                   b'Kiseijuu: Sei no Kakuritsu'   \n",
       " 198     49909                     b'Kotarou wa Hitorigurashi'   \n",
       " 199     37515  b'Made in Abyss Movie 2: Hourou Suru Tasogare'   \n",
       " \n",
       "                                                  genre   type  episodes  \\\n",
       " 0          ['Action', 'Adventure', 'Drama', 'Fantasy']     TV      64.0   \n",
       " 1                       ['Action', 'Comedy', 'Sci-Fi']     TV      51.0   \n",
       " 2                      ['Drama', 'Sci-Fi', 'Suspense']     TV      24.0   \n",
       " 3                                  ['Action', 'Drama']     TV      10.0   \n",
       " 4                       ['Action', 'Comedy', 'Sci-Fi']     TV      51.0   \n",
       " ..                                                 ...    ...       ...   \n",
       " 195                        ['Comedy', 'Slice of Life']  Movie       1.0   \n",
       " 196                                         ['Action']     TV      39.0   \n",
       " 197                     ['Action', 'Horror', 'Sci-Fi']     TV      24.0   \n",
       " 198                        ['Comedy', 'Slice of Life']    ONA      10.0   \n",
       " 199  ['Adventure', 'Drama', 'Fantasy', 'Mystery', '...  Movie       1.0   \n",
       " \n",
       "      rating  members  \n",
       " 0      9.14  2893493  \n",
       " 1      9.08   536990  \n",
       " 2      9.08  2245646  \n",
       " 3      9.07  1847582  \n",
       " 4      9.05   473413  \n",
       " ..      ...      ...  \n",
       " 195    8.35   294502  \n",
       " 196    8.35   103013  \n",
       " 197    8.35  1636938  \n",
       " 198    8.34    76773  \n",
       " 199    8.35    94758  \n",
       " \n",
       " [200 rows x 7 columns],\n",
       " 'rating_df':               username  anime_id  rating\n",
       " 0             Lachawla         1      -1\n",
       " 1                Dubba         1       9\n",
       " 2              epicene         1      10\n",
       " 3            Effloress         1      -1\n",
       " 4        JeSuisGarrick         1      -1\n",
       " ...                ...       ...     ...\n",
       " 74395       bxrrylatte      9969      -1\n",
       " 74396       KarolusZan      9969      -1\n",
       " 74397           bilwor      9969      -1\n",
       " 74398  JezusAntychryst      9969      -1\n",
       " 74399       Ragnarok82      9969      -1\n",
       " \n",
       " [74400 rows x 3 columns]}"
      ]
     },
     "execution_count": 25,
     "metadata": {},
     "output_type": "execute_result"
    }
   ],
   "source": [
    "dataset\n"
   ]
  },
  {
   "cell_type": "markdown",
   "metadata": {},
   "source": [
    "If necessary, fill other fields:"
   ]
  },
  {
   "cell_type": "code",
   "execution_count": 9,
   "metadata": {},
   "outputs": [],
   "source": [
    "# dataset.names = ...\n",
    "# dataset.labels = ...\n",
    "# dataset.biadjacency = ..."
   ]
  },
  {
   "cell_type": "markdown",
   "metadata": {},
   "source": [
    "Provide details about the dataset (source, extraction, etc.)"
   ]
  },
  {
   "cell_type": "code",
   "execution_count": 27,
   "metadata": {},
   "outputs": [],
   "source": [
    "meta = Bunch()"
   ]
  },
  {
   "cell_type": "code",
   "execution_count": 28,
   "metadata": {},
   "outputs": [],
   "source": [
    "meta.name = 'Anime recommendation dataset'\n",
    "meta.description = '''The data consists of:\n",
    "- Information about the top 200 anime in MyAnimeList\n",
    "- The user updates about those anime'''\n",
    "meta.date = 'June 2022'"
   ]
  },
  {
   "cell_type": "code",
   "execution_count": 29,
   "metadata": {},
   "outputs": [],
   "source": [
    "dataset.meta = meta"
   ]
  },
  {
   "cell_type": "code",
   "execution_count": 30,
   "metadata": {},
   "outputs": [],
   "source": [
    "with open(name, 'bw') as f:\n",
    "    pickle.dump(dataset, f)"
   ]
  }
 ],
 "metadata": {
  "kernelspec": {
   "display_name": "Python 3.10.4 64-bit",
   "language": "python",
   "name": "python3"
  },
  "language_info": {
   "codemirror_mode": {
    "name": "ipython",
    "version": 3
   },
   "file_extension": ".py",
   "mimetype": "text/x-python",
   "name": "python",
   "nbconvert_exporter": "python",
   "pygments_lexer": "ipython3",
   "version": "3.10.4"
  },
  "vscode": {
   "interpreter": {
    "hash": "2172ffa06b4b328c8d6b1b41524aac3e4b5b5d3e50fc0ffde8588284ab685bac"
   }
  }
 },
 "nbformat": 4,
 "nbformat_minor": 4
}
