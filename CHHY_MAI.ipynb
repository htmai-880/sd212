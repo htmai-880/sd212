{
 "cells": [
  {
   "cell_type": "markdown",
   "metadata": {},
   "source": [
    "# SD212: Graph mining\n",
    "\n",
    "## Project"
   ]
  },
  {
   "cell_type": "markdown",
   "metadata": {},
   "source": [
    "### Title: How can we make good recommendations to a fellow anime watcher?\n",
    "\n",
    "### Students: CHHY Laurent, MAI Huu Tan"
   ]
  },
  {
   "cell_type": "markdown",
   "metadata": {},
   "source": [
    "The objective of this project is to learn how to extract useful information from graph data. \n",
    "\n",
    "Your task is the following:\n",
    "* build your own graph from real data\n",
    "* specify the problem(s) you would like to solve\n",
    "* provide a solution\n",
    "* visualize the results"
   ]
  },
  {
   "cell_type": "markdown",
   "metadata": {},
   "source": [
    "## Instructions"
   ]
  },
  {
   "cell_type": "markdown",
   "metadata": {},
   "source": [
    "You can work in **teams of 2 or 3**."
   ]
  },
  {
   "cell_type": "markdown",
   "metadata": {},
   "source": [
    "Fill the following variable with the names of all students of this project separated by _:"
   ]
  },
  {
   "cell_type": "code",
   "execution_count": 1,
   "metadata": {},
   "outputs": [],
   "source": [
    "name = 'CHHY_MAI'"
   ]
  },
  {
   "cell_type": "markdown",
   "metadata": {},
   "source": [
    "You **must** use this name for the pickle file of your dataset and provide a link to this file:"
   ]
  },
  {
   "cell_type": "code",
   "execution_count": 2,
   "metadata": {},
   "outputs": [],
   "source": [
    "# url to your dataset, to be modified\n",
    "url = 'https://nextcloud.r2.enst.fr/nextcloud/index.php/s/EqaGnAeSYC38ZHW'"
   ]
  },
  {
   "cell_type": "markdown",
   "metadata": {},
   "source": [
    "Check the notebook ``my_dataset`` to generate a pickle file in appropriate format (``Bunch`` object)."
   ]
  },
  {
   "cell_type": "markdown",
   "metadata": {},
   "source": [
    "You must use the following name for your notebook:"
   ]
  },
  {
   "cell_type": "code",
   "execution_count": 3,
   "metadata": {},
   "outputs": [
    {
     "data": {
      "text/plain": [
       "'CHHY_MAI.ipynb'"
      ]
     },
     "execution_count": 3,
     "metadata": {},
     "output_type": "execute_result"
    }
   ],
   "source": [
    "# name of your notebook\n",
    "name + '.ipynb'"
   ]
  },
  {
   "cell_type": "markdown",
   "metadata": {},
   "source": [
    "## Data"
   ]
  },
  {
   "cell_type": "code",
   "execution_count": 4,
   "metadata": {},
   "outputs": [],
   "source": [
    "import pickle"
   ]
  },
  {
   "cell_type": "code",
   "execution_count": 5,
   "metadata": {},
   "outputs": [],
   "source": [
    "# you need to download data first (see the above url)\n",
    "with open(name, 'br') as f:\n",
    "    dataset = pickle.load(f)"
   ]
  },
  {
   "cell_type": "code",
   "execution_count": 6,
   "metadata": {},
   "outputs": [
    {
     "data": {
      "text/plain": [
       "{'anime_df':      anime_id                                            name  \\\n",
       " 0        5114             b'Fullmetal Alchemist: Brotherhood'   \n",
       " 1       28977                              b'Gintama\\xc2\\xb0'   \n",
       " 2        9253                                  b'Steins;Gate'   \n",
       " 3       38524           b'Shingeki no Kyojin Season 3 Part 2'   \n",
       " 4        9969                                     b\"Gintama'\"   \n",
       " ..        ...                                             ...   \n",
       " 195      9617                                  b'K-On! Movie'   \n",
       " 196     17389                           b'Kingdom 2nd Season'   \n",
       " 197     22535                   b'Kiseijuu: Sei no Kakuritsu'   \n",
       " 198     49909                     b'Kotarou wa Hitorigurashi'   \n",
       " 199     37515  b'Made in Abyss Movie 2: Hourou Suru Tasogare'   \n",
       " \n",
       "                                                  genre   type  episodes  \\\n",
       " 0          ['Action', 'Adventure', 'Drama', 'Fantasy']     TV      64.0   \n",
       " 1                       ['Action', 'Comedy', 'Sci-Fi']     TV      51.0   \n",
       " 2                      ['Drama', 'Sci-Fi', 'Suspense']     TV      24.0   \n",
       " 3                                  ['Action', 'Drama']     TV      10.0   \n",
       " 4                       ['Action', 'Comedy', 'Sci-Fi']     TV      51.0   \n",
       " ..                                                 ...    ...       ...   \n",
       " 195                        ['Comedy', 'Slice of Life']  Movie       1.0   \n",
       " 196                                         ['Action']     TV      39.0   \n",
       " 197                     ['Action', 'Horror', 'Sci-Fi']     TV      24.0   \n",
       " 198                        ['Comedy', 'Slice of Life']    ONA      10.0   \n",
       " 199  ['Adventure', 'Drama', 'Fantasy', 'Mystery', '...  Movie       1.0   \n",
       " \n",
       "      rating  members  \n",
       " 0      9.14  2893493  \n",
       " 1      9.08   536990  \n",
       " 2      9.08  2245646  \n",
       " 3      9.07  1847582  \n",
       " 4      9.05   473413  \n",
       " ..      ...      ...  \n",
       " 195    8.35   294502  \n",
       " 196    8.35   103013  \n",
       " 197    8.35  1636938  \n",
       " 198    8.34    76773  \n",
       " 199    8.35    94758  \n",
       " \n",
       " [200 rows x 7 columns],\n",
       " 'rating_df':               username  anime_id  rating\n",
       " 0             Lachawla         1      -1\n",
       " 1                Dubba         1       9\n",
       " 2              epicene         1      10\n",
       " 3            Effloress         1      -1\n",
       " 4        JeSuisGarrick         1      -1\n",
       " ...                ...       ...     ...\n",
       " 74395       bxrrylatte      9969      -1\n",
       " 74396       KarolusZan      9969      -1\n",
       " 74397           bilwor      9969      -1\n",
       " 74398  JezusAntychryst      9969      -1\n",
       " 74399       Ragnarok82      9969      -1\n",
       " \n",
       " [74400 rows x 3 columns],\n",
       " 'meta': {'name': 'Anime recommendation dataset',\n",
       "  'description': 'The data consists of:\\n- Information about the top 200 anime in MyAnimeList\\n- The user updates about those anime',\n",
       "  'date': 'June 2022'}}"
      ]
     },
     "execution_count": 6,
     "metadata": {},
     "output_type": "execute_result"
    }
   ],
   "source": [
    "dataset"
   ]
  },
  {
   "cell_type": "markdown",
   "metadata": {},
   "source": [
    "Describe your data and how it has been collected (do not include the code used to extract data)."
   ]
  },
  {
   "cell_type": "markdown",
   "metadata": {},
   "source": [
    "The data consists of:\n",
    "- Information about the top 200 anime in MyAnimeList\n",
    "- The user updates about those anime\n",
    "\n",
    "It was obtained by first doing requests to the API of MyAnimeList (see [here](https://myanimelist.net/apiconfig/references/api/v2#operation/anime_ranking_get) for the documentation), which allowed us to extract the ID of the anime in question.\n",
    "Secondly, we used the Jikan API (see [here](https://jikan.docs.apiary.io/#reference/0/anime) for the documentation) to obtain the anime information and the user updates (which included ratings).\n",
    "After collecting the cleaned responses in JSON format, we parsed those files to create csv files."
   ]
  },
  {
   "cell_type": "markdown",
   "metadata": {},
   "source": [
    "## Problem"
   ]
  },
  {
   "cell_type": "markdown",
   "metadata": {},
   "source": [
    "The problem we want to solve is that of recommendations. The question is as follows:\n",
    "How can we make good recommendations to a fellow anime watcher?"
   ]
  },
  {
   "cell_type": "markdown",
   "metadata": {},
   "source": [
    "## Solution\n"
   ]
  },
  {
   "cell_type": "markdown",
   "metadata": {},
   "source": [
    "### Imports\n"
   ]
  },
  {
   "cell_type": "code",
   "execution_count": 7,
   "metadata": {},
   "outputs": [],
   "source": [
    "import numpy as np\n",
    "\n",
    "from sknetwork.data import from_edge_list\n",
    "from sknetwork.visualization import svg_graph, svg_bigraph, svg_dendrogram\n",
    "from sknetwork.ranking import PageRank, top_k\n",
    "from sknetwork.embedding import Spectral\n",
    "from sknetwork.utils import get_neighbors, WardDense\n",
    "from sknetwork.hierarchy import Paris\n",
    "\n",
    "\n",
    "\n",
    "import csv\n",
    "import pandas as pd\n",
    "import matplotlib.pyplot as plt\n",
    "from IPython.display import SVG"
   ]
  },
  {
   "cell_type": "markdown",
   "metadata": {},
   "source": [
    "### Preprocessing"
   ]
  },
  {
   "cell_type": "markdown",
   "metadata": {},
   "source": [
    "Now that we retrieved the dataset, we can clean the data a little in order to build a graph from it.\n",
    "\n",
    "We start with the top 200 anime information."
   ]
  },
  {
   "cell_type": "code",
   "execution_count": 8,
   "metadata": {},
   "outputs": [
    {
     "data": {
      "text/plain": [
       "\"b'Fullmetal Alchemist: Brotherhood'\""
      ]
     },
     "execution_count": 8,
     "metadata": {},
     "output_type": "execute_result"
    }
   ],
   "source": [
    "# Retrieving the top 200 anime information as a Pandas DataFrame.\n",
    "\n",
    "anime_df = dataset.anime_df\n",
    "anime_df[\"name\"][0]"
   ]
  },
  {
   "cell_type": "markdown",
   "metadata": {},
   "source": [
    "The titles are written incorrectly. We need to rewrite the titles."
   ]
  },
  {
   "cell_type": "code",
   "execution_count": 9,
   "metadata": {},
   "outputs": [
    {
     "data": {
      "text/html": [
       "<div>\n",
       "<style scoped>\n",
       "    .dataframe tbody tr th:only-of-type {\n",
       "        vertical-align: middle;\n",
       "    }\n",
       "\n",
       "    .dataframe tbody tr th {\n",
       "        vertical-align: top;\n",
       "    }\n",
       "\n",
       "    .dataframe thead th {\n",
       "        text-align: right;\n",
       "    }\n",
       "</style>\n",
       "<table border=\"1\" class=\"dataframe\">\n",
       "  <thead>\n",
       "    <tr style=\"text-align: right;\">\n",
       "      <th></th>\n",
       "      <th>anime_id</th>\n",
       "      <th>name</th>\n",
       "      <th>genre</th>\n",
       "      <th>type</th>\n",
       "      <th>episodes</th>\n",
       "      <th>rating</th>\n",
       "      <th>members</th>\n",
       "    </tr>\n",
       "  </thead>\n",
       "  <tbody>\n",
       "    <tr>\n",
       "      <th>0</th>\n",
       "      <td>5114</td>\n",
       "      <td>Fullmetal Alchemist: Brotherhood</td>\n",
       "      <td>['Action', 'Adventure', 'Drama', 'Fantasy']</td>\n",
       "      <td>TV</td>\n",
       "      <td>64.0</td>\n",
       "      <td>9.14</td>\n",
       "      <td>2893493</td>\n",
       "    </tr>\n",
       "    <tr>\n",
       "      <th>1</th>\n",
       "      <td>28977</td>\n",
       "      <td>Gintama\\xc2\\xb0</td>\n",
       "      <td>['Action', 'Comedy', 'Sci-Fi']</td>\n",
       "      <td>TV</td>\n",
       "      <td>51.0</td>\n",
       "      <td>9.08</td>\n",
       "      <td>536990</td>\n",
       "    </tr>\n",
       "    <tr>\n",
       "      <th>2</th>\n",
       "      <td>9253</td>\n",
       "      <td>Steins;Gate</td>\n",
       "      <td>['Drama', 'Sci-Fi', 'Suspense']</td>\n",
       "      <td>TV</td>\n",
       "      <td>24.0</td>\n",
       "      <td>9.08</td>\n",
       "      <td>2245646</td>\n",
       "    </tr>\n",
       "    <tr>\n",
       "      <th>3</th>\n",
       "      <td>38524</td>\n",
       "      <td>Shingeki no Kyojin Season 3 Part 2</td>\n",
       "      <td>['Action', 'Drama']</td>\n",
       "      <td>TV</td>\n",
       "      <td>10.0</td>\n",
       "      <td>9.07</td>\n",
       "      <td>1847582</td>\n",
       "    </tr>\n",
       "    <tr>\n",
       "      <th>4</th>\n",
       "      <td>9969</td>\n",
       "      <td>Gintama'</td>\n",
       "      <td>['Action', 'Comedy', 'Sci-Fi']</td>\n",
       "      <td>TV</td>\n",
       "      <td>51.0</td>\n",
       "      <td>9.05</td>\n",
       "      <td>473413</td>\n",
       "    </tr>\n",
       "    <tr>\n",
       "      <th>...</th>\n",
       "      <td>...</td>\n",
       "      <td>...</td>\n",
       "      <td>...</td>\n",
       "      <td>...</td>\n",
       "      <td>...</td>\n",
       "      <td>...</td>\n",
       "      <td>...</td>\n",
       "    </tr>\n",
       "    <tr>\n",
       "      <th>195</th>\n",
       "      <td>9617</td>\n",
       "      <td>K-On! Movie</td>\n",
       "      <td>['Comedy', 'Slice of Life']</td>\n",
       "      <td>Movie</td>\n",
       "      <td>1.0</td>\n",
       "      <td>8.35</td>\n",
       "      <td>294502</td>\n",
       "    </tr>\n",
       "    <tr>\n",
       "      <th>196</th>\n",
       "      <td>17389</td>\n",
       "      <td>Kingdom 2nd Season</td>\n",
       "      <td>['Action']</td>\n",
       "      <td>TV</td>\n",
       "      <td>39.0</td>\n",
       "      <td>8.35</td>\n",
       "      <td>103013</td>\n",
       "    </tr>\n",
       "    <tr>\n",
       "      <th>197</th>\n",
       "      <td>22535</td>\n",
       "      <td>Kiseijuu: Sei no Kakuritsu</td>\n",
       "      <td>['Action', 'Horror', 'Sci-Fi']</td>\n",
       "      <td>TV</td>\n",
       "      <td>24.0</td>\n",
       "      <td>8.35</td>\n",
       "      <td>1636938</td>\n",
       "    </tr>\n",
       "    <tr>\n",
       "      <th>198</th>\n",
       "      <td>49909</td>\n",
       "      <td>Kotarou wa Hitorigurashi</td>\n",
       "      <td>['Comedy', 'Slice of Life']</td>\n",
       "      <td>ONA</td>\n",
       "      <td>10.0</td>\n",
       "      <td>8.34</td>\n",
       "      <td>76773</td>\n",
       "    </tr>\n",
       "    <tr>\n",
       "      <th>199</th>\n",
       "      <td>37515</td>\n",
       "      <td>Made in Abyss Movie 2: Hourou Suru Tasogare</td>\n",
       "      <td>['Adventure', 'Drama', 'Fantasy', 'Mystery', '...</td>\n",
       "      <td>Movie</td>\n",
       "      <td>1.0</td>\n",
       "      <td>8.35</td>\n",
       "      <td>94758</td>\n",
       "    </tr>\n",
       "  </tbody>\n",
       "</table>\n",
       "<p>200 rows × 7 columns</p>\n",
       "</div>"
      ],
      "text/plain": [
       "     anime_id                                         name  \\\n",
       "0        5114             Fullmetal Alchemist: Brotherhood   \n",
       "1       28977                              Gintama\\xc2\\xb0   \n",
       "2        9253                                  Steins;Gate   \n",
       "3       38524           Shingeki no Kyojin Season 3 Part 2   \n",
       "4        9969                                     Gintama'   \n",
       "..        ...                                          ...   \n",
       "195      9617                                  K-On! Movie   \n",
       "196     17389                           Kingdom 2nd Season   \n",
       "197     22535                   Kiseijuu: Sei no Kakuritsu   \n",
       "198     49909                     Kotarou wa Hitorigurashi   \n",
       "199     37515  Made in Abyss Movie 2: Hourou Suru Tasogare   \n",
       "\n",
       "                                                 genre   type  episodes  \\\n",
       "0          ['Action', 'Adventure', 'Drama', 'Fantasy']     TV      64.0   \n",
       "1                       ['Action', 'Comedy', 'Sci-Fi']     TV      51.0   \n",
       "2                      ['Drama', 'Sci-Fi', 'Suspense']     TV      24.0   \n",
       "3                                  ['Action', 'Drama']     TV      10.0   \n",
       "4                       ['Action', 'Comedy', 'Sci-Fi']     TV      51.0   \n",
       "..                                                 ...    ...       ...   \n",
       "195                        ['Comedy', 'Slice of Life']  Movie       1.0   \n",
       "196                                         ['Action']     TV      39.0   \n",
       "197                     ['Action', 'Horror', 'Sci-Fi']     TV      24.0   \n",
       "198                        ['Comedy', 'Slice of Life']    ONA      10.0   \n",
       "199  ['Adventure', 'Drama', 'Fantasy', 'Mystery', '...  Movie       1.0   \n",
       "\n",
       "     rating  members  \n",
       "0      9.14  2893493  \n",
       "1      9.08   536990  \n",
       "2      9.08  2245646  \n",
       "3      9.07  1847582  \n",
       "4      9.05   473413  \n",
       "..      ...      ...  \n",
       "195    8.35   294502  \n",
       "196    8.35   103013  \n",
       "197    8.35  1636938  \n",
       "198    8.34    76773  \n",
       "199    8.35    94758  \n",
       "\n",
       "[200 rows x 7 columns]"
      ]
     },
     "execution_count": 9,
     "metadata": {},
     "output_type": "execute_result"
    }
   ],
   "source": [
    "def rewrite_title(title):\n",
    "    return title[2:-1]\n",
    "\n",
    "anime_df[\"name\"] = anime_df[\"name\"].apply(rewrite_title)\n",
    "\n",
    "anime_df"
   ]
  },
  {
   "cell_type": "markdown",
   "metadata": {},
   "source": [
    "Next, we can look at the dataset that contains the recent user ratings of those anime."
   ]
  },
  {
   "cell_type": "code",
   "execution_count": 10,
   "metadata": {},
   "outputs": [
    {
     "data": {
      "text/html": [
       "<div>\n",
       "<style scoped>\n",
       "    .dataframe tbody tr th:only-of-type {\n",
       "        vertical-align: middle;\n",
       "    }\n",
       "\n",
       "    .dataframe tbody tr th {\n",
       "        vertical-align: top;\n",
       "    }\n",
       "\n",
       "    .dataframe thead th {\n",
       "        text-align: right;\n",
       "    }\n",
       "</style>\n",
       "<table border=\"1\" class=\"dataframe\">\n",
       "  <thead>\n",
       "    <tr style=\"text-align: right;\">\n",
       "      <th></th>\n",
       "      <th>username</th>\n",
       "      <th>anime_id</th>\n",
       "      <th>rating</th>\n",
       "    </tr>\n",
       "  </thead>\n",
       "  <tbody>\n",
       "    <tr>\n",
       "      <th>0</th>\n",
       "      <td>Lachawla</td>\n",
       "      <td>1</td>\n",
       "      <td>-1</td>\n",
       "    </tr>\n",
       "    <tr>\n",
       "      <th>1</th>\n",
       "      <td>Dubba</td>\n",
       "      <td>1</td>\n",
       "      <td>9</td>\n",
       "    </tr>\n",
       "    <tr>\n",
       "      <th>2</th>\n",
       "      <td>epicene</td>\n",
       "      <td>1</td>\n",
       "      <td>10</td>\n",
       "    </tr>\n",
       "    <tr>\n",
       "      <th>3</th>\n",
       "      <td>Effloress</td>\n",
       "      <td>1</td>\n",
       "      <td>-1</td>\n",
       "    </tr>\n",
       "    <tr>\n",
       "      <th>4</th>\n",
       "      <td>JeSuisGarrick</td>\n",
       "      <td>1</td>\n",
       "      <td>-1</td>\n",
       "    </tr>\n",
       "    <tr>\n",
       "      <th>...</th>\n",
       "      <td>...</td>\n",
       "      <td>...</td>\n",
       "      <td>...</td>\n",
       "    </tr>\n",
       "    <tr>\n",
       "      <th>74395</th>\n",
       "      <td>bxrrylatte</td>\n",
       "      <td>9969</td>\n",
       "      <td>-1</td>\n",
       "    </tr>\n",
       "    <tr>\n",
       "      <th>74396</th>\n",
       "      <td>KarolusZan</td>\n",
       "      <td>9969</td>\n",
       "      <td>-1</td>\n",
       "    </tr>\n",
       "    <tr>\n",
       "      <th>74397</th>\n",
       "      <td>bilwor</td>\n",
       "      <td>9969</td>\n",
       "      <td>-1</td>\n",
       "    </tr>\n",
       "    <tr>\n",
       "      <th>74398</th>\n",
       "      <td>JezusAntychryst</td>\n",
       "      <td>9969</td>\n",
       "      <td>-1</td>\n",
       "    </tr>\n",
       "    <tr>\n",
       "      <th>74399</th>\n",
       "      <td>Ragnarok82</td>\n",
       "      <td>9969</td>\n",
       "      <td>-1</td>\n",
       "    </tr>\n",
       "  </tbody>\n",
       "</table>\n",
       "<p>74400 rows × 3 columns</p>\n",
       "</div>"
      ],
      "text/plain": [
       "              username  anime_id  rating\n",
       "0             Lachawla         1      -1\n",
       "1                Dubba         1       9\n",
       "2              epicene         1      10\n",
       "3            Effloress         1      -1\n",
       "4        JeSuisGarrick         1      -1\n",
       "...                ...       ...     ...\n",
       "74395       bxrrylatte      9969      -1\n",
       "74396       KarolusZan      9969      -1\n",
       "74397           bilwor      9969      -1\n",
       "74398  JezusAntychryst      9969      -1\n",
       "74399       Ragnarok82      9969      -1\n",
       "\n",
       "[74400 rows x 3 columns]"
      ]
     },
     "execution_count": 10,
     "metadata": {},
     "output_type": "execute_result"
    }
   ],
   "source": [
    "rating_df = dataset.rating_df\n",
    "rating_df"
   ]
  },
  {
   "cell_type": "markdown",
   "metadata": {},
   "source": [
    "We can check whether or not all of those anime have been rated."
   ]
  },
  {
   "cell_type": "code",
   "execution_count": 11,
   "metadata": {},
   "outputs": [
    {
     "name": "stdout",
     "output_type": "stream",
     "text": [
      "199\n",
      "200\n",
      "44042\n"
     ]
    }
   ],
   "source": [
    "def check_sanity():\n",
    "    L1 = set(rating_df['anime_id'])\n",
    "    L2 = set(anime_df['anime_id'])\n",
    "    print(len(L1))\n",
    "    print(len(L2))\n",
    "    for x in L2:\n",
    "        if x not in L1:\n",
    "            print(x)\n",
    "\n",
    "check_sanity()"
   ]
  },
  {
   "cell_type": "markdown",
   "metadata": {},
   "source": [
    "It turns out that one of the animes has no ratings. This is a problem with the Jikan API used to scrape user updates, but we will choose to deliberately ignore that."
   ]
  },
  {
   "cell_type": "code",
   "execution_count": 12,
   "metadata": {},
   "outputs": [],
   "source": [
    "# The -1 in the ratings mean that the user has not rated the anime.\n",
    "rating_df = rating_df[rating_df['rating'] >0]"
   ]
  },
  {
   "cell_type": "markdown",
   "metadata": {},
   "source": [
    "We can plot the ratings to have an idea of the rating distribution."
   ]
  },
  {
   "cell_type": "code",
   "execution_count": 13,
   "metadata": {},
   "outputs": [
    {
     "data": {
      "text/plain": [
       "Text(0.5, 1.0, 'Rating Distribution')"
      ]
     },
     "execution_count": 13,
     "metadata": {},
     "output_type": "execute_result"
    },
    {
     "data": {
      "image/png": "[encoded data removed]",
      "text/plain": [
       "<Figure size 640x480 with 1 Axes>"
      ]
     },
     "metadata": {},
     "output_type": "display_data"
    }
   ],
   "source": [
    "from collections import Counter\n",
    "\n",
    "#count ratings\n",
    "rating_count = Counter(rating_df['rating'])\n",
    "#plot ratings\n",
    "plt.bar(rating_count.keys(), rating_count.values())\n",
    "plt.xlabel(\"Rating (out of 10)\")\n",
    "plt.ylabel(\"Amount of ratings\")\n",
    "plt.title(\"Rating Distribution\")"
   ]
  },
  {
   "cell_type": "markdown",
   "metadata": {},
   "source": [
    "As expected, because the anime data scraped were from the top 100 from MyAnimeList, many of the ratings are very high."
   ]
  },
  {
   "cell_type": "markdown",
   "metadata": {},
   "source": [
    "Since the genres are incorrectly input as a string, we will parse the string to extract the genres of each anime as a list."
   ]
  },
  {
   "cell_type": "code",
   "execution_count": 14,
   "metadata": {},
   "outputs": [],
   "source": [
    "rating_numpy = rating_df.to_numpy()"
   ]
  },
  {
   "cell_type": "code",
   "execution_count": 15,
   "metadata": {},
   "outputs": [
    {
     "data": {
      "text/plain": [
       "['Action', 'Adventure', 'Drama', 'Fantasy']"
      ]
     },
     "execution_count": 15,
     "metadata": {},
     "output_type": "execute_result"
    }
   ],
   "source": [
    "def parse_list_str(str):\n",
    "    list = str[1:-1].replace(\"'\", \"\").split(\",\")\n",
    "    for i in range(len(list)):\n",
    "        list[i] = list[i].strip()\n",
    "    return list\n",
    "parse_list_str(anime_df[\"genre\"][0])"
   ]
  },
  {
   "cell_type": "code",
   "execution_count": 16,
   "metadata": {},
   "outputs": [],
   "source": [
    "anime_ids = np.unique(rating_numpy[:, 1])\n",
    "#retrieve anime names from anime_df\n",
    "anime_names = []\n",
    "anime_genres = []\n",
    "for anime_id in anime_ids:\n",
    "    name = anime_df[anime_df['anime_id'] == anime_id]['name'].values\n",
    "    genre_str = anime_df[anime_df['anime_id'] == anime_id]['genre'].values\n",
    "    genre_list = parse_list_str(genre_str[0])\n",
    "    anime_genres.append(genre_list)\n",
    "    anime_names.append(name[0])\n",
    "anime_names = np.array(anime_names)\n",
    "anime_genres = np.array(anime_genres, dtype=object)"
   ]
  },
  {
   "cell_type": "code",
   "execution_count": 17,
   "metadata": {},
   "outputs": [
    {
     "data": {
      "text/plain": [
       "array([list(['Action', 'Sci-Fi'])], dtype=object)"
      ]
     },
     "execution_count": 17,
     "metadata": {},
     "output_type": "execute_result"
    }
   ],
   "source": [
    "# For example, the genres of Cowboy Bebop are Action, Sci-Fi.\n",
    "anime_genres[anime_names==\"Cowboy Bebop\"]"
   ]
  },
  {
   "cell_type": "markdown",
   "metadata": {},
   "source": [
    "Then, we can one-hot-encode those genres to facilitate the graph mining methods later."
   ]
  },
  {
   "cell_type": "code",
   "execution_count": 18,
   "metadata": {},
   "outputs": [],
   "source": [
    "#one_hot_encode genres\n",
    "def one_hot_genres(anime_genres):\n",
    "    all_genres = np.unique(np.concatenate(anime_genres))\n",
    "    one_hot_genres = []\n",
    "    for genre_list in anime_genres:\n",
    "        one_hot_genre = np.zeros(len(all_genres))\n",
    "        for genre in genre_list:\n",
    "            one_hot_genre[all_genres == genre] = 1\n",
    "        one_hot_genres.append(one_hot_genre)\n",
    "    return np.array(one_hot_genres), all_genres"
   ]
  },
  {
   "cell_type": "markdown",
   "metadata": {},
   "source": [
    "Finally, to have the animes on the left side and the users on the right side of the bipartite graph, we can swap the columns."
   ]
  },
  {
   "cell_type": "code",
   "execution_count": 19,
   "metadata": {},
   "outputs": [],
   "source": [
    "# swapping columns to have the anime_id as the first column\n",
    "rating_numpy = rating_numpy[:, [1, 0, 2]]"
   ]
  },
  {
   "cell_type": "markdown",
   "metadata": {},
   "source": [
    "Now is a good time to build the graph."
   ]
  },
  {
   "cell_type": "code",
   "execution_count": 20,
   "metadata": {},
   "outputs": [],
   "source": [
    "# Now we build the graph\n",
    "graph = from_edge_list(rating_numpy,bipartite = True)"
   ]
  },
  {
   "cell_type": "code",
   "execution_count": 21,
   "metadata": {},
   "outputs": [],
   "source": [
    "biadjacency = graph.biadjacency\n",
    "names = np.array(anime_names)\n",
    "labels, label_names = one_hot_genres(anime_genres)"
   ]
  },
  {
   "cell_type": "code",
   "execution_count": 22,
   "metadata": {},
   "outputs": [
    {
     "data": {
      "text/plain": [
       "<199x16835 sparse matrix of type '<class 'numpy.intc'>'\n",
       "\twith 32043 stored elements in Compressed Sparse Row format>"
      ]
     },
     "execution_count": 22,
     "metadata": {},
     "output_type": "execute_result"
    }
   ],
   "source": [
    "biadjacency"
   ]
  },
  {
   "cell_type": "code",
   "execution_count": 23,
   "metadata": {},
   "outputs": [
    {
     "data": {
      "image/svg+xml": "<svg xmlns=\"http://www.w3.org/2000/svg\" width=\"904.8\" height=\"1008.0\">\n<path stroke-width=\"1.9615384615384615\" stroke=\"black\" d=\"M 520 688 880 719\"/>\n<path stroke-width=\"2.6923076923076925\" stroke=\"black\" d=\"M 520 196 880 374\"/>\n<path stroke-width=\"1.9615384615384615\" stroke=\"black\" d=\"M 520 528 880 682\"/>\n<path stroke-width=\"2.6923076923076925\" stroke=\"black\" d=\"M 520 294 880 460\"/>\n<path stroke-width=\"0.5\" stroke=\"black\" d=\"M 520 183 880 362\"/>\n<path stroke-width=\"1.9615384615384615\" stroke=\"black\" d=\"M 520 356 880 534\"/>\n<path stroke-width=\"1.2307692307692308\" stroke=\"black\" d=\"M 520 368 880 534\"/>\n<path stroke-width=\"2.6923076923076925\" stroke=\"black\" d=\"M 520 873 880 805\"/>\n<path stroke-width=\"1.2307692307692308\" stroke=\"black\" d=\"M 520 171 880 350\"/>\n<path stroke-width=\"1.9615384615384615\" stroke=\"black\" d=\"M 520 700 880 719\"/>\n<path stroke-width=\"1.9615384615384615\" stroke=\"black\" d=\"M 520 405 880 583\"/>\n<path stroke-width=\"1.2307692307692308\" stroke=\"black\" d=\"M 520 417 880 571\"/>\n<path stroke-width=\"1.9615384615384615\" stroke=\"black\" d=\"M 520 417 880 583\"/>\n<path stroke-width=\"2.6923076923076925\" stroke=\"black\" d=\"M 520 282 880 460\"/>\n<path stroke-width=\"1.2307692307692308\" stroke=\"black\" d=\"M 520 627 880 682\"/>\n<path stroke-width=\"2.6923076923076925\" stroke=\"black\" d=\"M 520 848 880 805\"/>\n<path stroke-width=\"2.6923076923076925\" stroke=\"black\" d=\"M 520 897 880 805\"/>\n<path stroke-width=\"1.9615384615384615\" stroke=\"black\" d=\"M 520 910 880 805\"/>\n<path stroke-width=\"1.9615384615384615\" stroke=\"black\" d=\"M 520 577 880 682\"/>\n<path stroke-width=\"1.2307692307692308\" stroke=\"black\" d=\"M 520 922 880 793\"/>\n<path stroke-width=\"1.9615384615384615\" stroke=\"black\" d=\"M 520 922 880 805\"/>\n<path stroke-width=\"1.2307692307692308\" stroke=\"black\" d=\"M 520 159 880 337\"/>\n<path stroke-width=\"1.9615384615384615\" stroke=\"black\" d=\"M 520 811 880 768\"/>\n<path stroke-width=\"1.9615384615384615\" stroke=\"black\" d=\"M 520 110 880 288\"/>\n<path stroke-width=\"1.9615384615384615\" stroke=\"black\" d=\"M 520 799 880 768\"/>\n<path stroke-width=\"1.9615384615384615\" stroke=\"black\" d=\"M 520 799 880 780\"/>\n<path stroke-width=\"0.5\" stroke=\"black\" d=\"M 520 245 880 423\"/>\n<path stroke-width=\"1.2307692307692308\" stroke=\"black\" d=\"M 520 245 880 436\"/>\n<path stroke-width=\"0.5\" stroke=\"black\" d=\"M 520 540 880 682\"/>\n<path stroke-width=\"1.9615384615384615\" stroke=\"black\" d=\"M 520 208 880 387\"/>\n<path stroke-width=\"1.9615384615384615\" stroke=\"black\" d=\"M 520 208 880 399\"/>\n<path stroke-width=\"2.6923076923076925\" stroke=\"black\" d=\"M 520 319 880 510\"/>\n<path stroke-width=\"1.9615384615384615\" stroke=\"black\" d=\"M 520 319 880 497\"/>\n<path stroke-width=\"1.2307692307692308\" stroke=\"black\" d=\"M 520 762 880 744\"/>\n<path stroke-width=\"2.6923076923076925\" stroke=\"black\" d=\"M 520 73 880 251\"/>\n<path stroke-width=\"1.2307692307692308\" stroke=\"black\" d=\"M 520 24 880 202\"/>\n<path stroke-width=\"1.2307692307692308\" stroke=\"black\" d=\"M 520 467 880 657\"/>\n<path stroke-width=\"10.0\" stroke=\"black\" d=\"M 520 134 880 313\"/>\n<path stroke-width=\"1.9615384615384615\" stroke=\"black\" d=\"M 520 553 880 682\"/>\n<path stroke-width=\"1.9615384615384615\" stroke=\"black\" d=\"M 520 220 880 411\"/>\n<path stroke-width=\"2.6923076923076925\" stroke=\"black\" d=\"M 520 430 880 620\"/>\n<path stroke-width=\"2.6923076923076925\" stroke=\"black\" d=\"M 520 430 880 596\"/>\n<path stroke-width=\"1.9615384615384615\" stroke=\"black\" d=\"M 520 430 880 608\"/>\n<path stroke-width=\"1.9615384615384615\" stroke=\"black\" d=\"M 520 725 880 719\"/>\n<path stroke-width=\"1.2307692307692308\" stroke=\"black\" d=\"M 520 774 880 780\"/>\n<path stroke-width=\"0.5\" stroke=\"black\" d=\"M 520 774 880 731\"/>\n<path stroke-width=\"1.9615384615384615\" stroke=\"black\" d=\"M 520 565 880 682\"/>\n<path stroke-width=\"1.2307692307692308\" stroke=\"black\" d=\"M 520 36 880 214\"/>\n<path stroke-width=\"1.9615384615384615\" stroke=\"black\" d=\"M 520 344 880 522\"/>\n<path stroke-width=\"1.9615384615384615\" stroke=\"black\" d=\"M 520 467 880 670\"/>\n<path stroke-width=\"1.9615384615384615\" stroke=\"black\" d=\"M 520 602 880 682\"/>\n<path stroke-width=\"1.2307692307692308\" stroke=\"black\" d=\"M 520 479 880 657\"/>\n<path stroke-width=\"2.6923076923076925\" stroke=\"black\" d=\"M 520 590 880 682\"/>\n<path stroke-width=\"1.9615384615384615\" stroke=\"black\" d=\"M 520 122 880 300\"/>\n<path stroke-width=\"1.9615384615384615\" stroke=\"black\" d=\"M 520 836 880 756\"/>\n<path stroke-width=\"2.6923076923076925\" stroke=\"black\" d=\"M 520 860 880 805\"/>\n<path stroke-width=\"0.5\" stroke=\"black\" d=\"M 520 97 880 276\"/>\n<path stroke-width=\"1.2307692307692308\" stroke=\"black\" d=\"M 520 614 880 682\"/>\n<path stroke-width=\"1.9615384615384615\" stroke=\"black\" d=\"M 520 750 880 768\"/>\n<path stroke-width=\"1.9615384615384615\" stroke=\"black\" d=\"M 520 750 880 744\"/>\n<path stroke-width=\"0.5\" stroke=\"black\" d=\"M 520 750 880 756\"/>\n<path stroke-width=\"2.6923076923076925\" stroke=\"black\" d=\"M 520 676 880 719\"/>\n<path stroke-width=\"1.9615384615384615\" stroke=\"black\" d=\"M 520 307 880 485\"/>\n<path stroke-width=\"2.6923076923076925\" stroke=\"black\" d=\"M 520 639 880 719\"/>\n<path stroke-width=\"1.2307692307692308\" stroke=\"black\" d=\"M 520 48 880 227\"/>\n<path stroke-width=\"1.9615384615384615\" stroke=\"black\" d=\"M 520 787 880 756\"/>\n<path stroke-width=\"2.6923076923076925\" stroke=\"black\" d=\"M 520 233 880 411\"/>\n<path stroke-width=\"2.6923076923076925\" stroke=\"black\" d=\"M 520 664 880 719\"/>\n<path stroke-width=\"2.6923076923076925\" stroke=\"black\" d=\"M 520 664 880 805\"/>\n<path stroke-width=\"1.2307692307692308\" stroke=\"black\" d=\"M 520 947 880 805\"/>\n<path stroke-width=\"1.2307692307692308\" stroke=\"black\" d=\"M 520 331 880 522\"/>\n<path stroke-width=\"2.6923076923076925\" stroke=\"black\" d=\"M 520 971 880 793\"/>\n<path stroke-width=\"1.9615384615384615\" stroke=\"black\" d=\"M 520 971 880 682\"/>\n<path stroke-width=\"1.9615384615384615\" stroke=\"black\" d=\"M 520 971 880 805\"/>\n<path stroke-width=\"2.6923076923076925\" stroke=\"black\" d=\"M 520 885 880 805\"/>\n<path stroke-width=\"1.2307692307692308\" stroke=\"black\" d=\"M 520 824 880 744\"/>\n<path stroke-width=\"1.9615384615384615\" stroke=\"black\" d=\"M 520 307 880 473\"/>\n<path stroke-width=\"10.0\" stroke=\"black\" d=\"M 520 147 880 325\"/>\n<path stroke-width=\"1.2307692307692308\" stroke=\"black\" d=\"M 520 491 880 657\"/>\n<path stroke-width=\"1.9615384615384615\" stroke=\"black\" d=\"M 520 491 880 670\"/>\n<path stroke-width=\"1.9615384615384615\" stroke=\"black\" d=\"M 520 504 880 657\"/>\n<path stroke-width=\"1.9615384615384615\" stroke=\"black\" d=\"M 520 516 880 657\"/>\n<path stroke-width=\"1.9615384615384615\" stroke=\"black\" d=\"M 520 516 880 670\"/>\n<path stroke-width=\"2.6923076923076925\" stroke=\"black\" d=\"M 520 934 880 805\"/>\n<path stroke-width=\"1.2307692307692308\" stroke=\"black\" d=\"M 520 270 880 448\"/>\n<path stroke-width=\"1.2307692307692308\" stroke=\"black\" d=\"M 520 713 880 719\"/>\n<path stroke-width=\"1.2307692307692308\" stroke=\"black\" d=\"M 520 713 880 707\"/>\n<path stroke-width=\"2.6923076923076925\" stroke=\"black\" d=\"M 520 393 880 547\"/>\n<path stroke-width=\"1.9615384615384615\" stroke=\"black\" d=\"M 520 85 880 264\"/>\n<path stroke-width=\"1.9615384615384615\" stroke=\"black\" d=\"M 520 959 880 805\"/>\n<path stroke-width=\"1.2307692307692308\" stroke=\"black\" d=\"M 520 442 880 633\"/>\n<path stroke-width=\"2.6923076923076925\" stroke=\"black\" d=\"M 520 60 880 239\"/>\n<path stroke-width=\"0.5\" stroke=\"black\" d=\"M 520 257 880 448\"/>\n<path stroke-width=\"1.2307692307692308\" stroke=\"black\" d=\"M 520 737 880 719\"/>\n<path stroke-width=\"1.2307692307692308\" stroke=\"black\" d=\"M 520 380 880 559\"/>\n<path stroke-width=\"2.6923076923076925\" stroke=\"black\" d=\"M 520 380 880 547\"/>\n<path stroke-width=\"2.6923076923076925\" stroke=\"black\" d=\"M 520 984 880 805\"/>\n<path stroke-width=\"2.6923076923076925\" stroke=\"black\" d=\"M 520 454 880 633\"/>\n<path stroke-width=\"1.2307692307692308\" stroke=\"black\" d=\"M 520 651 880 694\"/>\n<path stroke-width=\"1.9615384615384615\" stroke=\"black\" d=\"M 520 651 880 707\"/>\n<path stroke-width=\"2.6923076923076925\" stroke=\"black\" d=\"M 520 442 880 645\"/>\n<path stroke-width=\"1.9615384615384615\" stroke=\"black\" d=\"M 520 824 880 768\"/>\n<circle cx=\"520\" cy=\"688\" r=\"7.0\" style=\"fill:gray;stroke:black;stroke-width:1.0\"/>\n<circle cx=\"520\" cy=\"971\" r=\"7.0\" style=\"fill:gray;stroke:black;stroke-width:1.0\"/>\n<circle cx=\"520\" cy=\"331\" r=\"7.0\" style=\"fill:gray;stroke:black;stroke-width:1.0\"/>\n<circle cx=\"520\" cy=\"947\" r=\"7.0\" style=\"fill:gray;stroke:black;stroke-width:1.0\"/>\n<circle cx=\"520\" cy=\"664\" r=\"7.0\" style=\"fill:gray;stroke:black;stroke-width:1.0\"/>\n<circle cx=\"520\" cy=\"233\" r=\"7.0\" style=\"fill:gray;stroke:black;stroke-width:1.0\"/>\n<circle cx=\"520\" cy=\"787\" r=\"7.0\" style=\"fill:gray;stroke:black;stroke-width:1.0\"/>\n<circle cx=\"520\" cy=\"48\" r=\"7.0\" style=\"fill:gray;stroke:black;stroke-width:1.0\"/>\n<circle cx=\"520\" cy=\"885\" r=\"7.0\" style=\"fill:gray;stroke:black;stroke-width:1.0\"/>\n<circle cx=\"520\" cy=\"639\" r=\"7.0\" style=\"fill:gray;stroke:black;stroke-width:1.0\"/>\n<circle cx=\"520\" cy=\"676\" r=\"7.0\" style=\"fill:gray;stroke:black;stroke-width:1.0\"/>\n<circle cx=\"520\" cy=\"750\" r=\"7.0\" style=\"fill:gray;stroke:black;stroke-width:1.0\"/>\n<circle cx=\"520\" cy=\"614\" r=\"7.0\" style=\"fill:gray;stroke:black;stroke-width:1.0\"/>\n<circle cx=\"520\" cy=\"97\" r=\"7.0\" style=\"fill:gray;stroke:black;stroke-width:1.0\"/>\n<circle cx=\"520\" cy=\"860\" r=\"7.0\" style=\"fill:gray;stroke:black;stroke-width:1.0\"/>\n<circle cx=\"520\" cy=\"836\" r=\"7.0\" style=\"fill:gray;stroke:black;stroke-width:1.0\"/>\n<circle cx=\"520\" cy=\"122\" r=\"7.0\" style=\"fill:gray;stroke:black;stroke-width:1.0\"/>\n<circle cx=\"520\" cy=\"590\" r=\"7.0\" style=\"fill:gray;stroke:black;stroke-width:1.0\"/>\n<circle cx=\"520\" cy=\"307\" r=\"7.0\" style=\"fill:gray;stroke:black;stroke-width:1.0\"/>\n<circle cx=\"520\" cy=\"85\" r=\"7.0\" style=\"fill:gray;stroke:black;stroke-width:1.0\"/>\n<circle cx=\"520\" cy=\"147\" r=\"7.0\" style=\"fill:gray;stroke:black;stroke-width:1.0\"/>\n<circle cx=\"520\" cy=\"651\" r=\"7.0\" style=\"fill:gray;stroke:black;stroke-width:1.0\"/>\n<circle cx=\"520\" cy=\"454\" r=\"7.0\" style=\"fill:gray;stroke:black;stroke-width:1.0\"/>\n<circle cx=\"520\" cy=\"984\" r=\"7.0\" style=\"fill:gray;stroke:black;stroke-width:1.0\"/>\n<circle cx=\"520\" cy=\"380\" r=\"7.0\" style=\"fill:gray;stroke:black;stroke-width:1.0\"/>\n<circle cx=\"520\" cy=\"737\" r=\"7.0\" style=\"fill:gray;stroke:black;stroke-width:1.0\"/>\n<circle cx=\"520\" cy=\"257\" r=\"7.0\" style=\"fill:gray;stroke:black;stroke-width:1.0\"/>\n<circle cx=\"520\" cy=\"60\" r=\"7.0\" style=\"fill:gray;stroke:black;stroke-width:1.0\"/>\n<circle cx=\"520\" cy=\"442\" r=\"7.0\" style=\"fill:gray;stroke:black;stroke-width:1.0\"/>\n<circle cx=\"520\" cy=\"959\" r=\"7.0\" style=\"fill:gray;stroke:black;stroke-width:1.0\"/>\n<circle cx=\"520\" cy=\"393\" r=\"7.0\" style=\"fill:gray;stroke:black;stroke-width:1.0\"/>\n<circle cx=\"520\" cy=\"713\" r=\"7.0\" style=\"fill:gray;stroke:black;stroke-width:1.0\"/>\n<circle cx=\"520\" cy=\"270\" r=\"7.0\" style=\"fill:gray;stroke:black;stroke-width:1.0\"/>\n<circle cx=\"520\" cy=\"934\" r=\"7.0\" style=\"fill:gray;stroke:black;stroke-width:1.0\"/>\n<circle cx=\"520\" cy=\"516\" r=\"7.0\" style=\"fill:gray;stroke:black;stroke-width:1.0\"/>\n<circle cx=\"520\" cy=\"504\" r=\"7.0\" style=\"fill:gray;stroke:black;stroke-width:1.0\"/>\n<circle cx=\"520\" cy=\"491\" r=\"7.0\" style=\"fill:gray;stroke:black;stroke-width:1.0\"/>\n<circle cx=\"520\" cy=\"479\" r=\"7.0\" style=\"fill:gray;stroke:black;stroke-width:1.0\"/>\n<circle cx=\"520\" cy=\"602\" r=\"7.0\" style=\"fill:gray;stroke:black;stroke-width:1.0\"/>\n<circle cx=\"520\" cy=\"467\" r=\"7.0\" style=\"fill:gray;stroke:black;stroke-width:1.0\"/>\n<circle cx=\"520\" cy=\"159\" r=\"7.0\" style=\"fill:gray;stroke:black;stroke-width:1.0\"/>\n<circle cx=\"520\" cy=\"922\" r=\"7.0\" style=\"fill:gray;stroke:black;stroke-width:1.0\"/>\n<circle cx=\"520\" cy=\"577\" r=\"7.0\" style=\"fill:gray;stroke:black;stroke-width:1.0\"/>\n<circle cx=\"520\" cy=\"910\" r=\"7.0\" style=\"fill:gray;stroke:black;stroke-width:1.0\"/>\n<circle cx=\"520\" cy=\"897\" r=\"7.0\" style=\"fill:gray;stroke:black;stroke-width:1.0\"/>\n<circle cx=\"520\" cy=\"848\" r=\"7.0\" style=\"fill:gray;stroke:black;stroke-width:1.0\"/>\n<circle cx=\"520\" cy=\"627\" r=\"7.0\" style=\"fill:gray;stroke:black;stroke-width:1.0\"/>\n<circle cx=\"520\" cy=\"282\" r=\"7.0\" style=\"fill:gray;stroke:black;stroke-width:1.0\"/>\n<circle cx=\"520\" cy=\"417\" r=\"7.0\" style=\"fill:gray;stroke:black;stroke-width:1.0\"/>\n<circle cx=\"520\" cy=\"405\" r=\"7.0\" style=\"fill:gray;stroke:black;stroke-width:1.0\"/>\n<circle cx=\"520\" cy=\"700\" r=\"7.0\" style=\"fill:gray;stroke:black;stroke-width:1.0\"/>\n<circle cx=\"520\" cy=\"171\" r=\"7.0\" style=\"fill:gray;stroke:black;stroke-width:1.0\"/>\n<circle cx=\"520\" cy=\"873\" r=\"7.0\" style=\"fill:gray;stroke:black;stroke-width:1.0\"/>\n<circle cx=\"520\" cy=\"368\" r=\"7.0\" style=\"fill:gray;stroke:black;stroke-width:1.0\"/>\n<circle cx=\"520\" cy=\"356\" r=\"7.0\" style=\"fill:gray;stroke:black;stroke-width:1.0\"/>\n<circle cx=\"520\" cy=\"183\" r=\"7.0\" style=\"fill:gray;stroke:black;stroke-width:1.0\"/>\n<circle cx=\"520\" cy=\"294\" r=\"7.0\" style=\"fill:gray;stroke:black;stroke-width:1.0\"/>\n<circle cx=\"520\" cy=\"528\" r=\"7.0\" style=\"fill:gray;stroke:black;stroke-width:1.0\"/>\n<circle cx=\"520\" cy=\"196\" r=\"7.0\" style=\"fill:gray;stroke:black;stroke-width:1.0\"/>\n<circle cx=\"520\" cy=\"811\" r=\"7.0\" style=\"fill:gray;stroke:black;stroke-width:1.0\"/>\n<circle cx=\"520\" cy=\"110\" r=\"7.0\" style=\"fill:gray;stroke:black;stroke-width:1.0\"/>\n<circle cx=\"520\" cy=\"799\" r=\"7.0\" style=\"fill:gray;stroke:black;stroke-width:1.0\"/>\n<circle cx=\"520\" cy=\"36\" r=\"7.0\" style=\"fill:gray;stroke:black;stroke-width:1.0\"/>\n<circle cx=\"520\" cy=\"565\" r=\"7.0\" style=\"fill:gray;stroke:black;stroke-width:1.0\"/>\n<circle cx=\"520\" cy=\"774\" r=\"7.0\" style=\"fill:gray;stroke:black;stroke-width:1.0\"/>\n<circle cx=\"520\" cy=\"725\" r=\"7.0\" style=\"fill:gray;stroke:black;stroke-width:1.0\"/>\n<circle cx=\"520\" cy=\"430\" r=\"7.0\" style=\"fill:gray;stroke:black;stroke-width:1.0\"/>\n<circle cx=\"520\" cy=\"220\" r=\"7.0\" style=\"fill:gray;stroke:black;stroke-width:1.0\"/>\n<circle cx=\"520\" cy=\"553\" r=\"7.0\" style=\"fill:gray;stroke:black;stroke-width:1.0\"/>\n<circle cx=\"520\" cy=\"344\" r=\"7.0\" style=\"fill:gray;stroke:black;stroke-width:1.0\"/>\n<circle cx=\"520\" cy=\"134\" r=\"7.0\" style=\"fill:gray;stroke:black;stroke-width:1.0\"/>\n<circle cx=\"520\" cy=\"24\" r=\"7.0\" style=\"fill:gray;stroke:black;stroke-width:1.0\"/>\n<circle cx=\"520\" cy=\"73\" r=\"7.0\" style=\"fill:gray;stroke:black;stroke-width:1.0\"/>\n<circle cx=\"520\" cy=\"762\" r=\"7.0\" style=\"fill:gray;stroke:black;stroke-width:1.0\"/>\n<circle cx=\"520\" cy=\"319\" r=\"7.0\" style=\"fill:gray;stroke:black;stroke-width:1.0\"/>\n<circle cx=\"520\" cy=\"208\" r=\"7.0\" style=\"fill:gray;stroke:black;stroke-width:1.0\"/>\n<circle cx=\"520\" cy=\"540\" r=\"7.0\" style=\"fill:gray;stroke:black;stroke-width:1.0\"/>\n<circle cx=\"520\" cy=\"245\" r=\"7.0\" style=\"fill:gray;stroke:black;stroke-width:1.0\"/>\n<circle cx=\"520\" cy=\"824\" r=\"7.0\" style=\"fill:gray;stroke:black;stroke-width:1.0\"/>\n<circle cx=\"880\" cy=\"805\" r=\"7.0\" style=\"fill:gray;stroke:black;stroke-width:1.0\"/>\n<circle cx=\"880\" cy=\"497\" r=\"7.0\" style=\"fill:gray;stroke:black;stroke-width:1.0\"/>\n<circle cx=\"880\" cy=\"350\" r=\"7.0\" style=\"fill:gray;stroke:black;stroke-width:1.0\"/>\n<circle cx=\"880\" cy=\"436\" r=\"7.0\" style=\"fill:gray;stroke:black;stroke-width:1.0\"/>\n<circle cx=\"880\" cy=\"608\" r=\"7.0\" style=\"fill:gray;stroke:black;stroke-width:1.0\"/>\n<circle cx=\"880\" cy=\"756\" r=\"7.0\" style=\"fill:gray;stroke:black;stroke-width:1.0\"/>\n<circle cx=\"880\" cy=\"682\" r=\"7.0\" style=\"fill:gray;stroke:black;stroke-width:1.0\"/>\n<circle cx=\"880\" cy=\"744\" r=\"7.0\" style=\"fill:gray;stroke:black;stroke-width:1.0\"/>\n<circle cx=\"880\" cy=\"707\" r=\"7.0\" style=\"fill:gray;stroke:black;stroke-width:1.0\"/>\n<circle cx=\"880\" cy=\"731\" r=\"7.0\" style=\"fill:gray;stroke:black;stroke-width:1.0\"/>\n<circle cx=\"880\" cy=\"448\" r=\"7.0\" style=\"fill:gray;stroke:black;stroke-width:1.0\"/>\n<circle cx=\"880\" cy=\"633\" r=\"7.0\" style=\"fill:gray;stroke:black;stroke-width:1.0\"/>\n<circle cx=\"880\" cy=\"227\" r=\"7.0\" style=\"fill:gray;stroke:black;stroke-width:1.0\"/>\n<circle cx=\"880\" cy=\"239\" r=\"7.0\" style=\"fill:gray;stroke:black;stroke-width:1.0\"/>\n<circle cx=\"880\" cy=\"251\" r=\"7.0\" style=\"fill:gray;stroke:black;stroke-width:1.0\"/>\n<circle cx=\"880\" cy=\"264\" r=\"7.0\" style=\"fill:gray;stroke:black;stroke-width:1.0\"/>\n<circle cx=\"880\" cy=\"276\" r=\"7.0\" style=\"fill:gray;stroke:black;stroke-width:1.0\"/>\n<circle cx=\"880\" cy=\"399\" r=\"7.0\" style=\"fill:gray;stroke:black;stroke-width:1.0\"/>\n<circle cx=\"880\" cy=\"547\" r=\"7.0\" style=\"fill:gray;stroke:black;stroke-width:1.0\"/>\n<circle cx=\"880\" cy=\"288\" r=\"7.0\" style=\"fill:gray;stroke:black;stroke-width:1.0\"/>\n<circle cx=\"880\" cy=\"510\" r=\"7.0\" style=\"fill:gray;stroke:black;stroke-width:1.0\"/>\n<circle cx=\"880\" cy=\"694\" r=\"7.0\" style=\"fill:gray;stroke:black;stroke-width:1.0\"/>\n<circle cx=\"880\" cy=\"300\" r=\"7.0\" style=\"fill:gray;stroke:black;stroke-width:1.0\"/>\n<circle cx=\"880\" cy=\"313\" r=\"7.0\" style=\"fill:gray;stroke:black;stroke-width:1.0\"/>\n<circle cx=\"880\" cy=\"325\" r=\"7.0\" style=\"fill:gray;stroke:black;stroke-width:1.0\"/>\n<circle cx=\"880\" cy=\"423\" r=\"7.0\" style=\"fill:gray;stroke:black;stroke-width:1.0\"/>\n<circle cx=\"880\" cy=\"485\" r=\"7.0\" style=\"fill:gray;stroke:black;stroke-width:1.0\"/>\n<circle cx=\"880\" cy=\"768\" r=\"7.0\" style=\"fill:gray;stroke:black;stroke-width:1.0\"/>\n<circle cx=\"880\" cy=\"337\" r=\"7.0\" style=\"fill:gray;stroke:black;stroke-width:1.0\"/>\n<circle cx=\"880\" cy=\"473\" r=\"7.0\" style=\"fill:gray;stroke:black;stroke-width:1.0\"/>\n<circle cx=\"880\" cy=\"559\" r=\"7.0\" style=\"fill:gray;stroke:black;stroke-width:1.0\"/>\n<circle cx=\"880\" cy=\"214\" r=\"7.0\" style=\"fill:gray;stroke:black;stroke-width:1.0\"/>\n<circle cx=\"880\" cy=\"387\" r=\"7.0\" style=\"fill:gray;stroke:black;stroke-width:1.0\"/>\n<circle cx=\"880\" cy=\"719\" r=\"7.0\" style=\"fill:gray;stroke:black;stroke-width:1.0\"/>\n<circle cx=\"880\" cy=\"780\" r=\"7.0\" style=\"fill:gray;stroke:black;stroke-width:1.0\"/>\n<circle cx=\"880\" cy=\"583\" r=\"7.0\" style=\"fill:gray;stroke:black;stroke-width:1.0\"/>\n<circle cx=\"880\" cy=\"645\" r=\"7.0\" style=\"fill:gray;stroke:black;stroke-width:1.0\"/>\n<circle cx=\"880\" cy=\"670\" r=\"7.0\" style=\"fill:gray;stroke:black;stroke-width:1.0\"/>\n<circle cx=\"880\" cy=\"522\" r=\"7.0\" style=\"fill:gray;stroke:black;stroke-width:1.0\"/>\n<circle cx=\"880\" cy=\"793\" r=\"7.0\" style=\"fill:gray;stroke:black;stroke-width:1.0\"/>\n<circle cx=\"880\" cy=\"411\" r=\"7.0\" style=\"fill:gray;stroke:black;stroke-width:1.0\"/>\n<circle cx=\"880\" cy=\"596\" r=\"7.0\" style=\"fill:gray;stroke:black;stroke-width:1.0\"/>\n<circle cx=\"880\" cy=\"657\" r=\"7.0\" style=\"fill:gray;stroke:black;stroke-width:1.0\"/>\n<circle cx=\"880\" cy=\"571\" r=\"7.0\" style=\"fill:gray;stroke:black;stroke-width:1.0\"/>\n<circle cx=\"880\" cy=\"460\" r=\"7.0\" style=\"fill:gray;stroke:black;stroke-width:1.0\"/>\n<circle cx=\"880\" cy=\"374\" r=\"7.0\" style=\"fill:gray;stroke:black;stroke-width:1.0\"/>\n<circle cx=\"880\" cy=\"620\" r=\"7.0\" style=\"fill:gray;stroke:black;stroke-width:1.0\"/>\n<circle cx=\"880\" cy=\"362\" r=\"7.0\" style=\"fill:gray;stroke:black;stroke-width:1.0\"/>\n<circle cx=\"880\" cy=\"534\" r=\"7.0\" style=\"fill:gray;stroke:black;stroke-width:1.0\"/>\n<circle cx=\"880\" cy=\"202\" r=\"7.0\" style=\"fill:gray;stroke:black;stroke-width:1.0\"/>\n<text text-anchor=\"end\" x=\"510\" y=\"688\" font-size=\"12\">Monster</text><text text-anchor=\"end\" x=\"510\" y=\"971\" font-size=\"12\">Neon Genesis Evangelion: The End of Evangelion</text><text text-anchor=\"end\" x=\"510\" y=\"331\" font-size=\"12\">Kenpuu Denki Berserk</text><text text-anchor=\"end\" x=\"510\" y=\"947\" font-size=\"12\">Hunter x Hunter</text><text text-anchor=\"end\" x=\"510\" y=\"664\" font-size=\"12\">Mononoke Hime</text><text text-anchor=\"end\" x=\"510\" y=\"233\" font-size=\"12\">Sen to Chihiro no Kamikakushi</text><text text-anchor=\"end\" x=\"510\" y=\"787\" font-size=\"12\">Samurai Champloo</text><text text-anchor=\"end\" x=\"510\" y=\"48\" font-size=\"12\">Great Teacher Onizuka</text><text text-anchor=\"end\" x=\"510\" y=\"885\" font-size=\"12\">Hajime no Ippo</text><text text-anchor=\"end\" x=\"510\" y=\"639\" font-size=\"12\">Perfect Blue</text><text text-anchor=\"end\" x=\"510\" y=\"676\" font-size=\"12\">Hotaru no Haka</text><text text-anchor=\"end\" x=\"510\" y=\"750\" font-size=\"12\">Hellsing Ultimate</text><text text-anchor=\"end\" x=\"510\" y=\"614\" font-size=\"12\">Death Note</text><text text-anchor=\"end\" x=\"510\" y=\"97\" font-size=\"12\">Tengen Toppa Gurren Lagann</text><text text-anchor=\"end\" x=\"510\" y=\"860\" font-size=\"12\">Mononoke</text><text text-anchor=\"end\" x=\"510\" y=\"836\" font-size=\"12\">Code Geass: Hangyaku no Lelouch R2</text><text text-anchor=\"end\" x=\"510\" y=\"122\" font-size=\"12\">Ashita no Joe 2</text><text text-anchor=\"end\" x=\"510\" y=\"590\" font-size=\"12\">Evangelion: 3.0+1.0 Thrice Upon a Time</text><text text-anchor=\"end\" x=\"510\" y=\"307\" font-size=\"12\">Kara no Kyoukai Movie 5: Mujun Rasen</text><text text-anchor=\"end\" x=\"510\" y=\"85\" font-size=\"12\">Major S5</text><text text-anchor=\"end\" x=\"510\" y=\"147\" font-size=\"12\">Fullmetal Alchemist: Brotherhood</text><text text-anchor=\"end\" x=\"510\" y=\"651\" font-size=\"12\">Zoku Natsume Yuujinchou</text><text text-anchor=\"end\" x=\"510\" y=\"454\" font-size=\"12\">Suzumiya Haruhi no Shoushitsu</text><text text-anchor=\"end\" x=\"510\" y=\"984\" font-size=\"12\">Kizumonogatari I: Tekketsu-hen</text><text text-anchor=\"end\" x=\"510\" y=\"380\" font-size=\"12\">K-On! Movie</text><text text-anchor=\"end\" x=\"510\" y=\"737\" font-size=\"12\">Mahou Shoujo Madoka\\xe2\\x98\\x85Magica</text><text text-anchor=\"end\" x=\"510\" y=\"257\" font-size=\"12\">Bakuman. 2nd Season</text><text text-anchor=\"end\" x=\"510\" y=\"60\" font-size=\"12\">Usagi Drop</text><text text-anchor=\"end\" x=\"510\" y=\"442\" font-size=\"12\">Steins;Gate Movie: Fuka Ryouiki no D\\xc3\\xa9j\\xc3\\xa0 vu</text><text text-anchor=\"end\" x=\"510\" y=\"959\" font-size=\"12\">Fate/Zero 2nd Season</text><text text-anchor=\"end\" x=\"510\" y=\"393\" font-size=\"12\">Mahou Shoujo Madoka\\xe2\\x98\\x85Magica Movie 3: Hangyaku no Monogatari</text><text text-anchor=\"end\" x=\"510\" y=\"713\" font-size=\"12\">Ookami Kodomo no Ame to Yuki</text><text text-anchor=\"end\" x=\"510\" y=\"270\" font-size=\"12\">Bakuman. 3rd Season</text><text text-anchor=\"end\" x=\"510\" y=\"934\" font-size=\"12\">Monogatari Series: Second Season</text><text text-anchor=\"end\" x=\"510\" y=\"516\" font-size=\"12\">Mushishi: Hihamukage</text><text text-anchor=\"end\" x=\"510\" y=\"504\" font-size=\"12\">Mushishi Zoku Shou</text><text text-anchor=\"end\" x=\"510\" y=\"491\" font-size=\"12\">Mushishi Zoku Shou: Odoro no Michi</text><text text-anchor=\"end\" x=\"510\" y=\"479\" font-size=\"12\">Mushishi Zoku Shou 2nd Season</text><text text-anchor=\"end\" x=\"510\" y=\"602\" font-size=\"12\">JoJo no Kimyou na Bouken Part 3: Stardust Crusaders 2nd Season</text><text text-anchor=\"end\" x=\"510\" y=\"467\" font-size=\"12\">Mushishi Zoku Shou: Suzu no Shizuku</text><text text-anchor=\"end\" x=\"510\" y=\"159\" font-size=\"12\">One Punch Man</text><text text-anchor=\"end\" x=\"510\" y=\"922\" font-size=\"12\">Steins;Gate 0</text><text text-anchor=\"end\" x=\"510\" y=\"577\" font-size=\"12\">Ansatsu Kyoushitsu 2nd Season</text><text text-anchor=\"end\" x=\"510\" y=\"910\" font-size=\"12\">Owarimonogatari</text><text text-anchor=\"end\" x=\"510\" y=\"897\" font-size=\"12\">Kizumonogatari II: Nekketsu-hen</text><text text-anchor=\"end\" x=\"510\" y=\"848\" font-size=\"12\">Kizumonogatari III: Reiketsu-hen</text><text text-anchor=\"end\" x=\"510\" y=\"627\" font-size=\"12\">JoJo no Kimyou na Bouken Part 4: Diamond wa Kudakenai</text><text text-anchor=\"end\" x=\"510\" y=\"282\" font-size=\"12\">Mob Psycho 100</text><text text-anchor=\"end\" x=\"510\" y=\"417\" font-size=\"12\">Fate/stay night Movie: Heaven's Feel - II. Lost Butterfly</text><text text-anchor=\"end\" x=\"510\" y=\"405\" font-size=\"12\">Fate/stay night Movie: Heaven's Feel - III. Spring Song</text><text text-anchor=\"end\" x=\"510\" y=\"700\" font-size=\"12\">Saiki Kusuo no \\xce\\xa8-nan</text><text text-anchor=\"end\" x=\"510\" y=\"171\" font-size=\"12\">Made in Abyss</text><text text-anchor=\"end\" x=\"510\" y=\"873\" font-size=\"12\">Owarimonogatari 2nd Season</text><text text-anchor=\"end\" x=\"510\" y=\"368\" font-size=\"12\">Gintama.: Porori-hen</text><text text-anchor=\"end\" x=\"510\" y=\"356\" font-size=\"12\">Gintama.: Shirogane no Tamashii-hen</text><text text-anchor=\"end\" x=\"510\" y=\"183\" font-size=\"12\">Zoku Owarimonogatari</text><text text-anchor=\"end\" x=\"510\" y=\"294\" font-size=\"12\">Mob Psycho 100 II</text><text text-anchor=\"end\" x=\"510\" y=\"528\" font-size=\"12\">JoJo no Kimyou na Bouken Part 5: Ougon no Kaze</text><text text-anchor=\"end\" x=\"510\" y=\"196\" font-size=\"12\">Seishun Buta Yarou wa Yumemiru Shoujo no Yume wo Minai</text><text text-anchor=\"end\" x=\"510\" y=\"811\" font-size=\"12\">Haikyuu!! To the Top</text><text text-anchor=\"end\" x=\"510\" y=\"110\" font-size=\"12\">Kono Oto Tomare! Part 2</text><text text-anchor=\"end\" x=\"510\" y=\"799\" font-size=\"12\">Mushoku Tensei: Isekai Ittara Honki Dasu</text><text text-anchor=\"end\" x=\"510\" y=\"36\" font-size=\"12\">Yahari Ore no Seishun Love Comedy wa Machigatteiru. Kan</text><text text-anchor=\"end\" x=\"510\" y=\"565\" font-size=\"12\">Re:Zero kara Hajimeru Isekai Seikatsu 2nd Season</text><text text-anchor=\"end\" x=\"510\" y=\"774\" font-size=\"12\">Violet Evergarden Gaiden: Eien to Jidou Shuki Ningyou</text><text text-anchor=\"end\" x=\"510\" y=\"725\" font-size=\"12\">Kimetsu no Yaiba Movie: Mugen Ressha-hen</text><text text-anchor=\"end\" x=\"510\" y=\"430\" font-size=\"12\">Shoujo\\xe2\\x98\\x86Kageki Revue Starlight Movie</text><text text-anchor=\"end\" x=\"510\" y=\"220\" font-size=\"12\">Josee to Tora to Sakana-tachi</text><text text-anchor=\"end\" x=\"510\" y=\"553\" font-size=\"12\">Re:Zero kara Hajimeru Isekai Seikatsu 2nd Season Part 2</text><text text-anchor=\"end\" x=\"510\" y=\"344\" font-size=\"12\">Fruits Basket: The Final</text><text text-anchor=\"end\" x=\"510\" y=\"134\" font-size=\"12\">Kaguya-sama wa Kokurasetai: Ultra Romantic</text><text text-anchor=\"end\" x=\"510\" y=\"24\" font-size=\"12\">Tian Guan Ci Fu Special</text><text text-anchor=\"end\" x=\"510\" y=\"73\" font-size=\"12\">Shiguang Dailiren</text><text text-anchor=\"end\" x=\"510\" y=\"762\" font-size=\"12\">Kimetsu no Yaiba: Yuukaku-hen</text><text text-anchor=\"end\" x=\"510\" y=\"319\" font-size=\"12\">86 Part 2</text><text text-anchor=\"end\" x=\"510\" y=\"208\" font-size=\"12\">Shingeki no Kyojin: The Final Season Part 2</text><text text-anchor=\"end\" x=\"510\" y=\"540\" font-size=\"12\">JoJo no Kimyou na Bouken Part 6: Stone Ocean</text><text text-anchor=\"end\" x=\"510\" y=\"245\" font-size=\"12\">Kotarou wa Hitorigurashi</text><text text-anchor=\"end\" x=\"510\" y=\"824\" font-size=\"12\">Kimetsu no Yaiba: Mugen Ressha-hen</text></svg>",
      "text/plain": [
       "<IPython.core.display.SVG object>"
      ]
     },
     "execution_count": 23,
     "metadata": {},
     "output_type": "execute_result"
    }
   ],
   "source": [
    "# For better visibility, we only view the ratings of the first max_visu_users=50 users.\n",
    "\n",
    "# We pick a good seed for visualization.\n",
    "rng = np.random.RandomState(seed=5)\n",
    "\n",
    "max_visu_users = 50\n",
    "visualization_index = rng.choice(biadjacency.shape[1], size=max_visu_users, replace=False)\n",
    "\n",
    "# Retrieve the animes rated by the users with a mask\n",
    "truncated_biadjacency = biadjacency[:, visualization_index]\n",
    "mask = np.sum(truncated_biadjacency, axis=1) > 0\n",
    "mask = np.array(mask).flatten()\n",
    "\n",
    "image = svg_bigraph(truncated_biadjacency[mask], names[mask], height=800, width = 300, scale = 1.2)\n",
    "SVG(image)"
   ]
  },
  {
   "cell_type": "markdown",
   "metadata": {},
   "source": [
    "The popular animes are the ones with many incoming vertices. The users, represented by the nodes on the right side, are made anonymous (their username has no relevance here)."
   ]
  },
  {
   "cell_type": "code",
   "execution_count": 24,
   "metadata": {},
   "outputs": [
    {
     "data": {
      "text/plain": [
       "(199, 16835)"
      ]
     },
     "execution_count": 24,
     "metadata": {},
     "output_type": "execute_result"
    }
   ],
   "source": [
    "biadjacency.shape"
   ]
  },
  {
   "cell_type": "markdown",
   "metadata": {},
   "source": [
    "## Pagerank"
   ]
  },
  {
   "cell_type": "markdown",
   "metadata": {},
   "source": [
    "We can attempt to use personalized PageRank to get the most popular movies of each genre."
   ]
  },
  {
   "cell_type": "markdown",
   "metadata": {},
   "source": [
    "Since we already have the top animes in order in the dataframe, we can see if they match the prediction given by a PageRank."
   ]
  },
  {
   "cell_type": "code",
   "execution_count": 25,
   "metadata": {},
   "outputs": [],
   "source": [
    "pagerank = PageRank()"
   ]
  },
  {
   "cell_type": "code",
   "execution_count": 26,
   "metadata": {},
   "outputs": [],
   "source": [
    "# Get the good positive ratings.\n",
    "positive = biadjacency >= 1"
   ]
  },
  {
   "cell_type": "code",
   "execution_count": 27,
   "metadata": {},
   "outputs": [
    {
     "data": {
      "text/plain": [
       "array(['Kimetsu no Yaiba Movie: Mugen Ressha-hen', 'Koe no Katachi',\n",
       "       'Sen to Chihiro no Kamikakushi', 'Howl no Ugoku Shiro',\n",
       "       'Violet Evergarden Gaiden: Eien to Jidou Shuki Ningyou',\n",
       "       'Yakusoku no Neverland', 'Kimi no Na wa.', 'Shingeki no Kyojin',\n",
       "       'One Punch Man', 'Shingeki no Kyojin Season 3',\n",
       "       'Shingeki no Kyojin: The Final Season Part 2',\n",
       "       'Shingeki no Kyojin Season 2',\n",
       "       'Haikyuu!!: Karasuno Koukou vs. Shiratorizawa Gakuen Koukou',\n",
       "       'Death Note', 'Evangelion: 3.0+1.0 Thrice Upon a Time',\n",
       "       'Mononoke Hime',\n",
       "       'Steins;Gate Movie: Fuka Ryouiki no D\\\\xc3\\\\xa9j\\\\xc3\\\\xa0 vu',\n",
       "       'Seishun Buta Yarou wa Yumemiru Shoujo no Yume wo Minai',\n",
       "       'Neon Genesis Evangelion: The End of Evangelion',\n",
       "       'Made in Abyss Movie 3: Fukaki Tamashii no Reimei'], dtype='<U69')"
      ]
     },
     "execution_count": 27,
     "metadata": {},
     "output_type": "execute_result"
    }
   ],
   "source": [
    "# Top 20 animes according to pagerank\n",
    "scores = pagerank.fit_transform(positive)\n",
    "names[top_k(scores, 20)]"
   ]
  },
  {
   "cell_type": "code",
   "execution_count": 28,
   "metadata": {},
   "outputs": [
    {
     "data": {
      "text/html": [
       "<div>\n",
       "<style scoped>\n",
       "    .dataframe tbody tr th:only-of-type {\n",
       "        vertical-align: middle;\n",
       "    }\n",
       "\n",
       "    .dataframe tbody tr th {\n",
       "        vertical-align: top;\n",
       "    }\n",
       "\n",
       "    .dataframe thead th {\n",
       "        text-align: right;\n",
       "    }\n",
       "</style>\n",
       "<table border=\"1\" class=\"dataframe\">\n",
       "  <thead>\n",
       "    <tr style=\"text-align: right;\">\n",
       "      <th></th>\n",
       "      <th>anime_id</th>\n",
       "      <th>name</th>\n",
       "      <th>genre</th>\n",
       "      <th>type</th>\n",
       "      <th>episodes</th>\n",
       "      <th>rating</th>\n",
       "      <th>members</th>\n",
       "    </tr>\n",
       "  </thead>\n",
       "  <tbody>\n",
       "    <tr>\n",
       "      <th>0</th>\n",
       "      <td>5114</td>\n",
       "      <td>Fullmetal Alchemist: Brotherhood</td>\n",
       "      <td>['Action', 'Adventure', 'Drama', 'Fantasy']</td>\n",
       "      <td>TV</td>\n",
       "      <td>64.0</td>\n",
       "      <td>9.14</td>\n",
       "      <td>2893493</td>\n",
       "    </tr>\n",
       "    <tr>\n",
       "      <th>1</th>\n",
       "      <td>28977</td>\n",
       "      <td>Gintama\\xc2\\xb0</td>\n",
       "      <td>['Action', 'Comedy', 'Sci-Fi']</td>\n",
       "      <td>TV</td>\n",
       "      <td>51.0</td>\n",
       "      <td>9.08</td>\n",
       "      <td>536990</td>\n",
       "    </tr>\n",
       "    <tr>\n",
       "      <th>2</th>\n",
       "      <td>9253</td>\n",
       "      <td>Steins;Gate</td>\n",
       "      <td>['Drama', 'Sci-Fi', 'Suspense']</td>\n",
       "      <td>TV</td>\n",
       "      <td>24.0</td>\n",
       "      <td>9.08</td>\n",
       "      <td>2245646</td>\n",
       "    </tr>\n",
       "    <tr>\n",
       "      <th>3</th>\n",
       "      <td>38524</td>\n",
       "      <td>Shingeki no Kyojin Season 3 Part 2</td>\n",
       "      <td>['Action', 'Drama']</td>\n",
       "      <td>TV</td>\n",
       "      <td>10.0</td>\n",
       "      <td>9.07</td>\n",
       "      <td>1847582</td>\n",
       "    </tr>\n",
       "    <tr>\n",
       "      <th>4</th>\n",
       "      <td>9969</td>\n",
       "      <td>Gintama'</td>\n",
       "      <td>['Action', 'Comedy', 'Sci-Fi']</td>\n",
       "      <td>TV</td>\n",
       "      <td>51.0</td>\n",
       "      <td>9.05</td>\n",
       "      <td>473413</td>\n",
       "    </tr>\n",
       "    <tr>\n",
       "      <th>5</th>\n",
       "      <td>39486</td>\n",
       "      <td>Gintama: The Final</td>\n",
       "      <td>['Action', 'Comedy', 'Drama', 'Sci-Fi']</td>\n",
       "      <td>Movie</td>\n",
       "      <td>1.0</td>\n",
       "      <td>9.05</td>\n",
       "      <td>103872</td>\n",
       "    </tr>\n",
       "    <tr>\n",
       "      <th>6</th>\n",
       "      <td>11061</td>\n",
       "      <td>Hunter x Hunter (2011)</td>\n",
       "      <td>['Action', 'Adventure', 'Fantasy']</td>\n",
       "      <td>TV</td>\n",
       "      <td>148.0</td>\n",
       "      <td>9.05</td>\n",
       "      <td>2382619</td>\n",
       "    </tr>\n",
       "    <tr>\n",
       "      <th>7</th>\n",
       "      <td>15417</td>\n",
       "      <td>Gintama': Enchousen</td>\n",
       "      <td>['Action', 'Comedy', 'Sci-Fi']</td>\n",
       "      <td>TV</td>\n",
       "      <td>13.0</td>\n",
       "      <td>9.04</td>\n",
       "      <td>282329</td>\n",
       "    </tr>\n",
       "    <tr>\n",
       "      <th>8</th>\n",
       "      <td>42938</td>\n",
       "      <td>Fruits Basket: The Final</td>\n",
       "      <td>['Drama', 'Romance', 'Supernatural']</td>\n",
       "      <td>TV</td>\n",
       "      <td>13.0</td>\n",
       "      <td>9.03</td>\n",
       "      <td>350828</td>\n",
       "    </tr>\n",
       "    <tr>\n",
       "      <th>9</th>\n",
       "      <td>820</td>\n",
       "      <td>Ginga Eiyuu Densetsu</td>\n",
       "      <td>['Drama', 'Sci-Fi']</td>\n",
       "      <td>OVA</td>\n",
       "      <td>110.0</td>\n",
       "      <td>9.03</td>\n",
       "      <td>280661</td>\n",
       "    </tr>\n",
       "  </tbody>\n",
       "</table>\n",
       "</div>"
      ],
      "text/plain": [
       "   anime_id                                name  \\\n",
       "0      5114    Fullmetal Alchemist: Brotherhood   \n",
       "1     28977                     Gintama\\xc2\\xb0   \n",
       "2      9253                         Steins;Gate   \n",
       "3     38524  Shingeki no Kyojin Season 3 Part 2   \n",
       "4      9969                            Gintama'   \n",
       "5     39486                  Gintama: The Final   \n",
       "6     11061              Hunter x Hunter (2011)   \n",
       "7     15417                 Gintama': Enchousen   \n",
       "8     42938            Fruits Basket: The Final   \n",
       "9       820                Ginga Eiyuu Densetsu   \n",
       "\n",
       "                                         genre   type  episodes  rating  \\\n",
       "0  ['Action', 'Adventure', 'Drama', 'Fantasy']     TV      64.0    9.14   \n",
       "1               ['Action', 'Comedy', 'Sci-Fi']     TV      51.0    9.08   \n",
       "2              ['Drama', 'Sci-Fi', 'Suspense']     TV      24.0    9.08   \n",
       "3                          ['Action', 'Drama']     TV      10.0    9.07   \n",
       "4               ['Action', 'Comedy', 'Sci-Fi']     TV      51.0    9.05   \n",
       "5      ['Action', 'Comedy', 'Drama', 'Sci-Fi']  Movie       1.0    9.05   \n",
       "6           ['Action', 'Adventure', 'Fantasy']     TV     148.0    9.05   \n",
       "7               ['Action', 'Comedy', 'Sci-Fi']     TV      13.0    9.04   \n",
       "8         ['Drama', 'Romance', 'Supernatural']     TV      13.0    9.03   \n",
       "9                          ['Drama', 'Sci-Fi']    OVA     110.0    9.03   \n",
       "\n",
       "   members  \n",
       "0  2893493  \n",
       "1   536990  \n",
       "2  2245646  \n",
       "3  1847582  \n",
       "4   473413  \n",
       "5   103872  \n",
       "6  2382619  \n",
       "7   282329  \n",
       "8   350828  \n",
       "9   280661  "
      ]
     },
     "execution_count": 28,
     "metadata": {},
     "output_type": "execute_result"
    }
   ],
   "source": [
    "anime_df[:10]"
   ]
  },
  {
   "cell_type": "markdown",
   "metadata": {},
   "source": [
    "The top ranking doesn't match at all.\n",
    "\n",
    "This can be explained by the fact that while the rating entries were sampled from recent entries (June 2022), many of the top animes are rather old."
   ]
  },
  {
   "cell_type": "code",
   "execution_count": 29,
   "metadata": {},
   "outputs": [
    {
     "name": "stdout",
     "output_type": "stream",
     "text": [
      "---\n",
      "0 \n",
      "['Paripi Koumei' 'Shoujo\\\\xe2\\\\x98\\\\x86Kageki Revue Starlight Movie'\n",
      " 'Yoru ni Kakeru' 'Kizumonogatari I: Tekketsu-hen'\n",
      " 'Haikyuu!!: Karasuno Koukou vs. Shiratorizawa Gakuen Koukou'\n",
      " 'Saenai Heroine no Sodatekata Fine' 'Zoku Owarimonogatari'\n",
      " 'Mob Psycho 100' 'Grand Blue' 'Mo Dao Zu Shi']\n",
      "---\n",
      "1 Action\n",
      "['One Piece' 'Wu Liuqi Zhi Xuanwu Guo Pian'\n",
      " 'Gintama Movie 1: Shinyaku Benizakura-hen' 'Kingdom 3rd Season'\n",
      " 'Shingeki no Kyojin: The Final Season Part 2' 'Gintama: The Semi-Final'\n",
      " 'Gintama Movie 2: Kanketsu-hen - Yorozuya yo Eien Nare'\n",
      " 'Kingdom 2nd Season' 'Gintama' 'Gintama: The Final']\n",
      "---\n",
      "2 Adventure\n",
      "['One Piece' 'Wu Liuqi Zhi Xuanwu Guo Pian'\n",
      " 'Made in Abyss Movie 3: Fukaki Tamashii no Reimei'\n",
      " 'Mushishi Zoku Shou: Odoro no Michi'\n",
      " 'Made in Abyss Movie 2: Hourou Suru Tasogare'\n",
      " 'Kaze no Tani no Nausica\\\\xc3\\\\xa4' 'Mushishi: Hihamukage'\n",
      " 'Tian Guan Ci Fu' 'Mushishi Zoku Shou: Suzu no Shizuku' 'Ousama Ranking']\n",
      "---\n",
      "3 Avant Garde\n",
      "['Perfect Blue' 'Neon Genesis Evangelion: The End of Evangelion']\n",
      "---\n",
      "4 Award Winning\n",
      "['Sen to Chihiro no Kamikakushi']\n",
      "---\n",
      "5 Boys Love\n",
      "['Given']\n",
      "---\n",
      "6 Comedy\n",
      "['Gintama: The Semi-Final' 'Gintama Movie 1: Shinyaku Benizakura-hen'\n",
      " 'Wu Liuqi Zhi Xuanwu Guo Pian'\n",
      " 'Gintama Movie 2: Kanketsu-hen - Yorozuya yo Eien Nare'\n",
      " 'Kaguya-sama wa Kokurasetai: Ultra Romantic' 'Gintama: The Final'\n",
      " 'Gintama\\\\xc2\\\\xb0: Aizome Kaori-hen' 'Major S5' \"Gintama': Enchousen\"\n",
      " 'Gintama']\n",
      "---\n",
      "7 Drama\n",
      "['Wu Liuqi Zhi Xuanwu Guo Pian' 'Fruits Basket: Prelude'\n",
      " 'Made in Abyss Movie 3: Fukaki Tamashii no Reimei'\n",
      " 'Tian Guan Ci Fu Special' 'Major S5' 'Natsume Yuujinchou Roku Specials'\n",
      " 'Violet Evergarden Gaiden: Eien to Jidou Shuki Ningyou'\n",
      " 'Mahou Shoujo Madoka\\\\xe2\\\\x98\\\\x85Magica Movie 3: Hangyaku no Monogatari'\n",
      " 'Koe no Katachi' 'Evangelion: 3.0+1.0 Thrice Upon a Time']\n",
      "---\n",
      "8 Ecchi\n",
      "['Saenai Heroine no Sodatekata Fine'\n",
      " 'Mushoku Tensei: Isekai Ittara Honki Dasu Part 2'\n",
      " 'Mushoku Tensei: Isekai Ittara Honki Dasu']\n",
      "---\n",
      "9 Fantasy\n",
      "['One Piece' 'Made in Abyss Movie 3: Fukaki Tamashii no Reimei'\n",
      " 'Mushishi Zoku Shou: Odoro no Michi'\n",
      " 'Made in Abyss Movie 2: Hourou Suru Tasogare'\n",
      " 'Violet Evergarden Gaiden: Eien to Jidou Shuki Ningyou'\n",
      " 'Kamisama Hajimemashita: Kako-hen' 'Mushishi: Hihamukage'\n",
      " 'Kaze no Tani no Nausica\\\\xc3\\\\xa4' 'Ousama Ranking'\n",
      " 'Jujutsu Kaisen 0 Movie']\n",
      "---\n",
      "10 Horror\n",
      "['Kenpuu Denki Berserk' 'Mononoke' 'Perfect Blue' 'Hellsing Ultimate'\n",
      " 'Kiseijuu: Sei no Kakuritsu']\n",
      "---\n",
      "11 Mystery\n",
      "['Summertime Render' 'Wu Liuqi Zhi Xuanwu Guo Pian'\n",
      " 'Made in Abyss Movie 3: Fukaki Tamashii no Reimei'\n",
      " 'Mushishi Zoku Shou: Odoro no Michi'\n",
      " 'Kara no Kyoukai Movie 7: Satsujin Kousatsu (Go)'\n",
      " 'Made in Abyss Movie 2: Hourou Suru Tasogare' 'Mushishi: Hihamukage'\n",
      " 'Kara no Kyoukai Movie 5: Mujun Rasen' 'Zoku Owarimonogatari'\n",
      " 'Mushishi Zoku Shou: Suzu no Shizuku']\n",
      "---\n",
      "12 Romance\n",
      "['Fruits Basket: Prelude' 'Major S5' 'Sono Bisque Doll wa Koi wo Suru'\n",
      " 'Saenai Heroine no Sodatekata Fine'\n",
      " 'Kara no Kyoukai Movie 7: Satsujin Kousatsu (Go)'\n",
      " 'Kono Oto Tomare! Part 2' 'Kara no Kyoukai Movie 5: Mujun Rasen'\n",
      " 'Kamisama Hajimemashita: Kako-hen' 'Cross Game' 'Bakuman. 2nd Season']\n",
      "---\n",
      "13 Sci-Fi\n",
      "['Gintama Movie 1: Shinyaku Benizakura-hen'\n",
      " 'Gintama Movie 2: Kanketsu-hen - Yorozuya yo Eien Nare' 'Gintama'\n",
      " 'Made in Abyss Movie 3: Fukaki Tamashii no Reimei' \"Gintama': Enchousen\"\n",
      " 'Gintama: The Final' 'Ginga Eiyuu Densetsu'\n",
      " 'Gintama.: Shirogane no Tamashii-hen' 'Cowboy Bebop: Tengoku no Tobira'\n",
      " 'Made in Abyss Movie 2: Hourou Suru Tasogare']\n",
      "---\n",
      "14 Slice of Life\n",
      "['Natsume Yuujinchou Roku Specials' 'Mushishi Zoku Shou: Odoro no Michi'\n",
      " 'Natsume Yuujinchou Movie: Utsusemi ni Musubu' 'Zoku Natsume Yuujinchou'\n",
      " 'Mushishi: Hihamukage' 'Sono Bisque Doll wa Koi wo Suru'\n",
      " 'Natsume Yuujinchou Go' 'Natsume Yuujinchou Roku'\n",
      " 'Kotarou wa Hitorigurashi' 'Mushishi Zoku Shou: Suzu no Shizuku']\n",
      "---\n",
      "15 Sports\n",
      "['Major S5' 'Cross Game' 'Ashita no Joe 2'\n",
      " 'Hajime no Ippo: New Challenger' 'Hajime no Ippo: Rising' 'Chihayafuru 3'\n",
      " 'Chihayafuru 2' 'Hajime no Ippo' 'Kaze ga Tsuyoku Fuiteiru' 'Slam Dunk']\n",
      "---\n",
      "16 Supernatural\n",
      "['Tian Guan Ci Fu Special' 'Summertime Render'\n",
      " 'Natsume Yuujinchou Roku Specials' 'Mo Dao Zu Shi: Xian Yun Pian'\n",
      " 'Mushishi Zoku Shou: Odoro no Michi' 'Tian Guan Ci Fu'\n",
      " 'Natsume Yuujinchou Movie: Utsusemi ni Musubu' 'Zoku Natsume Yuujinchou'\n",
      " 'Mushishi: Hihamukage' 'Mo Dao Zu Shi: Wanjie Pian']\n",
      "---\n",
      "17 Suspense\n",
      "['Summertime Render' 'Kaguya-sama wa Kokurasetai: Ultra Romantic'\n",
      " 'Mahou Shoujo Madoka\\\\xe2\\\\x98\\\\x85Magica Movie 3: Hangyaku no Monogatari'\n",
      " 'Kara no Kyoukai Movie 7: Satsujin Kousatsu (Go)' 'Monster'\n",
      " 'Kara no Kyoukai Movie 5: Mujun Rasen'\n",
      " 'Mahou Shoujo Madoka\\\\xe2\\\\x98\\\\x85Magica Movie 2: Eien no Monogatari'\n",
      " 'Rainbow: Nisha Rokubou no Shichinin'\n",
      " 'Mahou Shoujo Madoka\\\\xe2\\\\x98\\\\x85Magica' \"Vivy: Fluorite Eye's Song\"]\n"
     ]
    }
   ],
   "source": [
    "# number of animes per genre\n",
    "n_selection = 10\n",
    "\n",
    "# Top 10 animes for each genre\n",
    "# selection using pagerank\n",
    "selection = []\n",
    "for label in np.arange(len(label_names)):\n",
    "    ppr = pagerank.fit_transform(positive, seeds=labels[:, label])\n",
    "    scores = ppr * labels[:, label]\n",
    "    selection.append(top_k(scores, n_selection))\n",
    "selection = np.array(selection)\n",
    "\n",
    "# Then, we print our results.\n",
    "for label, name_label in enumerate(label_names):\n",
    "    print('---')\n",
    "    print(label, name_label)\n",
    "    # Sometimes the amount of animes of the specified genres is less than n_selection.\n",
    "    p = len(anime_df[anime_df[\"genre\"].str.contains(name_label)])\n",
    "    n = np.minimum(n_selection, p)\n",
    "    \n",
    "    print(names[selection[label, :n]])"
   ]
  },
  {
   "cell_type": "markdown",
   "metadata": {},
   "source": [
    "## Paris's algorithm"
   ]
  },
  {
   "cell_type": "markdown",
   "metadata": {},
   "source": [
    "Now, we can recommend new animes by either presenting shows similar to one anime in particular or by taking into account what a user has already rated. Let's try the two methods."
   ]
  },
  {
   "cell_type": "markdown",
   "metadata": {},
   "source": [
    "To start the Paris algorithm, we attempt to use a specific anime as a seed. The one we choose is Kono Subarashii Sekai ni Shukufuku wo! (or for short, Konosuba), which is a comedy anime."
   ]
  },
  {
   "cell_type": "code",
   "execution_count": 30,
   "metadata": {},
   "outputs": [
    {
     "data": {
      "text/plain": [
       "{144: 'Kono Subarashii Sekai ni Shukufuku wo! Movie: Kurenai Densetsu'}"
      ]
     },
     "execution_count": 30,
     "metadata": {},
     "output_type": "execute_result"
    }
   ],
   "source": [
    "target = {id: name for id,name in enumerate(names) if \"Kono Subarashii Sekai ni Shukufuku wo!\" in name}\n",
    "target"
   ]
  },
  {
   "cell_type": "code",
   "execution_count": 31,
   "metadata": {},
   "outputs": [],
   "source": [
    "scores_ppr = pagerank.fit_transform(positive, seeds={144:1})"
   ]
  },
  {
   "cell_type": "code",
   "execution_count": 32,
   "metadata": {},
   "outputs": [
    {
     "data": {
      "text/plain": [
       "array(['Kono Subarashii Sekai ni Shukufuku wo! Movie: Kurenai Densetsu',\n",
       "       'Seishun Buta Yarou wa Yumemiru Shoujo no Yume wo Minai',\n",
       "       'Nichijou', 'Made in Abyss Movie 3: Fukaki Tamashii no Reimei',\n",
       "       'Violet Evergarden Movie', 'Fate/Zero 2nd Season',\n",
       "       \"Fate/stay night Movie: Heaven's Feel - II. Lost Butterfly\",\n",
       "       'Great Teacher Onizuka', 'Saiki Kusuo no \\\\xce\\\\xa8-nan 2',\n",
       "       'Koe no Katachi'], dtype='<U69')"
      ]
     },
     "execution_count": 32,
     "metadata": {},
     "output_type": "execute_result"
    }
   ],
   "source": [
    "names[top_k(scores_ppr - scores,10)]"
   ]
  },
  {
   "cell_type": "code",
   "execution_count": 33,
   "metadata": {},
   "outputs": [],
   "source": [
    "targets = get_neighbors(positive, 75, transpose = True)"
   ]
  },
  {
   "cell_type": "code",
   "execution_count": 34,
   "metadata": {},
   "outputs": [
    {
     "data": {
      "text/plain": [
       "array(['Cowboy Bebop', 'Howl no Ugoku Shiro', 'Shigatsu wa Kimi no Uso',\n",
       "       'Koe no Katachi', 'Ansatsu Kyoushitsu 2nd Season',\n",
       "       '3-gatsu no Lion', 'Saiki Kusuo no \\\\xce\\\\xa8-nan',\n",
       "       'Violet Evergarden', 'Yakusoku no Neverland',\n",
       "       'Fruits Basket 2nd Season'], dtype='<U69')"
      ]
     },
     "execution_count": 34,
     "metadata": {},
     "output_type": "execute_result"
    }
   ],
   "source": [
    "names[targets][:10]"
   ]
  },
  {
   "cell_type": "code",
   "execution_count": 35,
   "metadata": {},
   "outputs": [],
   "source": [
    "mask = np.zeros(len(names),dtype='bool')\n",
    "mask[targets] = 1"
   ]
  },
  {
   "cell_type": "code",
   "execution_count": 36,
   "metadata": {},
   "outputs": [],
   "source": [
    "scores_ppr = pagerank.fit_transform(positive, seeds=mask)"
   ]
  },
  {
   "cell_type": "code",
   "execution_count": 37,
   "metadata": {},
   "outputs": [
    {
     "data": {
      "text/plain": [
       "array(['Kimi no Na wa.', 'Sen to Chihiro no Kamikakushi',\n",
       "       'Shingeki no Kyojin Season 3', 'One Punch Man',\n",
       "       'Shingeki no Kyojin Season 2', 'Shingeki no Kyojin',\n",
       "       'Saiki Kusuo no \\\\xce\\\\xa8-nan 2', 'Kimetsu no Yaiba',\n",
       "       'Shingeki no Kyojin Season 3 Part 2',\n",
       "       'Violet Evergarden Gaiden: Eien to Jidou Shuki Ningyou'],\n",
       "      dtype='<U69')"
      ]
     },
     "execution_count": 37,
     "metadata": {},
     "output_type": "execute_result"
    }
   ],
   "source": [
    "names[top_k((scores_ppr - scores)*(1-mask),10)]"
   ]
  },
  {
   "cell_type": "markdown",
   "metadata": {},
   "source": [
    "In this list of recommendation we can see that 'Shingeki no Kyojin' is recommended multiple times because it has different seasons. This makes sense because we can assume that multiple season of an anime are somewhat similar.\n",
    "\n",
    "Let's check this by using Paris's algorithm to compute a dendrogram.\n"
   ]
  },
  {
   "cell_type": "code",
   "execution_count": 38,
   "metadata": {},
   "outputs": [],
   "source": [
    "paris = Paris()"
   ]
  },
  {
   "cell_type": "code",
   "execution_count": 39,
   "metadata": {},
   "outputs": [],
   "source": [
    "animes = graph.names_row\n",
    "users = graph.names_col"
   ]
  },
  {
   "cell_type": "code",
   "execution_count": 40,
   "metadata": {},
   "outputs": [
    {
     "data": {
      "text/plain": [
       "Paris(weights='degree', reorder=True)"
      ]
     },
     "execution_count": 40,
     "metadata": {},
     "output_type": "execute_result"
    }
   ],
   "source": [
    "paris.fit(biadjacency)\n"
   ]
  },
  {
   "cell_type": "code",
   "execution_count": 41,
   "metadata": {},
   "outputs": [],
   "source": [
    "dendrogram_row = paris.dendrogram_row_\n",
    "dendrogram_col = paris.dendrogram_col_"
   ]
  },
  {
   "cell_type": "code",
   "execution_count": 42,
   "metadata": {},
   "outputs": [
    {
     "data": {
      "image/svg+xml": "<svg xmlns=\"http://www.w3.org/2000/svg\" width=\"1001.0\" height=\"2120.0\"><text x=\"715.0\" y=\"1564.7738693467336\" font-size=\"8\">Cowboy Bebop</text><text x=\"715.0\" y=\"1585.8793969849246\" font-size=\"8\">Cowboy Bebop: Tengoku no Tobira</text><text x=\"715.0\" y=\"1174.321608040201\" font-size=\"8\">Monster</text><text x=\"715.0\" y=\"731.105527638191\" font-size=\"8\">One Piece</text><text x=\"715.0\" y=\"1554.2211055276382\" font-size=\"8\">Neon Genesis Evangelion: The End of Evangelion</text><text x=\"715.0\" y=\"1533.1155778894472\" font-size=\"8\">Kenpuu Denki Berserk</text><text x=\"715.0\" y=\"615.0251256281408\" font-size=\"8\">Rurouni Kenshin: Meiji Kenkaku Romantan - Tsuioku-hen</text><text x=\"715.0\" y=\"1501.4572864321608\" font-size=\"8\">Hunter x Hunter</text><text x=\"715.0\" y=\"1659.748743718593\" font-size=\"8\">Mononoke Hime</text><text x=\"715.0\" y=\"319.54773869346735\" font-size=\"8\">Slam Dunk</text><text x=\"715.0\" y=\"1680.854271356784\" font-size=\"8\">Sen to Chihiro no Kamikakushi</text><text x=\"715.0\" y=\"1269.2964824120602\" font-size=\"8\">Samurai Champloo</text><text x=\"715.0\" y=\"1701.9597989949748\" font-size=\"8\">Great Teacher Onizuka</text><text x=\"715.0\" y=\"266.78391959799\" font-size=\"8\">Hajime no Ippo</text><text x=\"715.0\" y=\"1395.929648241206\" font-size=\"8\">Yuu\\xe2\\x98\\x86Yuu\\xe2\\x98\\x86Hakusho</text><text x=\"715.0\" y=\"1670.3015075376884\" font-size=\"8\">Howl no Ugoku Shiro</text><text x=\"715.0\" y=\"1649.1959798994976\" font-size=\"8\">Perfect Blue</text><text x=\"715.0\" y=\"1712.5125628140704\" font-size=\"8\">Mushishi</text><text x=\"715.0\" y=\"636.1306532663317\" font-size=\"8\">Koukaku Kidoutai: Stand Alone Complex</text><text x=\"715.0\" y=\"1575.3266331658292\" font-size=\"8\">Kaze no Tani no Nausica\\xc3\\xa4</text><text x=\"715.0\" y=\"1638.643216080402\" font-size=\"8\">Hotaru no Haka</text><text x=\"715.0\" y=\"1258.7437185929648\" font-size=\"8\">Hellsing Ultimate</text><text x=\"715.0\" y=\"625.5778894472362\" font-size=\"8\">Koukaku Kidoutai: Stand Alone Complex 2nd GIG</text><text x=\"715.0\" y=\"298.4422110552764\" font-size=\"8\">Ginga Eiyuu Densetsu</text><text x=\"715.0\" y=\"1438.140703517588\" font-size=\"8\">Nana</text><text x=\"715.0\" y=\"13.517587939698492\" font-size=\"8\">Gintama</text><text x=\"715.0\" y=\"1079.3467336683416\" font-size=\"8\">Death Note</text><text x=\"715.0\" y=\"1195.427135678392\" font-size=\"8\">Code Geass: Hangyaku no Lelouch</text><text x=\"715.0\" y=\"1279.8492462311558\" font-size=\"8\">Tengen Toppa Gurren Lagann</text><text x=\"715.0\" y=\"361.7587939698493\" font-size=\"8\">Mononoke</text><text x=\"715.0\" y=\"1723.0653266331658\" font-size=\"8\">Baccano!</text><text x=\"715.0\" y=\"1184.8743718592964\" font-size=\"8\">Code Geass: Hangyaku no Lelouch R2</text><text x=\"715.0\" y=\"171.80904522613068\" font-size=\"8\">Ashita no Joe 2</text><text x=\"715.0\" y=\"583.3668341708543\" font-size=\"8\">Aria the Origination</text><text x=\"715.0\" y=\"1543.6683417085428\" font-size=\"8\">Evangelion: 3.0+1.0 Thrice Upon a Time</text><text x=\"715.0\" y=\"1765.2763819095478\" font-size=\"8\">Clannad: After Story</text><text x=\"715.0\" y=\"593.9195979899498\" font-size=\"8\">Kara no Kyoukai Movie 5: Mujun Rasen</text><text x=\"715.0\" y=\"530.6030150753769\" font-size=\"8\">Tengen Toppa Gurren Lagann Movie 2: Lagann-hen</text><text x=\"715.0\" y=\"498.9447236180905\" font-size=\"8\">Major S5</text><text x=\"715.0\" y=\"1406.4824120603016\" font-size=\"8\">Fullmetal Alchemist: Brotherhood</text><text x=\"715.0\" y=\"604.4723618090453\" font-size=\"8\">Kara no Kyoukai Movie 7: Satsujin Kousatsu (Go)</text><text x=\"715.0\" y=\"277.33668341708545\" font-size=\"8\">Hajime no Ippo: New Challenger</text><text x=\"715.0\" y=\"425.07537688442216\" font-size=\"8\">Zoku Natsume Yuujinchou</text><text x=\"715.0\" y=\"509.49748743718595\" font-size=\"8\">Cross Game</text><text x=\"715.0\" y=\"235.12562814070355\" font-size=\"8\">Rainbow: Nisha Rokubou no Shichinin</text><text x=\"715.0\" y=\"140.15075376884425\" font-size=\"8\">Gintama: Shiroyasha Koutan</text><text x=\"715.0\" y=\"2007.9899497487438\" font-size=\"8\">Suzumiya Haruhi no Shoushitsu</text><text x=\"715.0\" y=\"87.38693467336684\" font-size=\"8\">Gintama Movie 1: Shinyaku Benizakura-hen</text><text x=\"715.0\" y=\"1881.356783919598\" font-size=\"8\">Yojouhan Shinwa Taikei</text><text x=\"715.0\" y=\"1796.9346733668342\" font-size=\"8\">Steins;Gate</text><text x=\"715.0\" y=\"1860.251256281407\" font-size=\"8\">Kizumonogatari I: Tekketsu-hen</text><text x=\"715.0\" y=\"1997.4371859296482\" font-size=\"8\">K-On! Movie</text><text x=\"715.0\" y=\"942.1608040201006\" font-size=\"8\">Mahou Shoujo Madoka\\xe2\\x98\\x85Magica</text><text x=\"715.0\" y=\"129.59798994974875\" font-size=\"8\">Gintama'</text><text x=\"715.0\" y=\"214.02010050251258\" font-size=\"8\">Bakuman. 2nd Season</text><text x=\"715.0\" y=\"2081.859296482412\" font-size=\"8\">Usagi Drop</text><text x=\"715.0\" y=\"1955.2261306532664\" font-size=\"8\">Nichijou</text><text x=\"715.0\" y=\"435.6281407035176\" font-size=\"8\">Natsume Yuujinchou San</text><text x=\"715.0\" y=\"1163.7688442211056\" font-size=\"8\">Hunter x Hunter (2011)</text><text x=\"715.0\" y=\"1775.8291457286432\" font-size=\"8\">Steins;Gate Movie: Fuka Ryouiki no D\\xc3\\xa9j\\xc3\\xa0 vu</text><text x=\"715.0\" y=\"414.52261306532665\" font-size=\"8\">Natsume Yuujinchou Shi</text><text x=\"715.0\" y=\"1934.1206030150754\" font-size=\"8\">Fate/Zero 2nd Season</text><text x=\"715.0\" y=\"340.6532663316583\" font-size=\"8\">Mahou Shoujo Madoka\\xe2\\x98\\x85Magica Movie 2: Eien no Monogatari</text><text x=\"715.0\" y=\"351.2060301507538\" font-size=\"8\">Mahou Shoujo Madoka\\xe2\\x98\\x85Magica Movie 3: Hangyaku no Monogatari</text><text x=\"715.0\" y=\"1691.4070351758794\" font-size=\"8\">Ookami Kodomo no Ame to Yuki</text><text x=\"715.0\" y=\"224.57286432160805\" font-size=\"8\">Bakuman. 3rd Season</text><text x=\"715.0\" y=\"520.0502512562815\" font-size=\"8\">Uchuu Kyoudai</text><text x=\"715.0\" y=\"952.7135678391961\" font-size=\"8\">Psycho-Pass</text><text x=\"715.0\" y=\"572.8140703517588\" font-size=\"8\">Chihayafuru 2</text><text x=\"715.0\" y=\"97.93969849246231\" font-size=\"8\">Gintama Movie 2: Kanketsu-hen - Yorozuya yo Eien Nare</text><text x=\"715.0\" y=\"108.49246231155779\" font-size=\"8\">Gintama': Enchousen</text><text x=\"715.0\" y=\"1121.5577889447236\" font-size=\"8\">Shingeki no Kyojin</text><text x=\"715.0\" y=\"1870.8040201005026\" font-size=\"8\">Monogatari Series: Second Season</text><text x=\"715.0\" y=\"192.91457286432163\" font-size=\"8\">Kingdom 2nd Season</text><text x=\"715.0\" y=\"287.88944723618096\" font-size=\"8\">Hajime no Ippo: Rising</text><text x=\"715.0\" y=\"1490.9045226130654\" font-size=\"8\">Haikyuu!!</text><text x=\"715.0\" y=\"446.1809045226131\" font-size=\"8\">Mushishi: Hihamukage</text><text x=\"715.0\" y=\"150.70351758793973\" font-size=\"8\">Gintama: Yorinuki Gintama-san on Theater 2D</text><text x=\"715.0\" y=\"488.391959798995\" font-size=\"8\">Mushishi Zoku Shou</text><text x=\"715.0\" y=\"308.9949748743719\" font-size=\"8\">Ping Pong the Animation</text><text x=\"715.0\" y=\"963.2663316582915\" font-size=\"8\">Kiseijuu: Sei no Kakuritsu</text><text x=\"715.0\" y=\"2092.4120603015076\" font-size=\"8\">Barakamon</text><text x=\"715.0\" y=\"1353.7185929648242\" font-size=\"8\">Shigatsu wa Kimi no Uso</text><text x=\"715.0\" y=\"456.7336683417086\" font-size=\"8\">Mushishi Zoku Shou: Odoro no Michi</text><text x=\"715.0\" y=\"477.83919597989956\" font-size=\"8\">Mushishi Zoku Shou 2nd Season</text><text x=\"715.0\" y=\"1100.4522613065326\" font-size=\"8\">Shingeki no Kyojin Season 2</text><text x=\"715.0\" y=\"1512.0100502512562\" font-size=\"8\">Shingeki no Kyojin: Kuinaki Sentaku</text><text x=\"715.0\" y=\"1216.532663316583\" font-size=\"8\">JoJo no Kimyou na Bouken Part 3: Stardust Crusaders 2nd Season</text><text x=\"715.0\" y=\"551.7085427135679\" font-size=\"8\">Shouwa Genroku Rakugo Shinjuu</text><text x=\"715.0\" y=\"1343.1658291457286\" font-size=\"8\">Koe no Katachi</text><text x=\"715.0\" y=\"1469.7989949748744\" font-size=\"8\">Haikyuu!! Second Season</text><text x=\"715.0\" y=\"467.28643216080405\" font-size=\"8\">Mushishi Zoku Shou: Suzu no Shizuku</text><text x=\"715.0\" y=\"119.04522613065326\" font-size=\"8\">Gintama\\xc2\\xb0</text><text x=\"715.0\" y=\"1068.7939698492462\" font-size=\"8\">One Punch Man</text><text x=\"715.0\" y=\"1786.3819095477388\" font-size=\"8\">Steins;Gate 0</text><text x=\"715.0\" y=\"1058.2412060301508\" font-size=\"8\">Ansatsu Kyoushitsu 2nd Season</text><text x=\"715.0\" y=\"710.0000000000001\" font-size=\"8\">Kamisama Hajimemashita: Kako-hen</text><text x=\"715.0\" y=\"1828.5929648241206\" font-size=\"8\">Owarimonogatari</text><text x=\"715.0\" y=\"1891.9095477386936\" font-size=\"8\">3-gatsu no Lion</text><text x=\"715.0\" y=\"1849.6984924623116\" font-size=\"8\">Kizumonogatari II: Nekketsu-hen</text><text x=\"715.0\" y=\"1839.1457286432162\" font-size=\"8\">Kizumonogatari III: Reiketsu-hen</text><text x=\"715.0\" y=\"1227.0854271356784\" font-size=\"8\">JoJo no Kimyou na Bouken Part 4: Diamond wa Kudakenai</text><text x=\"715.0\" y=\"994.924623115578\" font-size=\"8\">Mob Psycho 100</text><text x=\"715.0\" y=\"1332.6130653266332\" font-size=\"8\">Kimi no Na wa.</text><text x=\"715.0\" y=\"161.2562814070352\" font-size=\"8\">Gintama\\xc2\\xb0: Aizome Kaori-hen</text><text x=\"715.0\" y=\"1459.246231155779\" font-size=\"8\">Haikyuu!!: Karasuno Koukou vs. Shiratorizawa Gakuen Koukou</text><text x=\"715.0\" y=\"403.9698492462312\" font-size=\"8\">Natsume Yuujinchou Go</text><text x=\"715.0\" y=\"1923.56783919598\" font-size=\"8\">Fate/stay night Movie: Heaven's Feel - II. Lost Butterfly</text><text x=\"715.0\" y=\"1913.0150753768844\" font-size=\"8\">Fate/stay night Movie: Heaven's Feel - III. Spring Song</text><text x=\"715.0\" y=\"541.1557788944724\" font-size=\"8\">Shouwa Genroku Rakugo Shinjuu: Sukeroku Futatabi-hen</text><text x=\"715.0\" y=\"1385.3768844221106\" font-size=\"8\">Saiki Kusuo no \\xce\\xa8-nan</text><text x=\"715.0\" y=\"1754.7236180904522\" font-size=\"8\">Violet Evergarden</text><text x=\"715.0\" y=\"66.28140703517587\" font-size=\"8\">Gintama.</text><text x=\"715.0\" y=\"393.4170854271357\" font-size=\"8\">Natsume Yuujinchou Roku</text><text x=\"715.0\" y=\"1617.537688442211\" font-size=\"8\">Made in Abyss</text><text x=\"715.0\" y=\"1374.824120603015\" font-size=\"8\">Saiki Kusuo no \\xce\\xa8-nan 2</text><text x=\"715.0\" y=\"1902.462311557789\" font-size=\"8\">3-gatsu no Lion 2nd Season</text><text x=\"715.0\" y=\"1818.0402010050252\" font-size=\"8\">Owarimonogatari 2nd Season</text><text x=\"715.0\" y=\"1965.7788944723618\" font-size=\"8\">Houseki no Kuni (TV)</text><text x=\"715.0\" y=\"1111.0050251256282\" font-size=\"8\">Shingeki no Kyojin Season 3</text><text x=\"715.0\" y=\"2018.5427135678392\" font-size=\"8\">Sora yori mo Tooi Basho</text><text x=\"715.0\" y=\"76.83417085427136\" font-size=\"8\">Gintama.: Porori-hen</text><text x=\"715.0\" y=\"1628.0904522613066\" font-size=\"8\">Sayonara no Asa ni Yakusoku no Hana wo Kazarou</text><text x=\"715.0\" y=\"1290.4020100502512\" font-size=\"8\">Kimi no Suizou wo Tabetai</text><text x=\"715.0\" y=\"372.31155778894475\" font-size=\"8\">Natsume Yuujinchou Roku Specials</text><text x=\"715.0\" y=\"382.86432160804026\" font-size=\"8\">Natsume Yuujinchou Movie: Utsusemi ni Musubu</text><text x=\"715.0\" y=\"1427.5879396984924\" font-size=\"8\">Banana Fish</text><text x=\"715.0\" y=\"45.17587939698493\" font-size=\"8\">Gintama.: Shirogane no Tamashii-hen</text><text x=\"715.0\" y=\"1606.9849246231156\" font-size=\"8\">Made in Abyss Movie 3: Fukaki Tamashii no Reimei</text><text x=\"715.0\" y=\"720.5527638190955\" font-size=\"8\">Saenai Heroine no Sodatekata Fine</text><text x=\"715.0\" y=\"1807.4874371859296\" font-size=\"8\">Zoku Owarimonogatari</text><text x=\"715.0\" y=\"1364.2713567839196\" font-size=\"8\">Grand Blue</text><text x=\"715.0\" y=\"678.3417085427136\" font-size=\"8\">Mo Dao Zu Shi</text><text x=\"715.0\" y=\"562.2613065326634\" font-size=\"8\">Chihayafuru 3</text><text x=\"715.0\" y=\"55.72864321608041\" font-size=\"8\">Gintama.: Shirogane no Tamashii-hen - Kouhan-sen</text><text x=\"715.0\" y=\"984.3718592964825\" font-size=\"8\">Mob Psycho 100 II</text><text x=\"715.0\" y=\"1596.4321608040202\" font-size=\"8\">Made in Abyss Movie 2: Hourou Suru Tasogare</text><text x=\"715.0\" y=\"1205.9798994974874\" font-size=\"8\">Vinland Saga</text><text x=\"715.0\" y=\"1005.4773869346734\" font-size=\"8\">Yakusoku no Neverland</text><text x=\"715.0\" y=\"256.2311557788945\" font-size=\"8\">Kaze ga Tsuyoku Fuiteiru</text><text x=\"715.0\" y=\"1733.6180904522614\" font-size=\"8\">Violet Evergarden Movie</text><text x=\"715.0\" y=\"1237.6381909547738\" font-size=\"8\">JoJo no Kimyou na Bouken Part 5: Ougon no Kaze</text><text x=\"715.0\" y=\"899.9497487437187\" font-size=\"8\">Kaguya-sama wa Kokurasetai: Tensai-tachi no Renai Zunousen</text><text x=\"715.0\" y=\"1047.6884422110552\" font-size=\"8\">Kimetsu no Yaiba</text><text x=\"715.0\" y=\"1944.6733668341708\" font-size=\"8\">Kono Subarashii Sekai ni Shukufuku wo! Movie: Kurenai Densetsu</text><text x=\"715.0\" y=\"1986.8844221105528\" font-size=\"8\">Seishun Buta Yarou wa Yumemiru Shoujo no Yume wo Minai</text><text x=\"715.0\" y=\"688.8944723618091\" font-size=\"8\">Mo Dao Zu Shi: Xian Yun Pian</text><text x=\"715.0\" y=\"2029.0954773869348\" font-size=\"8\">Yuru Camp\\xe2\\x96\\xb3 Season 2</text><text x=\"715.0\" y=\"1142.6633165829146\" font-size=\"8\">Shingeki no Kyojin Season 3 Part 2</text><text x=\"715.0\" y=\"1480.3517587939698\" font-size=\"8\">Haikyuu!! To the Top</text><text x=\"715.0\" y=\"2071.306532663317\" font-size=\"8\">Kono Oto Tomare! Part 2</text><text x=\"715.0\" y=\"783.8693467336684\" font-size=\"8\">Kobayashi-san Chi no Maid Dragon S</text><text x=\"715.0\" y=\"34.62311557788945\" font-size=\"8\">Gintama: The Final</text><text x=\"715.0\" y=\"1417.035175879397\" font-size=\"8\">Given</text><text x=\"715.0\" y=\"815.5276381909548\" font-size=\"8\">Mushoku Tensei: Isekai Ittara Honki Dasu</text><text x=\"715.0\" y=\"1311.5075376884422\" font-size=\"8\">Yahari Ore no Seishun Love Comedy wa Machigatteiru. Kan</text><text x=\"715.0\" y=\"1322.0603015075376\" font-size=\"8\">Tensei shitara Slime Datta Ken 2nd Season</text><text x=\"715.0\" y=\"931.6080402010051\" font-size=\"8\">Re:Zero kara Hajimeru Isekai Seikatsu 2nd Season</text><text x=\"715.0\" y=\"1744.1708542713568\" font-size=\"8\">Violet Evergarden Gaiden: Eien to Jidou Shuki Ningyou</text><text x=\"715.0\" y=\"1976.3316582914574\" font-size=\"8\">Non Non Biyori Nonstop</text><text x=\"715.0\" y=\"1132.110552763819\" font-size=\"8\">Shingeki no Kyojin: The Final Season</text><text x=\"715.0\" y=\"245.67839195979903\" font-size=\"8\">Golden Kamuy 3rd Season</text><text x=\"715.0\" y=\"2050.2010050251256\" font-size=\"8\">Fruits Basket 2nd Season</text><text x=\"715.0\" y=\"699.4472361809046\" font-size=\"8\">Mo Dao Zu Shi: Wanjie Pian</text><text x=\"715.0\" y=\"1037.1356783919598\" font-size=\"8\">Kimetsu no Yaiba Movie: Mugen Ressha-hen</text><text x=\"715.0\" y=\"889.3969849246232\" font-size=\"8\">Kaguya-sama wa Kokurasetai? Tensai-tachi no Renai Zunousen</text><text x=\"715.0\" y=\"330.10050251256285\" font-size=\"8\">Shoujo\\xe2\\x98\\x86Kageki Revue Starlight Movie</text><text x=\"715.0\" y=\"182.36180904522615\" font-size=\"8\">Kingdom 3rd Season</text><text x=\"715.0\" y=\"657.2361809045227\" font-size=\"8\">Tian Guan Ci Fu</text><text x=\"715.0\" y=\"1089.8994974874372\" font-size=\"8\">Jujutsu Kaisen (TV)</text><text x=\"715.0\" y=\"1448.6934673366834\" font-size=\"8\">Haikyuu!! To the Top Part 2</text><text x=\"715.0\" y=\"1300.9547738693468\" font-size=\"8\">Josee to Tora to Sakana-tachi</text><text x=\"715.0\" y=\"847.1859296482413\" font-size=\"8\">Ousama Ranking</text><text x=\"715.0\" y=\"836.6331658291458\" font-size=\"8\">Fumetsu no Anata e</text><text x=\"715.0\" y=\"921.0552763819096\" font-size=\"8\">Re:Zero kara Hajimeru Isekai Seikatsu 2nd Season Part 2</text><text x=\"715.0\" y=\"2039.6482412060302\" font-size=\"8\">Fruits Basket: The Final</text><text x=\"715.0\" y=\"878.8442211055277\" font-size=\"8\">Kaguya-sama wa Kokurasetai: Ultra Romantic</text><text x=\"715.0\" y=\"667.7889447236181\" font-size=\"8\">Tian Guan Ci Fu Special</text><text x=\"715.0\" y=\"752.211055276382\" font-size=\"8\">Shiguang Dailiren</text><text x=\"715.0\" y=\"24.070351758793972\" font-size=\"8\">Gintama: The Semi-Final</text><text x=\"715.0\" y=\"1522.5628140703518\" font-size=\"8\">Wu Liuqi Zhi Xuanwu Guo Pian</text><text x=\"715.0\" y=\"826.0804020100503\" font-size=\"8\">Mushoku Tensei: Isekai Ittara Honki Dasu Part 2</text><text x=\"715.0\" y=\"857.7386934673367\" font-size=\"8\">Vivy: Fluorite Eye's Song</text><text x=\"715.0\" y=\"868.2914572864322\" font-size=\"8\">Odd Taxi</text><text x=\"715.0\" y=\"762.7638190954774\" font-size=\"8\">Summertime Render</text><text x=\"715.0\" y=\"1016.0301507537689\" font-size=\"8\">Kimetsu no Yaiba: Yuukaku-hen</text><text x=\"715.0\" y=\"973.819095477387\" font-size=\"8\">Jujutsu Kaisen 0 Movie</text><text x=\"715.0\" y=\"741.6582914572865\" font-size=\"8\">86 Part 2</text><text x=\"715.0\" y=\"1153.21608040201\" font-size=\"8\">Shingeki no Kyojin: The Final Season Part 2</text><text x=\"715.0\" y=\"646.6834170854272\" font-size=\"8\">Yoru ni Kakeru</text><text x=\"715.0\" y=\"1248.1909547738694\" font-size=\"8\">JoJo no Kimyou na Bouken Part 6: Stone Ocean</text><text x=\"715.0\" y=\"773.3165829145729\" font-size=\"8\">Sono Bisque Doll wa Koi wo Suru</text><text x=\"715.0\" y=\"2060.753768844221\" font-size=\"8\">Fruits Basket: Prelude</text><text x=\"715.0\" y=\"794.4221105527639\" font-size=\"8\">Karakai Jouzu no Takagi-san 3</text><text x=\"715.0\" y=\"804.9748743718594\" font-size=\"8\">Kotarou wa Hitorigurashi</text><text x=\"715.0\" y=\"1026.5829145728644\" font-size=\"8\">Kimetsu no Yaiba: Mugen Ressha-hen</text><text x=\"715.0\" y=\"203.4673366834171\" font-size=\"8\">Kingdom 4th Season</text><text x=\"715.0\" y=\"910.5025125628141\" font-size=\"8\">Spy x Family</text><text x=\"715.0\" y=\"2102.964824120603\" font-size=\"8\">Paripi Koumei</text><path stroke-width=\"2\" stroke=\"red\" d=\"M 710.0 590.4020100502513 709.6577320706274 590.4020100502513\"/><path stroke-width=\"2\" stroke=\"red\" d=\"M 710.0 600.9547738693468 709.6577320706274 600.9547738693468\"/><path stroke-width=\"2\" stroke=\"red\" d=\"M 709.6577320706274 590.4020100502513 709.6577320706274 600.9547738693468\"/><path stroke-width=\"2\" stroke=\"olive\" d=\"M 710.0 210.50251256281408 709.636362128731 210.50251256281408\"/><path stroke-width=\"2\" stroke=\"olive\" d=\"M 710.0 221.05527638190955 709.636362128731 221.05527638190955\"/><path stroke-width=\"2\" stroke=\"olive\" d=\"M 709.636362128731 210.50251256281408 709.636362128731 221.05527638190955\"/><path stroke-width=\"2\" stroke=\"red\" d=\"M 710.0 558.7437185929649 709.6220849046941 558.7437185929649\"/><path stroke-width=\"2\" stroke=\"red\" d=\"M 710.0 569.2964824120603 709.6220849046941 569.2964824120603\"/><path stroke-width=\"2\" stroke=\"red\" d=\"M 709.6220849046941 558.7437185929649 709.6220849046941 569.2964824120603\"/><path stroke-width=\"2\" stroke=\"purple\" d=\"M 710.0 1909.497487437186 709.6181028154915 1909.497487437186\"/><path stroke-width=\"2\" stroke=\"purple\" d=\"M 710.0 1920.0502512562816 709.6181028154915 1920.0502512562816\"/><path stroke-width=\"2\" stroke=\"purple\" d=\"M 709.6181028154915 1909.497487437186 709.6181028154915 1920.0502512562816\"/><path stroke-width=\"2\" stroke=\"blue\" d=\"M 710.0 685.3768844221106 709.5957240331086 685.3768844221106\"/><path stroke-width=\"2\" stroke=\"blue\" d=\"M 710.0 695.9296482412061 709.5957240331086 695.9296482412061\"/><path stroke-width=\"2\" stroke=\"blue\" d=\"M 709.5957240331086 685.3768844221106 709.5957240331086 695.9296482412061\"/><path stroke-width=\"2\" stroke=\"olive\" d=\"M 710.0 178.84422110552765 709.5919768188139 178.84422110552765\"/><path stroke-width=\"2\" stroke=\"olive\" d=\"M 710.0 189.39698492462313 709.5919768188139 189.39698492462313\"/><path stroke-width=\"2\" stroke=\"olive\" d=\"M 709.5919768188139 178.84422110552765 709.5919768188139 189.39698492462313\"/><path stroke-width=\"2\" stroke=\"fuchsia\" d=\"M 710.0 1835.6281407035178 709.5782580845648 1835.6281407035178\"/><path stroke-width=\"2\" stroke=\"fuchsia\" d=\"M 710.0 1846.1809045226132 709.5782580845648 1846.1809045226132\"/><path stroke-width=\"2\" stroke=\"fuchsia\" d=\"M 709.5782580845648 1835.6281407035178 709.5782580845648 1846.1809045226132\"/><path stroke-width=\"2\" stroke=\"aqua\" d=\"M 710.0 273.81909547738695 709.5666865625444 273.81909547738695\"/><path stroke-width=\"2\" stroke=\"aqua\" d=\"M 710.0 284.37185929648246 709.5666865625444 284.37185929648246\"/><path stroke-width=\"2\" stroke=\"aqua\" d=\"M 709.5666865625444 273.81909547738695 709.5666865625444 284.37185929648246\"/><path stroke-width=\"2\" stroke=\"red\" d=\"M 710.0 421.55778894472365 709.5379944576979 421.55778894472365\"/><path stroke-width=\"2\" stroke=\"red\" d=\"M 710.0 432.1105527638191 709.5379944576979 432.1105527638191\"/><path stroke-width=\"2\" stroke=\"red\" d=\"M 709.5379944576979 421.55778894472365 709.5379944576979 432.1105527638191\"/><path stroke-width=\"2\" stroke=\"orange\" d=\"M 710.0 136.63316582914575 709.5056171777859 136.63316582914575\"/><path stroke-width=\"2\" stroke=\"orange\" d=\"M 710.0 147.18592964824123 709.5056171777859 147.18592964824123\"/><path stroke-width=\"2\" stroke=\"orange\" d=\"M 709.5056171777859 136.63316582914575 709.5056171777859 147.18592964824123\"/><path stroke-width=\"2\" stroke=\"red\" d=\"M 710.0 537.6381909547739 709.4845670095596 537.6381909547739\"/><path stroke-width=\"2\" stroke=\"red\" d=\"M 710.0 548.1909547738694 709.4845670095596 548.1909547738694\"/><path stroke-width=\"2\" stroke=\"red\" d=\"M 709.4845670095596 537.6381909547739 709.4845670095596 548.1909547738694\"/><path stroke-width=\"2\" stroke=\"red\" d=\"M 710.0 400.4522613065327 709.4795237634415 400.4522613065327\"/><path stroke-width=\"2\" stroke=\"red\" d=\"M 710.0 411.00502512562815 709.4795237634415 411.00502512562815\"/><path stroke-width=\"2\" stroke=\"red\" d=\"M 709.4795237634415 400.4522613065327 709.4795237634415 411.00502512562815\"/><path stroke-width=\"2\" stroke=\"red\" d=\"M 710.0 474.32160804020106 709.471484311136 474.32160804020106\"/><path stroke-width=\"2\" stroke=\"red\" d=\"M 710.0 484.8743718592965 709.471484311136 484.8743718592965\"/><path stroke-width=\"2\" stroke=\"red\" d=\"M 709.471484311136 474.32160804020106 709.471484311136 484.8743718592965\"/><path stroke-width=\"2\" stroke=\"red\" d=\"M 710.0 368.79396984924625 709.4599555609688 368.79396984924625\"/><path stroke-width=\"2\" stroke=\"red\" d=\"M 710.0 379.34673366834176 709.4599555609688 379.34673366834176\"/><path stroke-width=\"2\" stroke=\"red\" d=\"M 709.4599555609688 368.79396984924625 709.4599555609688 379.34673366834176\"/><path stroke-width=\"2\" stroke=\"red\" d=\"M 710.0 453.2160804020101 709.4573824547805 453.2160804020101\"/><path stroke-width=\"2\" stroke=\"red\" d=\"M 710.0 463.76884422110555 709.4573824547805 463.76884422110555\"/><path stroke-width=\"2\" stroke=\"red\" d=\"M 709.4573824547805 453.2160804020101 709.4573824547805 463.76884422110555\"/><path stroke-width=\"2\" stroke=\"fuchsia\" d=\"M 709.5782580845648 1840.9045226130656 709.4486310284741 1840.9045226130656\"/><path stroke-width=\"2\" stroke=\"fuchsia\" d=\"M 710.0 1856.7336683417086 709.4486310284741 1856.7336683417086\"/><path stroke-width=\"2\" stroke=\"fuchsia\" d=\"M 709.4486310284741 1840.9045226130656 709.4486310284741 1856.7336683417086\"/><path stroke-width=\"2\" stroke=\"blue\" d=\"M 710.0 674.8241206030151 709.4261260094593 674.8241206030151\"/><path stroke-width=\"2\" stroke=\"blue\" d=\"M 709.5957240331086 690.6532663316584 709.4261260094593 690.6532663316584\"/><path stroke-width=\"2\" stroke=\"blue\" d=\"M 709.4261260094593 674.8241206030151 709.4261260094593 690.6532663316584\"/><path stroke-width=\"2\" stroke=\"red\" d=\"M 710.0 389.8994974874372 709.3940106113934 389.8994974874372\"/><path stroke-width=\"2\" stroke=\"red\" d=\"M 709.4795237634415 405.7286432160804 709.3940106113934 405.7286432160804\"/><path stroke-width=\"2\" stroke=\"red\" d=\"M 709.3940106113934 389.8994974874372 709.3940106113934 405.7286432160804\"/><path stroke-width=\"2\" stroke=\"red\" d=\"M 710.0 442.6633165829146 709.351115685047 442.6633165829146\"/><path stroke-width=\"2\" stroke=\"red\" d=\"M 709.4573824547805 458.4924623115578 709.351115685047 458.4924623115578\"/><path stroke-width=\"2\" stroke=\"red\" d=\"M 709.351115685047 442.6633165829146 709.351115685047 458.4924623115578\"/><path stroke-width=\"2\" stroke=\"red\" d=\"M 710.0 2036.1306532663318 709.3384944148373 2036.1306532663318\"/><path stroke-width=\"2\" stroke=\"red\" d=\"M 710.0 2046.6834170854272 709.3384944148373 2046.6834170854272\"/><path stroke-width=\"2\" stroke=\"red\" d=\"M 709.3384944148373 2036.1306532663318 709.3384944148373 2046.6834170854272\"/><path stroke-width=\"2\" stroke=\"orange\" d=\"M 710.0 41.65829145728644 709.3175516636263 41.65829145728644\"/><path stroke-width=\"2\" stroke=\"orange\" d=\"M 710.0 52.21105527638191 709.3175516636263 52.21105527638191\"/><path stroke-width=\"2\" stroke=\"orange\" d=\"M 709.3175516636263 41.65829145728644 709.3175516636263 52.21105527638191\"/><path stroke-width=\"2\" stroke=\"red\" d=\"M 710.0 622.0603015075377 709.2767664908038 622.0603015075377\"/><path stroke-width=\"2\" stroke=\"red\" d=\"M 710.0 632.6130653266332 709.2767664908038 632.6130653266332\"/><path stroke-width=\"2\" stroke=\"red\" d=\"M 709.2767664908038 622.0603015075377 709.2767664908038 632.6130653266332\"/><path stroke-width=\"2\" stroke=\"blue\" d=\"M 710.0 653.7185929648242 709.236012677314 653.7185929648242\"/><path stroke-width=\"2\" stroke=\"blue\" d=\"M 710.0 664.2713567839196 709.236012677314 664.2713567839196\"/><path stroke-width=\"2\" stroke=\"blue\" d=\"M 709.236012677314 653.7185929648242 709.236012677314 664.2713567839196\"/><path stroke-width=\"2\" stroke=\"orange\" d=\"M 710.0 337.1356783919598 709.22682377299 337.1356783919598\"/><path stroke-width=\"2\" stroke=\"orange\" d=\"M 710.0 347.6884422110553 709.22682377299 347.6884422110553\"/><path stroke-width=\"2\" stroke=\"orange\" d=\"M 709.22682377299 337.1356783919598 709.22682377299 347.6884422110553\"/><path stroke-width=\"2\" stroke=\"fuchsia\" d=\"M 710.0 1814.5226130653268 709.2186456709956 1814.5226130653268\"/><path stroke-width=\"2\" stroke=\"fuchsia\" d=\"M 710.0 1825.0753768844222 709.2186456709956 1825.0753768844222\"/><path stroke-width=\"2\" stroke=\"fuchsia\" d=\"M 709.2186456709956 1814.5226130653268 709.2186456709956 1825.0753768844222\"/><path stroke-width=\"2\" stroke=\"red\" d=\"M 709.3940106113934 397.8140703517588 709.1956208473681 397.8140703517588\"/><path stroke-width=\"2\" stroke=\"red\" d=\"M 709.5379944576979 426.8341708542714 709.1956208473681 426.8341708542714\"/><path stroke-width=\"2\" stroke=\"red\" d=\"M 709.1956208473681 397.8140703517588 709.1956208473681 426.8341708542714\"/><path stroke-width=\"2\" stroke=\"blue\" d=\"M 710.0 917.5376884422111 709.1837426859812 917.5376884422111\"/><path stroke-width=\"2\" stroke=\"blue\" d=\"M 710.0 928.0904522613066 709.1837426859812 928.0904522613066\"/><path stroke-width=\"2\" stroke=\"blue\" d=\"M 709.1837426859812 917.5376884422111 709.1837426859812 928.0904522613066\"/><path stroke-width=\"2\" stroke=\"orange\" d=\"M 710.0 62.76381909547739 709.1687376557126 62.76381909547739\"/><path stroke-width=\"2\" stroke=\"orange\" d=\"M 710.0 73.31658291457288 709.1687376557126 73.31658291457288\"/><path stroke-width=\"2\" stroke=\"orange\" d=\"M 709.1687376557126 62.76381909547739 709.1687376557126 73.31658291457288\"/><path stroke-width=\"2\" stroke=\"blue\" d=\"M 710.0 1096.9346733668342 709.0678192354197 1096.9346733668342\"/><path stroke-width=\"2\" stroke=\"blue\" d=\"M 710.0 1107.4874371859298 709.0678192354197 1107.4874371859298\"/><path stroke-width=\"2\" stroke=\"blue\" d=\"M 709.0678192354197 1096.9346733668342 709.0678192354197 1107.4874371859298\"/><path stroke-width=\"2\" stroke=\"orange\" d=\"M 710.0 94.42211055276383 709.0047423699273 94.42211055276383\"/><path stroke-width=\"2\" stroke=\"orange\" d=\"M 710.0 104.9748743718593 709.0047423699273 104.9748743718593\"/><path stroke-width=\"2\" stroke=\"orange\" d=\"M 709.0047423699273 94.42211055276383 709.0047423699273 104.9748743718593\"/><path stroke-width=\"2\" stroke=\"blue\" d=\"M 710.0 1455.7286432160806 708.9913433451261 1455.7286432160806\"/><path stroke-width=\"2\" stroke=\"blue\" d=\"M 710.0 1466.281407035176 708.9913433451261 1466.281407035176\"/><path stroke-width=\"2\" stroke=\"blue\" d=\"M 708.9913433451261 1455.7286432160806 708.9913433451261 1466.281407035176\"/><path stroke-width=\"2\" stroke=\"orange\" d=\"M 710.0 31.105527638190956 708.975063779616 31.105527638190956\"/><path stroke-width=\"2\" stroke=\"orange\" d=\"M 709.3175516636263 46.934673366834176 708.975063779616 46.934673366834176\"/><path stroke-width=\"2\" stroke=\"orange\" d=\"M 708.975063779616 31.105527638190956 708.975063779616 46.934673366834176\"/><path stroke-width=\"2\" stroke=\"fuchsia\" d=\"M 710.0 1803.9698492462312 708.9621366435482 1803.9698492462312\"/><path stroke-width=\"2\" stroke=\"fuchsia\" d=\"M 709.2186456709956 1819.7989949748744 708.9621366435482 1819.7989949748744\"/><path stroke-width=\"2\" stroke=\"fuchsia\" d=\"M 708.9621366435482 1803.9698492462312 708.9621366435482 1819.7989949748744\"/><path stroke-width=\"2\" stroke=\"blue\" d=\"M 710.0 1213.0150753768846 708.946758033024 1213.0150753768846\"/><path stroke-width=\"2\" stroke=\"blue\" d=\"M 710.0 1223.56783919598 708.946758033024 1223.56783919598\"/><path stroke-width=\"2\" stroke=\"blue\" d=\"M 708.946758033024 1213.0150753768846 708.946758033024 1223.56783919598\"/><path stroke-width=\"2\" stroke=\"orange\" d=\"M 709.5056171777859 141.9095477386935 708.9172912983643 141.9095477386935\"/><path stroke-width=\"2\" stroke=\"orange\" d=\"M 710.0 157.7386934673367 708.9172912983643 157.7386934673367\"/><path stroke-width=\"2\" stroke=\"orange\" d=\"M 708.9172912983643 141.9095477386935 708.9172912983643 157.7386934673367\"/><path stroke-width=\"2\" stroke=\"orange\" d=\"M 710.0 20.55276381909548 708.9098305058943 20.55276381909548\"/><path stroke-width=\"2\" stroke=\"orange\" d=\"M 708.975063779616 39.02010050251256 708.9098305058943 39.02010050251256\"/><path stroke-width=\"2\" stroke=\"orange\" d=\"M 708.9098305058943 20.55276381909548 708.9098305058943 39.02010050251256\"/><path stroke-width=\"2\" stroke=\"green\" d=\"M 710.0 1592.9145728643218 708.898484812267 1592.9145728643218\"/><path stroke-width=\"2\" stroke=\"green\" d=\"M 710.0 1603.4673366834172 708.898484812267 1603.4673366834172\"/><path stroke-width=\"2\" stroke=\"green\" d=\"M 708.898484812267 1592.9145728643218 708.898484812267 1603.4673366834172\"/><path stroke-width=\"2\" stroke=\"fuchsia\" d=\"M 710.0 1888.3919597989952 708.7546390271453 1888.3919597989952\"/><path stroke-width=\"2\" stroke=\"fuchsia\" d=\"M 710.0 1898.9447236180906 708.7546390271453 1898.9447236180906\"/><path stroke-width=\"2\" stroke=\"fuchsia\" d=\"M 708.7546390271453 1888.3919597989952 708.7546390271453 1898.9447236180906\"/><path stroke-width=\"2\" stroke=\"red\" d=\"M 709.351115685047 450.5778894472362 708.753246934296 450.5778894472362\"/><path stroke-width=\"2\" stroke=\"red\" d=\"M 709.471484311136 479.5979899497488 708.753246934296 479.5979899497488\"/><path stroke-width=\"2\" stroke=\"red\" d=\"M 708.753246934296 450.5778894472362 708.753246934296 479.5979899497488\"/><path stroke-width=\"2\" stroke=\"blue\" d=\"M 710.0 1181.356783919598 708.6901593431135 1181.356783919598\"/><path stroke-width=\"2\" stroke=\"blue\" d=\"M 710.0 1191.9095477386936 708.6901593431135 1191.9095477386936\"/><path stroke-width=\"2\" stroke=\"blue\" d=\"M 708.6901593431135 1181.356783919598 708.6901593431135 1191.9095477386936\"/><path stroke-width=\"2\" stroke=\"green\" d=\"M 710.0 1730.100502512563 708.682636626151 1730.100502512563\"/><path stroke-width=\"2\" stroke=\"green\" d=\"M 710.0 1740.6532663316584 708.682636626151 1740.6532663316584\"/><path stroke-width=\"2\" stroke=\"green\" d=\"M 708.682636626151 1730.100502512563 708.682636626151 1740.6532663316584\"/><path stroke-width=\"2\" stroke=\"blue\" d=\"M 710.0 1128.5929648241206 708.651745454627 1128.5929648241206\"/><path stroke-width=\"2\" stroke=\"blue\" d=\"M 710.0 1139.1457286432162 708.651745454627 1139.1457286432162\"/><path stroke-width=\"2\" stroke=\"blue\" d=\"M 708.651745454627 1128.5929648241206 708.651745454627 1139.1457286432162\"/><path stroke-width=\"2\" stroke=\"blue\" d=\"M 708.946758033024 1218.2914572864324 708.6386906328282 1218.2914572864324\"/><path stroke-width=\"2\" stroke=\"blue\" d=\"M 710.0 1234.1206030150754 708.6386906328282 1234.1206030150754\"/><path stroke-width=\"2\" stroke=\"blue\" d=\"M 708.6386906328282 1218.2914572864324 708.6386906328282 1234.1206030150754\"/><path stroke-width=\"2\" stroke=\"blue\" d=\"M 710.0 1371.3065326633166 708.5645617102298 1371.3065326633166\"/><path stroke-width=\"2\" stroke=\"blue\" d=\"M 710.0 1381.8592964824122 708.5645617102298 1381.8592964824122\"/><path stroke-width=\"2\" stroke=\"blue\" d=\"M 708.5645617102298 1371.3065326633166 708.5645617102298 1381.8592964824122\"/><path stroke-width=\"2\" stroke=\"green\" d=\"M 710.0 1772.3115577889448 708.4002253553467 1772.3115577889448\"/><path stroke-width=\"2\" stroke=\"green\" d=\"M 710.0 1782.8643216080404 708.4002253553467 1782.8643216080404\"/><path stroke-width=\"2\" stroke=\"green\" d=\"M 708.4002253553467 1772.3115577889448 708.4002253553467 1782.8643216080404\"/><path stroke-width=\"2\" stroke=\"orange\" d=\"M 710.0 115.52763819095478 708.384030857434 115.52763819095478\"/><path stroke-width=\"2\" stroke=\"orange\" d=\"M 710.0 126.08040201005026 708.384030857434 126.08040201005026\"/><path stroke-width=\"2\" stroke=\"orange\" d=\"M 708.384030857434 115.52763819095478 708.384030857434 126.08040201005026\"/><path stroke-width=\"2\" stroke=\"blue\" d=\"M 710.0 1445.175879396985 708.3791260073258 1445.175879396985\"/><path stroke-width=\"2\" stroke=\"blue\" d=\"M 708.9913433451261 1461.0050251256284 708.3791260073258 1461.0050251256284\"/><path stroke-width=\"2\" stroke=\"blue\" d=\"M 708.3791260073258 1445.175879396985 708.3791260073258 1461.0050251256284\"/><path stroke-width=\"2\" stroke=\"blue\" d=\"M 709.0678192354197 1102.211055276382 708.3752530150102 1102.211055276382\"/><path stroke-width=\"2\" stroke=\"blue\" d=\"M 710.0 1118.0402010050252 708.3752530150102 1118.0402010050252\"/><path stroke-width=\"2\" stroke=\"blue\" d=\"M 708.3752530150102 1102.211055276382 708.3752530150102 1118.0402010050252\"/><path stroke-width=\"2\" stroke=\"orange\" d=\"M 708.9098305058943 29.78643216080402 708.2555427892131 29.78643216080402\"/><path stroke-width=\"2\" stroke=\"orange\" d=\"M 709.1687376557126 68.04020100502512 708.2555427892131 68.04020100502512\"/><path stroke-width=\"2\" stroke=\"orange\" d=\"M 708.2555427892131 29.78643216080402 708.2555427892131 68.04020100502512\"/><path stroke-width=\"2\" stroke=\"blue\" d=\"M 710.0 1476.8341708542714 708.2352135796558 1476.8341708542714\"/><path stroke-width=\"2\" stroke=\"blue\" d=\"M 710.0 1487.386934673367 708.2352135796558 1487.386934673367\"/><path stroke-width=\"2\" stroke=\"blue\" d=\"M 708.2352135796558 1476.8341708542714 708.2352135796558 1487.386934673367\"/><path stroke-width=\"2\" stroke=\"green\" d=\"M 710.0 1666.78391959799 708.2314309564573 1666.78391959799\"/><path stroke-width=\"2\" stroke=\"green\" d=\"M 710.0 1677.3366834170856 708.2314309564573 1677.3366834170856\"/><path stroke-width=\"2\" stroke=\"green\" d=\"M 708.2314309564573 1666.78391959799 708.2314309564573 1677.3366834170856\"/><path stroke-width=\"2\" stroke=\"blue\" d=\"M 708.6386906328282 1226.206030150754 708.1724748587937 1226.206030150754\"/><path stroke-width=\"2\" stroke=\"blue\" d=\"M 710.0 1244.673366834171 708.1724748587937 1244.673366834171\"/><path stroke-width=\"2\" stroke=\"blue\" d=\"M 708.1724748587937 1226.206030150754 708.1724748587937 1244.673366834171\"/><path stroke-width=\"2\" stroke=\"red\" d=\"M 709.4599555609688 374.070351758794 708.0769870332081 374.070351758794\"/><path stroke-width=\"2\" stroke=\"red\" d=\"M 709.1956208473681 412.3241206030151 708.0769870332081 412.3241206030151\"/><path stroke-width=\"2\" stroke=\"red\" d=\"M 708.0769870332081 374.070351758794 708.0769870332081 412.3241206030151\"/><path stroke-width=\"2\" stroke=\"yellow\" d=\"M 710.0 812.0100502512563 707.9632516864579 812.0100502512563\"/><path stroke-width=\"2\" stroke=\"yellow\" d=\"M 710.0 822.5628140703518 707.9632516864579 822.5628140703518\"/><path stroke-width=\"2\" stroke=\"yellow\" d=\"M 707.9632516864579 812.0100502512563 707.9632516864579 822.5628140703518\"/><path stroke-width=\"2\" stroke=\"fuchsia\" d=\"M 709.4486310284741 1848.8190954773872 707.9449297103724 1848.8190954773872\"/><path stroke-width=\"2\" stroke=\"fuchsia\" d=\"M 710.0 1867.2864321608042 707.9449297103724 1867.2864321608042\"/><path stroke-width=\"2\" stroke=\"fuchsia\" d=\"M 707.9449297103724 1848.8190954773872 707.9449297103724 1867.2864321608042\"/><path stroke-width=\"2\" stroke=\"blue\" d=\"M 710.0 885.8793969849247 707.9163661081277 885.8793969849247\"/><path stroke-width=\"2\" stroke=\"blue\" d=\"M 710.0 896.4321608040202 707.9163661081277 896.4321608040202\"/><path stroke-width=\"2\" stroke=\"blue\" d=\"M 707.9163661081277 885.8793969849247 707.9163661081277 896.4321608040202\"/><path stroke-width=\"2\" stroke=\"purple\" d=\"M 710.0 1941.1557788944724 707.9004531081013 1941.1557788944724\"/><path stroke-width=\"2\" stroke=\"purple\" d=\"M 710.0 1951.708542713568 707.9004531081013 1951.708542713568\"/><path stroke-width=\"2\" stroke=\"purple\" d=\"M 707.9004531081013 1941.1557788944724 707.9004531081013 1951.708542713568\"/><path stroke-width=\"2\" stroke=\"red\" d=\"M 710.0 495.427135678392 707.8873036875399 495.427135678392\"/><path stroke-width=\"2\" stroke=\"red\" d=\"M 710.0 505.97989949748745 707.8873036875399 505.97989949748745\"/><path stroke-width=\"2\" stroke=\"red\" d=\"M 707.8873036875399 495.427135678392 707.8873036875399 505.97989949748745\"/><path stroke-width=\"2\" stroke=\"brown\" d=\"M 710.0 1540.1507537688444 707.8776070599972 1540.1507537688444\"/><path stroke-width=\"2\" stroke=\"brown\" d=\"M 710.0 1550.7035175879398 707.8776070599972 1550.7035175879398\"/><path stroke-width=\"2\" stroke=\"brown\" d=\"M 707.8776070599972 1540.1507537688444 707.8776070599972 1550.7035175879398\"/><path stroke-width=\"2\" stroke=\"olive\" d=\"M 709.5919768188139 184.1206030150754 707.8662795742548 184.1206030150754\"/><path stroke-width=\"2\" stroke=\"olive\" d=\"M 710.0 199.9497487437186 707.8662795742548 199.9497487437186\"/><path stroke-width=\"2\" stroke=\"olive\" d=\"M 707.8662795742548 184.1206030150754 707.8662795742548 199.9497487437186\"/><path stroke-width=\"2\" stroke=\"blue\" d=\"M 710.0 980.854271356784 707.8202710055349 980.854271356784\"/><path stroke-width=\"2\" stroke=\"blue\" d=\"M 710.0 991.4070351758795 707.8202710055349 991.4070351758795\"/><path stroke-width=\"2\" stroke=\"blue\" d=\"M 707.8202710055349 980.854271356784 707.8202710055349 991.4070351758795\"/><path stroke-width=\"2\" stroke=\"blue\" d=\"M 710.0 1012.5125628140704 707.75254121362 1012.5125628140704\"/><path stroke-width=\"2\" stroke=\"blue\" d=\"M 710.0 1023.0653266331659 707.75254121362 1023.0653266331659\"/><path stroke-width=\"2\" stroke=\"blue\" d=\"M 707.75254121362 1012.5125628140704 707.75254121362 1023.0653266331659\"/><path stroke-width=\"2\" stroke=\"green\" d=\"M 710.0 1656.2311557788946 707.725301904358 1656.2311557788946\"/><path stroke-width=\"2\" stroke=\"green\" d=\"M 708.2314309564573 1672.0603015075378 707.725301904358 1672.0603015075378\"/><path stroke-width=\"2\" stroke=\"green\" d=\"M 707.725301904358 1656.2311557788946 707.725301904358 1672.0603015075378\"/><path stroke-width=\"2\" stroke=\"blue\" d=\"M 710.0 1329.0954773869348 707.6663023529684 1329.0954773869348\"/><path stroke-width=\"2\" stroke=\"blue\" d=\"M 710.0 1339.6482412060302 707.6663023529684 1339.6482412060302\"/><path stroke-width=\"2\" stroke=\"blue\" d=\"M 707.6663023529684 1329.0954773869348 707.6663023529684 1339.6482412060302\"/><path stroke-width=\"2\" stroke=\"orange\" d=\"M 710.0 83.86934673366835 707.6554624352833 83.86934673366835\"/><path stroke-width=\"2\" stroke=\"orange\" d=\"M 709.0047423699273 99.69849246231156 707.6554624352833 99.69849246231156\"/><path stroke-width=\"2\" stroke=\"orange\" d=\"M 707.6554624352833 83.86934673366835 707.6554624352833 99.69849246231156\"/><path stroke-width=\"2\" stroke=\"blue\" d=\"M 710.0 1413.5175879396986 707.5100839275193 1413.5175879396986\"/><path stroke-width=\"2\" stroke=\"blue\" d=\"M 710.0 1424.070351758794 707.5100839275193 1424.070351758794\"/><path stroke-width=\"2\" stroke=\"blue\" d=\"M 707.5100839275193 1413.5175879396986 707.5100839275193 1424.070351758794\"/><path stroke-width=\"2\" stroke=\"aqua\" d=\"M 710.0 263.2663316582915 707.4065320592769 263.2663316582915\"/><path stroke-width=\"2\" stroke=\"aqua\" d=\"M 709.5666865625444 279.0954773869347 707.4065320592769 279.0954773869347\"/><path stroke-width=\"2\" stroke=\"aqua\" d=\"M 707.4065320592769 263.2663316582915 707.4065320592769 279.0954773869347\"/><path stroke-width=\"2\" stroke=\"blue\" d=\"M 708.3791260073258 1453.0904522613068 707.2355843039295 1453.0904522613068\"/><path stroke-width=\"2\" stroke=\"blue\" d=\"M 708.2352135796558 1482.1105527638192 707.2355843039295 1482.1105527638192\"/><path stroke-width=\"2\" stroke=\"blue\" d=\"M 707.2355843039295 1453.0904522613068 707.2355843039295 1482.1105527638192\"/><path stroke-width=\"2\" stroke=\"green\" d=\"M 708.898484812267 1598.1909547738696 707.1300102936189 1598.1909547738696\"/><path stroke-width=\"2\" stroke=\"green\" d=\"M 710.0 1614.0201005025126 707.1300102936189 1614.0201005025126\"/><path stroke-width=\"2\" stroke=\"green\" d=\"M 707.1300102936189 1598.1909547738696 707.1300102936189 1614.0201005025126\"/><path stroke-width=\"2\" stroke=\"orange\" d=\"M 708.2555427892131 48.913316582914575 707.0624797656237 48.913316582914575\"/><path stroke-width=\"2\" stroke=\"orange\" d=\"M 707.6554624352833 91.78391959798995 707.0624797656237 91.78391959798995\"/><path stroke-width=\"2\" stroke=\"orange\" d=\"M 707.0624797656237 48.913316582914575 707.0624797656237 91.78391959798995\"/><path stroke-width=\"2\" stroke=\"blue\" d=\"M 710.0 1033.6180904522614 707.0392310212695 1033.6180904522614\"/><path stroke-width=\"2\" stroke=\"blue\" d=\"M 710.0 1044.1708542713568 707.0392310212695 1044.1708542713568\"/><path stroke-width=\"2\" stroke=\"blue\" d=\"M 707.0392310212695 1033.6180904522614 707.0392310212695 1044.1708542713568\"/><path stroke-width=\"2\" stroke=\"blue\" d=\"M 710.0 1065.2763819095478 706.9939202232489 1065.2763819095478\"/><path stroke-width=\"2\" stroke=\"blue\" d=\"M 710.0 1075.8291457286432 706.9939202232489 1075.8291457286432\"/><path stroke-width=\"2\" stroke=\"blue\" d=\"M 706.9939202232489 1065.2763819095478 706.9939202232489 1075.8291457286432\"/><path stroke-width=\"2\" stroke=\"red\" d=\"M 710.0 2078.3417085427136 706.9197347421044 2078.3417085427136\"/><path stroke-width=\"2\" stroke=\"red\" d=\"M 710.0 2088.894472361809 706.9197347421044 2088.894472361809\"/><path stroke-width=\"2\" stroke=\"red\" d=\"M 706.9197347421044 2078.3417085427136 706.9197347421044 2088.894472361809\"/><path stroke-width=\"2\" stroke=\"green\" d=\"M 708.682636626151 1735.3768844221108 706.8818649681032 1735.3768844221108\"/><path stroke-width=\"2\" stroke=\"green\" d=\"M 710.0 1751.2060301507538 706.8818649681032 1751.2060301507538\"/><path stroke-width=\"2\" stroke=\"green\" d=\"M 706.8818649681032 1735.3768844221108 706.8818649681032 1751.2060301507538\"/><path stroke-width=\"2\" stroke=\"red\" d=\"M 707.8873036875399 500.7035175879397 706.8004961914771 500.7035175879397\"/><path stroke-width=\"2\" stroke=\"red\" d=\"M 710.0 516.532663316583 706.8004961914771 516.532663316583\"/><path stroke-width=\"2\" stroke=\"red\" d=\"M 706.8004961914771 500.7035175879397 706.8004961914771 516.532663316583\"/><path stroke-width=\"2\" stroke=\"fuchsia\" d=\"M 708.9621366435482 1811.8844221105528 706.7544393195192 1811.8844221105528\"/><path stroke-width=\"2\" stroke=\"fuchsia\" d=\"M 707.9449297103724 1858.0527638190956 706.7544393195192 1858.0527638190956\"/><path stroke-width=\"2\" stroke=\"fuchsia\" d=\"M 706.7544393195192 1811.8844221105528 706.7544393195192 1858.0527638190956\"/><path stroke-width=\"2\" stroke=\"blue\" d=\"M 708.651745454627 1133.8693467336684 706.6998965984271 1133.8693467336684\"/><path stroke-width=\"2\" stroke=\"blue\" d=\"M 710.0 1149.6984924623116 706.6998965984271 1149.6984924623116\"/><path stroke-width=\"2\" stroke=\"blue\" d=\"M 706.6998965984271 1133.8693467336684 706.6998965984271 1149.6984924623116\"/><path stroke-width=\"2\" stroke=\"blue\" d=\"M 709.236012677314 658.9949748743719 706.6912041548042 658.9949748743719\"/><path stroke-width=\"2\" stroke=\"blue\" d=\"M 709.4261260094593 682.7386934673368 706.6912041548042 682.7386934673368\"/><path stroke-width=\"2\" stroke=\"blue\" d=\"M 706.6912041548042 658.9949748743719 706.6912041548042 682.7386934673368\"/><path stroke-width=\"2\" stroke=\"blue\" d=\"M 707.75254121362 1017.7889447236182 706.6181250525874 1017.7889447236182\"/><path stroke-width=\"2\" stroke=\"blue\" d=\"M 707.0392310212695 1038.8944723618092 706.6181250525874 1038.8944723618092\"/><path stroke-width=\"2\" stroke=\"blue\" d=\"M 706.6181250525874 1017.7889447236182 706.6181250525874 1038.8944723618092\"/><path stroke-width=\"2\" stroke=\"purple\" d=\"M 709.6181028154915 1914.7738693467338 706.572068197074 1914.7738693467338\"/><path stroke-width=\"2\" stroke=\"purple\" d=\"M 710.0 1930.603015075377 706.572068197074 1930.603015075377\"/><path stroke-width=\"2\" stroke=\"purple\" d=\"M 706.572068197074 1914.7738693467338 706.572068197074 1930.603015075377\"/><path stroke-width=\"2\" stroke=\"blue\" d=\"M 710.0 1086.3819095477388 706.4309340332744 1086.3819095477388\"/><path stroke-width=\"2\" stroke=\"blue\" d=\"M 708.3752530150102 1110.1256281407036 706.4309340332744 1110.1256281407036\"/><path stroke-width=\"2\" stroke=\"blue\" d=\"M 706.4309340332744 1086.3819095477388 706.4309340332744 1110.1256281407036\"/><path stroke-width=\"2\" stroke=\"blue\" d=\"M 710.0 949.1959798994976 706.4306358197779 949.1959798994976\"/><path stroke-width=\"2\" stroke=\"blue\" d=\"M 710.0 959.748743718593 706.4306358197779 959.748743718593\"/><path stroke-width=\"2\" stroke=\"blue\" d=\"M 706.4306358197779 949.1959798994976 706.4306358197779 959.748743718593\"/><path stroke-width=\"2\" stroke=\"orange\" d=\"M 707.0624797656237 70.34861809045226 706.2877260079198 70.34861809045226\"/><path stroke-width=\"2\" stroke=\"orange\" d=\"M 708.384030857434 120.80402010050253 706.2877260079198 120.80402010050253\"/><path stroke-width=\"2\" stroke=\"orange\" d=\"M 706.2877260079198 70.34861809045226 706.2877260079198 120.80402010050253\"/><path stroke-width=\"2\" stroke=\"purple\" d=\"M 710.0 2015.0251256281408 706.1353153944419 2015.0251256281408\"/><path stroke-width=\"2\" stroke=\"purple\" d=\"M 710.0 2025.5778894472364 706.1353153944419 2025.5778894472364\"/><path stroke-width=\"2\" stroke=\"purple\" d=\"M 706.1353153944419 2015.0251256281408 706.1353153944419 2025.5778894472364\"/><path stroke-width=\"2\" stroke=\"red\" d=\"M 710.0 579.8492462311558 705.9436962129157 579.8492462311558\"/><path stroke-width=\"2\" stroke=\"red\" d=\"M 709.6577320706274 595.678391959799 705.9436962129157 595.678391959799\"/><path stroke-width=\"2\" stroke=\"red\" d=\"M 705.9436962129157 579.8492462311558 705.9436962129157 595.678391959799\"/><path stroke-width=\"2\" stroke=\"green\" d=\"M 708.4002253553467 1777.5879396984926 705.9179914389636 1777.5879396984926\"/><path stroke-width=\"2\" stroke=\"green\" d=\"M 710.0 1793.4170854271358 705.9179914389636 1793.4170854271358\"/><path stroke-width=\"2\" stroke=\"green\" d=\"M 705.9179914389636 1777.5879396984926 705.9179914389636 1793.4170854271358\"/><path stroke-width=\"2\" stroke=\"aqua\" d=\"M 710.0 294.9246231155779 705.8879073668069 294.9246231155779\"/><path stroke-width=\"2\" stroke=\"aqua\" d=\"M 710.0 305.4773869346734 705.8879073668069 305.4773869346734\"/><path stroke-width=\"2\" stroke=\"aqua\" d=\"M 705.8879073668069 294.9246231155779 705.8879073668069 305.4773869346734\"/><path stroke-width=\"2\" stroke=\"olive\" d=\"M 710.0 231.60804020100505 705.6048885809448 231.60804020100505\"/><path stroke-width=\"2\" stroke=\"olive\" d=\"M 710.0 242.16080402010053 705.6048885809448 242.16080402010053\"/><path stroke-width=\"2\" stroke=\"olive\" d=\"M 705.6048885809448 231.60804020100505 705.6048885809448 242.16080402010053\"/><path stroke-width=\"2\" stroke=\"blue\" d=\"M 707.6663023529684 1334.3718592964824 705.5663611300862 1334.3718592964824\"/><path stroke-width=\"2\" stroke=\"blue\" d=\"M 710.0 1350.2010050251258 705.5663611300862 1350.2010050251258\"/><path stroke-width=\"2\" stroke=\"blue\" d=\"M 705.5663611300862 1334.3718592964824 705.5663611300862 1350.2010050251258\"/><path stroke-width=\"2\" stroke=\"red\" d=\"M 710.0 611.5075376884423 705.4885131299201 611.5075376884423\"/><path stroke-width=\"2\" stroke=\"red\" d=\"M 709.2767664908038 627.3366834170854 705.4885131299201 627.3366834170854\"/><path stroke-width=\"2\" stroke=\"red\" d=\"M 705.4885131299201 611.5075376884423 705.4885131299201 627.3366834170854\"/><path stroke-width=\"2\" stroke=\"orange\" d=\"M 706.2877260079198 95.5763190954774 705.4604003517529 95.5763190954774\"/><path stroke-width=\"2\" stroke=\"orange\" d=\"M 708.9172912983643 149.8241206030151 705.4604003517529 149.8241206030151\"/><path stroke-width=\"2\" stroke=\"orange\" d=\"M 705.4604003517529 95.5763190954774 705.4604003517529 149.8241206030151\"/><path stroke-width=\"2\" stroke=\"blue\" d=\"M 710.0 1297.4371859296484 705.1980417165321 1297.4371859296484\"/><path stroke-width=\"2\" stroke=\"blue\" d=\"M 710.0 1307.9899497487438 705.1980417165321 1307.9899497487438\"/><path stroke-width=\"2\" stroke=\"blue\" d=\"M 705.1980417165321 1297.4371859296484 705.1980417165321 1307.9899497487438\"/><path stroke-width=\"2\" stroke=\"blue\" d=\"M 707.8202710055349 986.1306532663318 705.154704313417 986.1306532663318\"/><path stroke-width=\"2\" stroke=\"blue\" d=\"M 710.0 1001.9597989949749 705.154704313417 1001.9597989949749\"/><path stroke-width=\"2\" stroke=\"blue\" d=\"M 705.154704313417 986.1306532663318 705.154704313417 1001.9597989949749\"/><path stroke-width=\"2\" stroke=\"blue\" d=\"M 710.0 1265.7788944723618 705.1083361935526 1265.7788944723618\"/><path stroke-width=\"2\" stroke=\"blue\" d=\"M 710.0 1276.3316582914574 705.1083361935526 1276.3316582914574\"/><path stroke-width=\"2\" stroke=\"blue\" d=\"M 705.1083361935526 1265.7788944723618 705.1083361935526 1276.3316582914574\"/><path stroke-width=\"2\" stroke=\"purple\" d=\"M 710.0 1983.3668341708544 705.0476651073162 1983.3668341708544\"/><path stroke-width=\"2\" stroke=\"purple\" d=\"M 710.0 1993.9195979899498 705.0476651073162 1993.9195979899498\"/><path stroke-width=\"2\" stroke=\"purple\" d=\"M 705.0476651073162 1983.3668341708544 705.0476651073162 1993.9195979899498\"/><path stroke-width=\"2\" stroke=\"red\" d=\"M 709.3384944148373 2041.4070351758796 705.017449971028 2041.4070351758796\"/><path stroke-width=\"2\" stroke=\"red\" d=\"M 710.0 2057.236180904523 705.017449971028 2057.236180904523\"/><path stroke-width=\"2\" stroke=\"red\" d=\"M 705.017449971028 2041.4070351758796 705.017449971028 2057.236180904523\"/><path stroke-width=\"2\" stroke=\"yellow\" d=\"M 707.9632516864579 817.286432160804 704.9626890471643 817.286432160804\"/><path stroke-width=\"2\" stroke=\"yellow\" d=\"M 710.0 833.1155778894473 704.9626890471643 833.1155778894473\"/><path stroke-width=\"2\" stroke=\"yellow\" d=\"M 704.9626890471643 817.286432160804 704.9626890471643 833.1155778894473\"/><path stroke-width=\"2\" stroke=\"brown\" d=\"M 710.0 1571.8090452261308 704.9120547700419 1571.8090452261308\"/><path stroke-width=\"2\" stroke=\"brown\" d=\"M 710.0 1582.3618090452262 704.9120547700419 1582.3618090452262\"/><path stroke-width=\"2\" stroke=\"brown\" d=\"M 704.9120547700419 1571.8090452261308 704.9120547700419 1582.3618090452262\"/><path stroke-width=\"2\" stroke=\"blue\" d=\"M 707.5100839275193 1418.7939698492464 704.8746030369109 1418.7939698492464\"/><path stroke-width=\"2\" stroke=\"blue\" d=\"M 710.0 1434.6231155778896 704.8746030369109 1434.6231155778896\"/><path stroke-width=\"2\" stroke=\"blue\" d=\"M 704.8746030369109 1418.7939698492464 704.8746030369109 1434.6231155778896\"/><path stroke-width=\"2\" stroke=\"red\" d=\"M 709.4845670095596 542.9145728643216 704.855713029082 542.9145728643216\"/><path stroke-width=\"2\" stroke=\"red\" d=\"M 709.6220849046941 564.0201005025126 704.855713029082 564.0201005025126\"/><path stroke-width=\"2\" stroke=\"red\" d=\"M 704.855713029082 542.9145728643216 704.855713029082 564.0201005025126\"/><path stroke-width=\"2\" stroke=\"blue\" d=\"M 710.0 1054.7236180904524 704.6681026856513 1054.7236180904524\"/><path stroke-width=\"2\" stroke=\"blue\" d=\"M 706.9939202232489 1070.5527638190956 704.6681026856513 1070.5527638190956\"/><path stroke-width=\"2\" stroke=\"blue\" d=\"M 704.6681026856513 1054.7236180904524 704.6681026856513 1070.5527638190956\"/><path stroke-width=\"2\" stroke=\"green\" d=\"M 707.725301904358 1664.1457286432162 704.6458998588354 1664.1457286432162\"/><path stroke-width=\"2\" stroke=\"green\" d=\"M 710.0 1687.889447236181 704.6458998588354 1687.889447236181\"/><path stroke-width=\"2\" stroke=\"green\" d=\"M 704.6458998588354 1664.1457286432162 704.6458998588354 1687.889447236181\"/><path stroke-width=\"2\" stroke=\"aqua\" d=\"M 705.8879073668069 300.20100502512565 704.6295185212123 300.20100502512565\"/><path stroke-width=\"2\" stroke=\"aqua\" d=\"M 710.0 316.03015075376885 704.6295185212123 316.03015075376885\"/><path stroke-width=\"2\" stroke=\"aqua\" d=\"M 704.6295185212123 300.20100502512565 704.6295185212123 316.03015075376885\"/><path stroke-width=\"2\" stroke=\"green\" d=\"M 710.0 1708.994974874372 704.2168426391122 1708.994974874372\"/><path stroke-width=\"2\" stroke=\"green\" d=\"M 710.0 1719.5477386934674 704.2168426391122 1719.5477386934674\"/><path stroke-width=\"2\" stroke=\"green\" d=\"M 704.2168426391122 1708.994974874372 704.2168426391122 1719.5477386934674\"/><path stroke-width=\"2\" stroke=\"blue\" d=\"M 710.0 1286.8844221105528 704.1925269796166 1286.8844221105528\"/><path stroke-width=\"2\" stroke=\"blue\" d=\"M 705.1980417165321 1302.713567839196 704.1925269796166 1302.713567839196\"/><path stroke-width=\"2\" stroke=\"blue\" d=\"M 704.1925269796166 1286.8844221105528 704.1925269796166 1302.713567839196\"/><path stroke-width=\"2\" stroke=\"blue\" d=\"M 706.4309340332744 1098.2537688442212 704.0436800425995 1098.2537688442212\"/><path stroke-width=\"2\" stroke=\"blue\" d=\"M 706.6998965984271 1141.78391959799 704.0436800425995 1141.78391959799\"/><path stroke-width=\"2\" stroke=\"blue\" d=\"M 704.0436800425995 1098.2537688442212 704.0436800425995 1141.78391959799\"/><path stroke-width=\"2\" stroke=\"green\" d=\"M 710.0 1624.5728643216082 703.9905039463383 1624.5728643216082\"/><path stroke-width=\"2\" stroke=\"green\" d=\"M 710.0 1635.1256281407036 703.9905039463383 1635.1256281407036\"/><path stroke-width=\"2\" stroke=\"green\" d=\"M 703.9905039463383 1624.5728643216082 703.9905039463383 1635.1256281407036\"/><path stroke-width=\"2\" stroke=\"blue\" d=\"M 710.0 875.3266331658292 703.8978461420168 875.3266331658292\"/><path stroke-width=\"2\" stroke=\"blue\" d=\"M 707.9163661081277 891.1557788944724 703.8978461420168 891.1557788944724\"/><path stroke-width=\"2\" stroke=\"blue\" d=\"M 703.8978461420168 875.3266331658292 703.8978461420168 891.1557788944724\"/><path stroke-width=\"2\" stroke=\"orange\" d=\"M 709.22682377299 342.41206030150755 703.8764395470677 342.41206030150755\"/><path stroke-width=\"2\" stroke=\"orange\" d=\"M 710.0 358.2412060301508 703.8764395470677 358.2412060301508\"/><path stroke-width=\"2\" stroke=\"orange\" d=\"M 703.8764395470677 342.41206030150755 703.8764395470677 358.2412060301508\"/><path stroke-width=\"2\" stroke=\"fuchsia\" d=\"M 706.7544393195192 1834.9685929648242 703.8097854470163 1834.9685929648242\"/><path stroke-width=\"2\" stroke=\"fuchsia\" d=\"M 710.0 1877.8391959798996 703.8097854470163 1877.8391959798996\"/><path stroke-width=\"2\" stroke=\"fuchsia\" d=\"M 703.8097854470163 1834.9685929648242 703.8097854470163 1877.8391959798996\"/><path stroke-width=\"2\" stroke=\"olive\" d=\"M 705.6048885809448 236.8844221105528 703.6137765071919 236.8844221105528\"/><path stroke-width=\"2\" stroke=\"olive\" d=\"M 710.0 252.713567839196 703.6137765071919 252.713567839196\"/><path stroke-width=\"2\" stroke=\"olive\" d=\"M 703.6137765071919 236.8844221105528 703.6137765071919 252.713567839196\"/><path stroke-width=\"2\" stroke=\"purple\" d=\"M 707.9004531081013 1946.4321608040202 703.5504941924086 1946.4321608040202\"/><path stroke-width=\"2\" stroke=\"purple\" d=\"M 710.0 1962.2613065326634 703.5504941924086 1962.2613065326634\"/><path stroke-width=\"2\" stroke=\"purple\" d=\"M 703.5504941924086 1946.4321608040202 703.5504941924086 1962.2613065326634\"/><path stroke-width=\"2\" stroke=\"red\" d=\"M 705.9436962129157 587.7638190954774 703.5216029678423 587.7638190954774\"/><path stroke-width=\"2\" stroke=\"red\" d=\"M 705.4885131299201 619.4221105527638 703.5216029678423 619.4221105527638\"/><path stroke-width=\"2\" stroke=\"red\" d=\"M 703.5216029678423 587.7638190954774 703.5216029678423 619.4221105527638\"/><path stroke-width=\"2\" stroke=\"blue\" d=\"M 706.6181250525874 1028.3417085427136 703.4662431933976 1028.3417085427136\"/><path stroke-width=\"2\" stroke=\"blue\" d=\"M 704.6681026856513 1062.638190954774 703.4662431933976 1062.638190954774\"/><path stroke-width=\"2\" stroke=\"blue\" d=\"M 703.4662431933976 1028.3417085427136 703.4662431933976 1062.638190954774\"/><path stroke-width=\"2\" stroke=\"blue\" d=\"M 710.0 1360.7537688442212 703.2599818943986 1360.7537688442212\"/><path stroke-width=\"2\" stroke=\"blue\" d=\"M 708.5645617102298 1376.5829145728644 703.2599818943986 1376.5829145728644\"/><path stroke-width=\"2\" stroke=\"blue\" d=\"M 703.2599818943986 1360.7537688442212 703.2599818943986 1376.5829145728644\"/><path stroke-width=\"2\" stroke=\"blue\" d=\"M 710.0 1392.4120603015076 703.105360729042 1392.4120603015076\"/><path stroke-width=\"2\" stroke=\"blue\" d=\"M 710.0 1402.9648241206032 703.105360729042 1402.9648241206032\"/><path stroke-width=\"2\" stroke=\"blue\" d=\"M 703.105360729042 1392.4120603015076 703.105360729042 1402.9648241206032\"/><path stroke-width=\"2\" stroke=\"purple\" d=\"M 710.0 1497.9396984924624 703.0568493793635 1497.9396984924624\"/><path stroke-width=\"2\" stroke=\"purple\" d=\"M 710.0 1508.4924623115578 703.0568493793635 1508.4924623115578\"/><path stroke-width=\"2\" stroke=\"purple\" d=\"M 703.0568493793635 1497.9396984924624 703.0568493793635 1508.4924623115578\"/><path stroke-width=\"2\" stroke=\"purple\" d=\"M 710.0 2004.4723618090454 702.9864892347318 2004.4723618090454\"/><path stroke-width=\"2\" stroke=\"purple\" d=\"M 706.1353153944419 2020.3015075376886 702.9864892347318 2020.3015075376886\"/><path stroke-width=\"2\" stroke=\"purple\" d=\"M 702.9864892347318 2004.4723618090454 702.9864892347318 2020.3015075376886\"/><path stroke-width=\"2\" stroke=\"brown\" d=\"M 707.8776070599972 1545.427135678392 702.8166862029914 1545.427135678392\"/><path stroke-width=\"2\" stroke=\"brown\" d=\"M 710.0 1561.2562814070352 702.8166862029914 1561.2562814070352\"/><path stroke-width=\"2\" stroke=\"brown\" d=\"M 702.8166862029914 1545.427135678392 702.8166862029914 1561.2562814070352\"/><path stroke-width=\"2\" stroke=\"blue\" d=\"M 710.0 938.6432160804021 702.7982985983235 938.6432160804021\"/><path stroke-width=\"2\" stroke=\"blue\" d=\"M 706.4306358197779 954.4723618090453 702.7982985983235 954.4723618090453\"/><path stroke-width=\"2\" stroke=\"blue\" d=\"M 702.7982985983235 938.6432160804021 702.7982985983235 954.4723618090453\"/><path stroke-width=\"2\" stroke=\"red\" d=\"M 706.8004961914771 508.61809045226136 702.79434347293 508.61809045226136\"/><path stroke-width=\"2\" stroke=\"red\" d=\"M 710.0 527.0854271356784 702.79434347293 527.0854271356784\"/><path stroke-width=\"2\" stroke=\"red\" d=\"M 702.79434347293 508.61809045226136 702.79434347293 527.0854271356784\"/><path stroke-width=\"2\" stroke=\"yellow\" d=\"M 710.0 780.3517587939699 702.7150706744561 780.3517587939699\"/><path stroke-width=\"2\" stroke=\"yellow\" d=\"M 710.0 790.9045226130654 702.7150706744561 790.9045226130654\"/><path stroke-width=\"2\" stroke=\"yellow\" d=\"M 702.7150706744561 780.3517587939699 702.7150706744561 790.9045226130654\"/><path stroke-width=\"2\" stroke=\"blue\" d=\"M 708.1724748587937 1235.4396984924624 702.7109568351526 1235.4396984924624\"/><path stroke-width=\"2\" stroke=\"blue\" d=\"M 710.0 1255.2261306532664 702.7109568351526 1255.2261306532664\"/><path stroke-width=\"2\" stroke=\"blue\" d=\"M 702.7109568351526 1235.4396984924624 702.7109568351526 1255.2261306532664\"/><path stroke-width=\"2\" stroke=\"yellow\" d=\"M 710.0 843.6683417085428 702.5562093701124 843.6683417085428\"/><path stroke-width=\"2\" stroke=\"yellow\" d=\"M 710.0 854.2211055276382 702.5562093701124 854.2211055276382\"/><path stroke-width=\"2\" stroke=\"yellow\" d=\"M 702.5562093701124 843.6683417085428 702.5562093701124 854.2211055276382\"/><path stroke-width=\"2\" stroke=\"green\" d=\"M 703.9905039463383 1629.849246231156 702.535596796585 1629.849246231156\"/><path stroke-width=\"2\" stroke=\"green\" d=\"M 710.0 1645.6783919597992 702.535596796585 1645.6783919597992\"/><path stroke-width=\"2\" stroke=\"green\" d=\"M 702.535596796585 1629.849246231156 702.535596796585 1645.6783919597992\"/><path stroke-width=\"2\" stroke=\"blue\" d=\"M 703.4662431933976 1045.4899497487438 702.3222406861244 1045.4899497487438\"/><path stroke-width=\"2\" stroke=\"blue\" d=\"M 704.0436800425995 1120.0188442211056 702.3222406861244 1120.0188442211056\"/><path stroke-width=\"2\" stroke=\"blue\" d=\"M 702.3222406861244 1045.4899497487438 702.3222406861244 1120.0188442211056\"/><path stroke-width=\"2\" stroke=\"brown\" d=\"M 710.0 1529.5979899497488 702.2410704489822 1529.5979899497488\"/><path stroke-width=\"2\" stroke=\"brown\" d=\"M 702.8166862029914 1553.3417085427136 702.2410704489822 1553.3417085427136\"/><path stroke-width=\"2\" stroke=\"brown\" d=\"M 702.2410704489822 1529.5979899497488 702.2410704489822 1553.3417085427136\"/><path stroke-width=\"2\" stroke=\"blue\" d=\"M 710.0 970.3015075376885 702.2242356188865 970.3015075376885\"/><path stroke-width=\"2\" stroke=\"blue\" d=\"M 705.154704313417 994.0452261306534 702.2242356188865 994.0452261306534\"/><path stroke-width=\"2\" stroke=\"blue\" d=\"M 702.2242356188865 970.3015075376885 702.2242356188865 994.0452261306534\"/><path stroke-width=\"2\" stroke=\"blue\" d=\"M 710.0 1170.8040201005026 701.9947418353479 1170.8040201005026\"/><path stroke-width=\"2\" stroke=\"blue\" d=\"M 708.6901593431135 1186.6331658291458 701.9947418353479 1186.6331658291458\"/><path stroke-width=\"2\" stroke=\"blue\" d=\"M 701.9947418353479 1170.8040201005026 701.9947418353479 1186.6331658291458\"/><path stroke-width=\"2\" stroke=\"yellow\" d=\"M 710.0 759.2462311557789 701.9173722156612 759.2462311557789\"/><path stroke-width=\"2\" stroke=\"yellow\" d=\"M 710.0 769.7989949748744 701.9173722156612 769.7989949748744\"/><path stroke-width=\"2\" stroke=\"yellow\" d=\"M 701.9173722156612 759.2462311557789 701.9173722156612 769.7989949748744\"/><path stroke-width=\"2\" stroke=\"green\" d=\"M 710.0 1761.7587939698494 701.4062339543742 1761.7587939698494\"/><path stroke-width=\"2\" stroke=\"green\" d=\"M 705.9179914389636 1785.5025125628142 701.4062339543742 1785.5025125628142\"/><path stroke-width=\"2\" stroke=\"green\" d=\"M 701.4062339543742 1761.7587939698494 701.4062339543742 1785.5025125628142\"/><path stroke-width=\"2\" stroke=\"red\" d=\"M 708.0769870332081 393.19723618090455 701.3395899186933 393.19723618090455\"/><path stroke-width=\"2\" stroke=\"red\" d=\"M 708.753246934296 465.0879396984925 701.3395899186933 465.0879396984925\"/><path stroke-width=\"2\" stroke=\"red\" d=\"M 701.3395899186933 393.19723618090455 701.3395899186933 465.0879396984925\"/><path stroke-width=\"2\" stroke=\"blue\" d=\"M 704.1925269796166 1294.7989949748744 701.2742965896347 1294.7989949748744\"/><path stroke-width=\"2\" stroke=\"blue\" d=\"M 710.0 1318.5427135678392 701.2742965896347 1318.5427135678392\"/><path stroke-width=\"2\" stroke=\"blue\" d=\"M 701.2742965896347 1294.7989949748744 701.2742965896347 1318.5427135678392\"/><path stroke-width=\"2\" stroke=\"purple\" d=\"M 710.0 1972.814070351759 701.1245017540799 1972.814070351759\"/><path stroke-width=\"2\" stroke=\"purple\" d=\"M 705.0476651073162 1988.643216080402 701.1245017540799 1988.643216080402\"/><path stroke-width=\"2\" stroke=\"purple\" d=\"M 701.1245017540799 1972.814070351759 701.1245017540799 1988.643216080402\"/><path stroke-width=\"2\" stroke=\"blue\" d=\"M 704.8746030369109 1426.708542713568 701.0819214233417 1426.708542713568\"/><path stroke-width=\"2\" stroke=\"blue\" d=\"M 707.2355843039295 1467.600502512563 701.0819214233417 1467.600502512563\"/><path stroke-width=\"2\" stroke=\"blue\" d=\"M 701.0819214233417 1426.708542713568 701.0819214233417 1467.600502512563\"/><path stroke-width=\"2\" stroke=\"olive\" d=\"M 709.636362128731 215.7788944723618 700.9454665320387 215.7788944723618\"/><path stroke-width=\"2\" stroke=\"olive\" d=\"M 703.6137765071919 244.7989949748744 700.9454665320387 244.7989949748744\"/><path stroke-width=\"2\" stroke=\"olive\" d=\"M 700.9454665320387 215.7788944723618 700.9454665320387 244.7989949748744\"/><path stroke-width=\"2\" stroke=\"blue\" d=\"M 702.7109568351526 1245.3329145728644 700.6317190710856 1245.3329145728644\"/><path stroke-width=\"2\" stroke=\"blue\" d=\"M 705.1083361935526 1271.0552763819096 700.6317190710856 1271.0552763819096\"/><path stroke-width=\"2\" stroke=\"blue\" d=\"M 700.6317190710856 1245.3329145728644 700.6317190710856 1271.0552763819096\"/><path stroke-width=\"2\" stroke=\"blue\" d=\"M 702.3222406861244 1082.7543969849248 700.6068029283538 1082.7543969849248\"/><path stroke-width=\"2\" stroke=\"blue\" d=\"M 710.0 1160.2512562814072 700.6068029283538 1160.2512562814072\"/><path stroke-width=\"2\" stroke=\"blue\" d=\"M 700.6068029283538 1082.7543969849248 700.6068029283538 1160.2512562814072\"/><path stroke-width=\"2\" stroke=\"blue\" d=\"M 701.9947418353479 1178.7185929648242 700.3316008564286 1178.7185929648242\"/><path stroke-width=\"2\" stroke=\"blue\" d=\"M 710.0 1202.462311557789 700.3316008564286 1202.462311557789\"/><path stroke-width=\"2\" stroke=\"blue\" d=\"M 700.3316008564286 1178.7185929648242 700.3316008564286 1202.462311557789\"/><path stroke-width=\"2\" stroke=\"green\" d=\"M 702.535596796585 1637.7638190954776 700.2297682222321 1637.7638190954776\"/><path stroke-width=\"2\" stroke=\"green\" d=\"M 704.6458998588354 1676.0175879396986 700.2297682222321 1676.0175879396986\"/><path stroke-width=\"2\" stroke=\"green\" d=\"M 700.2297682222321 1637.7638190954776 700.2297682222321 1676.0175879396986\"/><path stroke-width=\"2\" stroke=\"blue\" d=\"M 709.1837426859812 922.8140703517588 700.2077408899357 922.8140703517588\"/><path stroke-width=\"2\" stroke=\"blue\" d=\"M 702.7982985983235 946.5577889447237 700.2077408899357 946.5577889447237\"/><path stroke-width=\"2\" stroke=\"blue\" d=\"M 700.2077408899357 922.8140703517588 700.2077408899357 946.5577889447237\"/><path stroke-width=\"2\" stroke=\"aqua\" d=\"M 707.4065320592769 271.1809045226131 699.775930632882 271.1809045226131\"/><path stroke-width=\"2\" stroke=\"aqua\" d=\"M 704.6295185212123 308.11557788944725 699.775930632882 308.11557788944725\"/><path stroke-width=\"2\" stroke=\"aqua\" d=\"M 699.775930632882 271.1809045226131 699.775930632882 308.11557788944725\"/><path stroke-width=\"2\" stroke=\"yellow\" d=\"M 710.0 801.4572864321609 699.7734221890742 801.4572864321609\"/><path stroke-width=\"2\" stroke=\"yellow\" d=\"M 704.9626890471643 825.2010050251256 699.7734221890742 825.2010050251256\"/><path stroke-width=\"2\" stroke=\"yellow\" d=\"M 699.7734221890742 801.4572864321609 699.7734221890742 825.2010050251256\"/><path stroke-width=\"2\" stroke=\"orange\" d=\"M 710.0 10.0 699.6580326276282 10.0\"/><path stroke-width=\"2\" stroke=\"orange\" d=\"M 705.4604003517529 122.70021984924625 699.6580326276282 122.70021984924625\"/><path stroke-width=\"2\" stroke=\"orange\" d=\"M 699.6580326276282 10.0 699.6580326276282 122.70021984924625\"/><path stroke-width=\"2\" stroke=\"green\" d=\"M 700.2297682222321 1656.890703517588 699.4960984421285 1656.890703517588\"/><path stroke-width=\"2\" stroke=\"green\" d=\"M 710.0 1698.4422110552764 699.4960984421285 1698.4422110552764\"/><path stroke-width=\"2\" stroke=\"green\" d=\"M 699.4960984421285 1656.890703517588 699.4960984421285 1698.4422110552764\"/><path stroke-width=\"2\" stroke=\"blue\" d=\"M 702.2242356188865 982.173366834171 699.3630241382904 982.173366834171\"/><path stroke-width=\"2\" stroke=\"blue\" d=\"M 700.6068029283538 1121.502826633166 699.3630241382904 1121.502826633166\"/><path stroke-width=\"2\" stroke=\"blue\" d=\"M 699.3630241382904 982.173366834171 699.3630241382904 1121.502826633166\"/><path stroke-width=\"2\" stroke=\"blue\" d=\"M 701.2742965896347 1306.6708542713568 699.3225950063639 1306.6708542713568\"/><path stroke-width=\"2\" stroke=\"blue\" d=\"M 705.5663611300862 1342.286432160804 699.3225950063639 1342.286432160804\"/><path stroke-width=\"2\" stroke=\"blue\" d=\"M 699.3225950063639 1306.6708542713568 699.3225950063639 1342.286432160804\"/><path stroke-width=\"2\" stroke=\"purple\" d=\"M 701.1245017540799 1980.7286432160804 698.9543669458103 1980.7286432160804\"/><path stroke-width=\"2\" stroke=\"purple\" d=\"M 702.9864892347318 2012.386934673367 698.9543669458103 2012.386934673367\"/><path stroke-width=\"2\" stroke=\"purple\" d=\"M 698.9543669458103 1980.7286432160804 698.9543669458103 2012.386934673367\"/><path stroke-width=\"2\" stroke=\"red\" d=\"M 702.79434347293 517.8517587939699 698.7725572914136 517.8517587939699\"/><path stroke-width=\"2\" stroke=\"red\" d=\"M 704.855713029082 553.4673366834171 698.7725572914136 553.4673366834171\"/><path stroke-width=\"2\" stroke=\"red\" d=\"M 698.7725572914136 517.8517587939699 698.7725572914136 553.4673366834171\"/><path stroke-width=\"2\" stroke=\"yellow\" d=\"M 702.5562093701124 848.9447236180905 698.5759246418216 848.9447236180905\"/><path stroke-width=\"2\" stroke=\"yellow\" d=\"M 710.0 864.7738693467337 698.5759246418216 864.7738693467337\"/><path stroke-width=\"2\" stroke=\"yellow\" d=\"M 698.5759246418216 848.9447236180905 698.5759246418216 864.7738693467337\"/><path stroke-width=\"2\" stroke=\"red\" d=\"M 710.0 2067.7889447236184 698.4302913307378 2067.7889447236184\"/><path stroke-width=\"2\" stroke=\"red\" d=\"M 706.9197347421044 2083.6180904522616 698.4302913307378 2083.6180904522616\"/><path stroke-width=\"2\" stroke=\"red\" d=\"M 698.4302913307378 2067.7889447236184 698.4302913307378 2083.6180904522616\"/><path stroke-width=\"2\" stroke=\"purple\" d=\"M 706.572068197074 1922.6884422110554 698.153416273152 1922.6884422110554\"/><path stroke-width=\"2\" stroke=\"purple\" d=\"M 703.5504941924086 1954.3467336683418 698.153416273152 1954.3467336683418\"/><path stroke-width=\"2\" stroke=\"purple\" d=\"M 698.153416273152 1922.6884422110554 698.153416273152 1954.3467336683418\"/><path stroke-width=\"2\" stroke=\"orange\" d=\"M 699.6580326276282 66.35010992462313 698.0726266585353 66.35010992462313\"/><path stroke-width=\"2\" stroke=\"orange\" d=\"M 710.0 168.29145728643218 698.0726266585353 168.29145728643218\"/><path stroke-width=\"2\" stroke=\"orange\" d=\"M 698.0726266585353 66.35010992462313 698.0726266585353 168.29145728643218\"/><path stroke-width=\"2\" stroke=\"blue\" d=\"M 703.105360729042 1397.6884422110554 697.9576334745227 1397.6884422110554\"/><path stroke-width=\"2\" stroke=\"blue\" d=\"M 701.0819214233417 1447.1545226130656 697.9576334745227 1447.1545226130656\"/><path stroke-width=\"2\" stroke=\"blue\" d=\"M 697.9576334745227 1397.6884422110554 697.9576334745227 1447.1545226130656\"/><path stroke-width=\"2\" stroke=\"fuchsia\" d=\"M 710.0 738.140703517588 697.6830657130508 738.140703517588\"/><path stroke-width=\"2\" stroke=\"fuchsia\" d=\"M 710.0 748.6934673366835 697.6830657130508 748.6934673366835\"/><path stroke-width=\"2\" stroke=\"fuchsia\" d=\"M 697.6830657130508 738.140703517588 697.6830657130508 748.6934673366835\"/><path stroke-width=\"2\" stroke=\"fuchsia\" d=\"M 703.8097854470163 1856.403894472362 697.519734574779 1856.403894472362\"/><path stroke-width=\"2\" stroke=\"fuchsia\" d=\"M 708.7546390271453 1893.6683417085428 697.519734574779 1893.6683417085428\"/><path stroke-width=\"2\" stroke=\"fuchsia\" d=\"M 697.519734574779 1856.403894472362 697.519734574779 1893.6683417085428\"/><path stroke-width=\"2\" stroke=\"blue\" d=\"M 699.3225950063639 1324.4786432160804 697.0639753803243 1324.4786432160804\"/><path stroke-width=\"2\" stroke=\"blue\" d=\"M 703.2599818943986 1368.6683417085428 697.0639753803243 1368.6683417085428\"/><path stroke-width=\"2\" stroke=\"blue\" d=\"M 697.0639753803243 1324.4786432160804 697.0639753803243 1368.6683417085428\"/><path stroke-width=\"2\" stroke=\"red\" d=\"M 698.7725572914136 535.6595477386935 696.8970149564575 535.6595477386935\"/><path stroke-width=\"2\" stroke=\"red\" d=\"M 703.5216029678423 603.5929648241206 696.8970149564575 603.5929648241206\"/><path stroke-width=\"2\" stroke=\"red\" d=\"M 696.8970149564575 535.6595477386935 696.8970149564575 603.5929648241206\"/><path stroke-width=\"2\" stroke=\"yellow\" d=\"M 699.7734221890742 813.3291457286432 696.3117533168065 813.3291457286432\"/><path stroke-width=\"2\" stroke=\"yellow\" d=\"M 698.5759246418216 856.8592964824121 696.3117533168065 856.8592964824121\"/><path stroke-width=\"2\" stroke=\"yellow\" d=\"M 696.3117533168065 813.3291457286432 696.3117533168065 856.8592964824121\"/><path stroke-width=\"2\" stroke=\"green\" d=\"M 706.8818649681032 1743.2914572864324 696.1919770266765 1743.2914572864324\"/><path stroke-width=\"2\" stroke=\"green\" d=\"M 701.4062339543742 1773.6306532663318 696.1919770266765 1773.6306532663318\"/><path stroke-width=\"2\" stroke=\"green\" d=\"M 696.1919770266765 1743.2914572864324 696.1919770266765 1773.6306532663318\"/><path stroke-width=\"2\" stroke=\"blue\" d=\"M 700.2077408899357 934.6859296482412 695.9109783762403 934.6859296482412\"/><path stroke-width=\"2\" stroke=\"blue\" d=\"M 699.3630241382904 1051.8380967336684 695.9109783762403 1051.8380967336684\"/><path stroke-width=\"2\" stroke=\"blue\" d=\"M 695.9109783762403 934.6859296482412 695.9109783762403 1051.8380967336684\"/><path stroke-width=\"2\" stroke=\"yellow\" d=\"M 701.9173722156612 764.5226130653266 695.5699794760671 764.5226130653266\"/><path stroke-width=\"2\" stroke=\"yellow\" d=\"M 702.7150706744561 785.6281407035176 695.5699794760671 785.6281407035176\"/><path stroke-width=\"2\" stroke=\"yellow\" d=\"M 695.5699794760671 764.5226130653266 695.5699794760671 785.6281407035176\"/><path stroke-width=\"2\" stroke=\"blue\" d=\"M 697.0639753803243 1346.5734924623116 695.2024164226536 1346.5734924623116\"/><path stroke-width=\"2\" stroke=\"blue\" d=\"M 697.9576334745227 1422.4214824120604 695.2024164226536 1422.4214824120604\"/><path stroke-width=\"2\" stroke=\"blue\" d=\"M 695.2024164226536 1346.5734924623116 695.2024164226536 1422.4214824120604\"/><path stroke-width=\"2\" stroke=\"green\" d=\"M 699.4960984421285 1677.6664572864322 695.1088457917738 1677.6664572864322\"/><path stroke-width=\"2\" stroke=\"green\" d=\"M 704.2168426391122 1714.2713567839196 695.1088457917738 1714.2713567839196\"/><path stroke-width=\"2\" stroke=\"green\" d=\"M 695.1088457917738 1677.6664572864322 695.1088457917738 1714.2713567839196\"/><path stroke-width=\"2\" stroke=\"yellow\" d=\"M 710.0 717.035175879397 694.6689087662517 717.035175879397\"/><path stroke-width=\"2\" stroke=\"yellow\" d=\"M 710.0 727.5879396984925 694.6689087662517 727.5879396984925\"/><path stroke-width=\"2\" stroke=\"yellow\" d=\"M 694.6689087662517 717.035175879397 694.6689087662517 727.5879396984925\"/><path stroke-width=\"2\" stroke=\"blue\" d=\"M 700.3316008564286 1190.5904522613066 694.616012290138 1190.5904522613066\"/><path stroke-width=\"2\" stroke=\"blue\" d=\"M 700.6317190710856 1258.194095477387 694.616012290138 1258.194095477387\"/><path stroke-width=\"2\" stroke=\"blue\" d=\"M 694.616012290138 1190.5904522613066 694.616012290138 1258.194095477387\"/><path stroke-width=\"2\" stroke=\"blue\" d=\"M 706.6912041548042 670.8668341708544 694.494198614497 670.8668341708544\"/><path stroke-width=\"2\" stroke=\"blue\" d=\"M 710.0 706.4824120603016 694.494198614497 706.4824120603016\"/><path stroke-width=\"2\" stroke=\"blue\" d=\"M 694.494198614497 670.8668341708544 694.494198614497 706.4824120603016\"/><path stroke-width=\"2\" stroke=\"olive\" d=\"M 707.8662795742548 192.035175879397 693.7924074960828 192.035175879397\"/><path stroke-width=\"2\" stroke=\"olive\" d=\"M 700.9454665320387 230.2889447236181 693.7924074960828 230.2889447236181\"/><path stroke-width=\"2\" stroke=\"olive\" d=\"M 693.7924074960828 192.035175879397 693.7924074960828 230.2889447236181\"/><path stroke-width=\"2\" stroke=\"blue\" d=\"M 695.9109783762403 993.2620131909548 692.8372995592267 993.2620131909548\"/><path stroke-width=\"2\" stroke=\"blue\" d=\"M 694.616012290138 1224.3922738693468 692.8372995592267 1224.3922738693468\"/><path stroke-width=\"2\" stroke=\"blue\" d=\"M 692.8372995592267 993.2620131909548 692.8372995592267 1224.3922738693468\"/><path stroke-width=\"2\" stroke=\"blue\" d=\"M 703.8978461420168 883.2412060301508 691.4592837698551 883.2412060301508\"/><path stroke-width=\"2\" stroke=\"blue\" d=\"M 710.0 906.9849246231156 691.4592837698551 906.9849246231156\"/><path stroke-width=\"2\" stroke=\"blue\" d=\"M 691.4592837698551 883.2412060301508 691.4592837698551 906.9849246231156\"/><path stroke-width=\"2\" stroke=\"red\" d=\"M 705.017449971028 2049.321608040201 690.8148857097489 2049.321608040201\"/><path stroke-width=\"2\" stroke=\"red\" d=\"M 698.4302913307378 2075.70351758794 690.8148857097489 2075.70351758794\"/><path stroke-width=\"2\" stroke=\"red\" d=\"M 690.8148857097489 2049.321608040201 690.8148857097489 2075.70351758794\"/><path stroke-width=\"2\" stroke=\"yellow\" d=\"M 695.5699794760671 775.0753768844221 690.7730265192664 775.0753768844221\"/><path stroke-width=\"2\" stroke=\"yellow\" d=\"M 696.3117533168065 835.0942211055276 690.7730265192664 835.0942211055276\"/><path stroke-width=\"2\" stroke=\"yellow\" d=\"M 690.7730265192664 775.0753768844221 690.7730265192664 835.0942211055276\"/><path stroke-width=\"2\" stroke=\"red\" d=\"M 701.3395899186933 429.1425879396985 690.6332248157407 429.1425879396985\"/><path stroke-width=\"2\" stroke=\"red\" d=\"M 696.8970149564575 569.626256281407 690.6332248157407 569.626256281407\"/><path stroke-width=\"2\" stroke=\"red\" d=\"M 690.6332248157407 429.1425879396985 690.6332248157407 569.626256281407\"/><path stroke-width=\"2\" stroke=\"purple\" d=\"M 703.0568493793635 1503.21608040201 690.4936328216664 1503.21608040201\"/><path stroke-width=\"2\" stroke=\"purple\" d=\"M 710.0 1519.0452261306534 690.4936328216664 1519.0452261306534\"/><path stroke-width=\"2\" stroke=\"purple\" d=\"M 690.4936328216664 1503.21608040201 690.4936328216664 1519.0452261306534\"/><path stroke-width=\"2\" stroke=\"green\" d=\"M 695.1088457917738 1695.968907035176 689.8868130040491 1695.968907035176\"/><path stroke-width=\"2\" stroke=\"green\" d=\"M 696.1919770266765 1758.461055276382 689.8868130040491 1758.461055276382\"/><path stroke-width=\"2\" stroke=\"green\" d=\"M 689.8868130040491 1695.968907035176 689.8868130040491 1758.461055276382\"/><path stroke-width=\"2\" stroke=\"purple\" d=\"M 698.153416273152 1938.5175879396986 689.8402781643724 1938.5175879396986\"/><path stroke-width=\"2\" stroke=\"purple\" d=\"M 698.9543669458103 1996.5577889447236 689.8402781643724 1996.5577889447236\"/><path stroke-width=\"2\" stroke=\"purple\" d=\"M 689.8402781643724 1938.5175879396986 689.8402781643724 1996.5577889447236\"/><path stroke-width=\"2\" stroke=\"brown\" d=\"M 702.2410704489822 1541.4698492462312 688.4412578092579 1541.4698492462312\"/><path stroke-width=\"2\" stroke=\"brown\" d=\"M 704.9120547700419 1577.0854271356784 688.4412578092579 1577.0854271356784\"/><path stroke-width=\"2\" stroke=\"brown\" d=\"M 688.4412578092579 1541.4698492462312 688.4412578092579 1577.0854271356784\"/><path stroke-width=\"2\" stroke=\"blue\" d=\"M 691.4592837698551 895.1130653266332 688.2126560837219 895.1130653266332\"/><path stroke-width=\"2\" stroke=\"blue\" d=\"M 692.8372995592267 1108.8271435301508 688.2126560837219 1108.8271435301508\"/><path stroke-width=\"2\" stroke=\"blue\" d=\"M 688.2126560837219 895.1130653266332 688.2126560837219 1108.8271435301508\"/><path stroke-width=\"2\" stroke=\"blue\" d=\"M 688.2126560837219 1001.970104428392 687.6041435249954 1001.970104428392\"/><path stroke-width=\"2\" stroke=\"blue\" d=\"M 695.2024164226536 1384.497487437186 687.6041435249954 1384.497487437186\"/><path stroke-width=\"2\" stroke=\"blue\" d=\"M 687.6041435249954 1001.970104428392 687.6041435249954 1384.497487437186\"/><path stroke-width=\"2\" stroke=\"black\" d=\"M 693.7924074960828 211.16206030150755 686.8033765942546 211.16206030150755\"/><path stroke-width=\"2\" stroke=\"black\" d=\"M 699.775930632882 289.6482412060302 686.8033765942546 289.6482412060302\"/><path stroke-width=\"2\" stroke=\"black\" d=\"M 686.8033765942546 211.16206030150755 686.8033765942546 289.6482412060302\"/><path stroke-width=\"2\" stroke=\"black\" d=\"M 697.519734574779 1875.0361180904524 685.0084530576642 1875.0361180904524\"/><path stroke-width=\"2\" stroke=\"black\" d=\"M 689.8402781643724 1967.5376884422112 685.0084530576642 1967.5376884422112\"/><path stroke-width=\"2\" stroke=\"black\" d=\"M 685.0084530576642 1875.0361180904524 685.0084530576642 1967.5376884422112\"/><path stroke-width=\"2\" stroke=\"black\" d=\"M 710.0 326.58291457286435 684.6817912113017 326.58291457286435\"/><path stroke-width=\"2\" stroke=\"black\" d=\"M 703.8764395470677 350.3266331658292 684.6817912113017 350.3266331658292\"/><path stroke-width=\"2\" stroke=\"black\" d=\"M 684.6817912113017 326.58291457286435 684.6817912113017 350.3266331658292\"/><path stroke-width=\"2\" stroke=\"black\" d=\"M 707.1300102936189 1606.1055276381912 683.1676866189468 1606.1055276381912\"/><path stroke-width=\"2\" stroke=\"black\" d=\"M 689.8868130040491 1727.214981155779 683.1676866189468 1727.214981155779\"/><path stroke-width=\"2\" stroke=\"black\" d=\"M 683.1676866189468 1606.1055276381912 683.1676866189468 1727.214981155779\"/><path stroke-width=\"2\" stroke=\"black\" d=\"M 697.6830657130508 743.4170854271358 682.4198231889101 743.4170854271358\"/><path stroke-width=\"2\" stroke=\"black\" d=\"M 690.7730265192664 805.0847989949748 682.4198231889101 805.0847989949748\"/><path stroke-width=\"2\" stroke=\"black\" d=\"M 682.4198231889101 743.4170854271358 682.4198231889101 805.0847989949748\"/><path stroke-width=\"2\" stroke=\"black\" d=\"M 682.4198231889101 774.2509422110553 680.3978637105735 774.2509422110553\"/><path stroke-width=\"2\" stroke=\"black\" d=\"M 687.6041435249954 1193.233795932789 680.3978637105735 1193.233795932789\"/><path stroke-width=\"2\" stroke=\"black\" d=\"M 680.3978637105735 774.2509422110553 680.3978637105735 1193.233795932789\"/><path stroke-width=\"2\" stroke=\"black\" d=\"M 688.4412578092579 1559.2776381909548 679.0567571411218 1559.2776381909548\"/><path stroke-width=\"2\" stroke=\"black\" d=\"M 683.1676866189468 1666.6602543969852 679.0567571411218 1666.6602543969852\"/><path stroke-width=\"2\" stroke=\"black\" d=\"M 679.0567571411218 1559.2776381909548 679.0567571411218 1666.6602543969852\"/><path stroke-width=\"2\" stroke=\"black\" d=\"M 698.0726266585353 117.32078360552765 675.4319576048352 117.32078360552765\"/><path stroke-width=\"2\" stroke=\"black\" d=\"M 686.8033765942546 250.40515075376888 675.4319576048352 250.40515075376888\"/><path stroke-width=\"2\" stroke=\"black\" d=\"M 675.4319576048352 117.32078360552765 675.4319576048352 250.40515075376888\"/><path stroke-width=\"2\" stroke=\"black\" d=\"M 679.0567571411218 1612.96894629397 674.8757239679275 1612.96894629397\"/><path stroke-width=\"2\" stroke=\"black\" d=\"M 685.0084530576642 1921.2869032663318 674.8757239679275 1921.2869032663318\"/><path stroke-width=\"2\" stroke=\"black\" d=\"M 674.8757239679275 1612.96894629397 674.8757239679275 1921.2869032663318\"/><path stroke-width=\"2\" stroke=\"black\" d=\"M 690.6332248157407 499.38442211055275 673.6564029414876 499.38442211055275\"/><path stroke-width=\"2\" stroke=\"black\" d=\"M 710.0 643.1658291457287 673.6564029414876 643.1658291457287\"/><path stroke-width=\"2\" stroke=\"black\" d=\"M 673.6564029414876 499.38442211055275 673.6564029414876 643.1658291457287\"/><path stroke-width=\"2\" stroke=\"black\" d=\"M 680.3978637105735 983.7423690719222 671.3747215498589 983.7423690719222\"/><path stroke-width=\"2\" stroke=\"black\" d=\"M 690.4936328216664 1511.1306532663316 671.3747215498589 1511.1306532663316\"/><path stroke-width=\"2\" stroke=\"black\" d=\"M 671.3747215498589 983.7423690719222 671.3747215498589 1511.1306532663316\"/><path stroke-width=\"2\" stroke=\"black\" d=\"M 674.8757239679275 1767.1279247801508 670.5960703034585 1767.1279247801508\"/><path stroke-width=\"2\" stroke=\"black\" d=\"M 690.8148857097489 2062.5125628140704 670.5960703034585 2062.5125628140704\"/><path stroke-width=\"2\" stroke=\"black\" d=\"M 670.5960703034585 1767.1279247801508 670.5960703034585 2062.5125628140704\"/><path stroke-width=\"2\" stroke=\"black\" d=\"M 684.6817912113017 338.4547738693468 667.6785407036261 338.4547738693468\"/><path stroke-width=\"2\" stroke=\"black\" d=\"M 673.6564029414876 571.2751256281407 667.6785407036261 571.2751256281407\"/><path stroke-width=\"2\" stroke=\"black\" d=\"M 667.6785407036261 338.4547738693468 667.6785407036261 571.2751256281407\"/><path stroke-width=\"2\" stroke=\"black\" d=\"M 671.3747215498589 1247.4365111691268 664.4174447527255 1247.4365111691268\"/><path stroke-width=\"2\" stroke=\"black\" d=\"M 670.5960703034585 1914.8202437971106 664.4174447527255 1914.8202437971106\"/><path stroke-width=\"2\" stroke=\"black\" d=\"M 664.4174447527255 1247.4365111691268 664.4174447527255 1914.8202437971106\"/><path stroke-width=\"2\" stroke=\"black\" d=\"M 675.4319576048352 183.86296717964825 661.1257570828285 183.86296717964825\"/><path stroke-width=\"2\" stroke=\"black\" d=\"M 667.6785407036261 454.86494974874375 661.1257570828285 454.86494974874375\"/><path stroke-width=\"2\" stroke=\"black\" d=\"M 661.1257570828285 183.86296717964825 661.1257570828285 454.86494974874375\"/><path stroke-width=\"2\" stroke=\"black\" d=\"M 694.6689087662517 722.3115577889448 629.4225688270877 722.3115577889448\"/><path stroke-width=\"2\" stroke=\"black\" d=\"M 664.4174447527255 1581.1283774831186 629.4225688270877 1581.1283774831186\"/><path stroke-width=\"2\" stroke=\"black\" d=\"M 629.4225688270877 722.3115577889448 629.4225688270877 1581.1283774831186\"/><path stroke-width=\"2\" stroke=\"black\" d=\"M 661.1257570828285 319.363958464196 627.886734179536 319.363958464196\"/><path stroke-width=\"2\" stroke=\"black\" d=\"M 694.494198614497 688.674623115578 627.886734179536 688.674623115578\"/><path stroke-width=\"2\" stroke=\"black\" d=\"M 627.886734179536 319.363958464196 627.886734179536 688.674623115578\"/><path stroke-width=\"2\" stroke=\"black\" d=\"M 627.886734179536 504.019290789887 618.1018862136954 504.019290789887\"/><path stroke-width=\"2\" stroke=\"black\" d=\"M 629.4225688270877 1151.7199676360317 618.1018862136954 1151.7199676360317\"/><path stroke-width=\"2\" stroke=\"black\" d=\"M 618.1018862136954 504.019290789887 618.1018862136954 1151.7199676360317\"/><path stroke-width=\"2\" stroke=\"black\" d=\"M 618.1018862136954 827.8696292129594 10.0 827.8696292129594\"/><path stroke-width=\"2\" stroke=\"black\" d=\"M 710.0 2099.447236180905 10.0 2099.447236180905\"/><path stroke-width=\"2\" stroke=\"black\" d=\"M 10.0 827.8696292129594 10.0 2099.447236180905\"/></svg>",
      "text/plain": [
       "<IPython.core.display.SVG object>"
      ]
     },
     "execution_count": 42,
     "metadata": {},
     "output_type": "execute_result"
    }
   ],
   "source": [
    "image = svg_dendrogram(dendrogram_row, names, rotate = True, width = 200, height=600, scale = 3.5, n_clusters = 20, font_size=8)\n",
    "SVG(image)"
   ]
  },
  {
   "cell_type": "markdown",
   "metadata": {},
   "source": [
    "Here we can see that animes that have multiple seasons (for example JoJo no Kimyou na Bouken Part 3: Stardust Crusaders 2nd Season, JoJo no Kimyou na Bouken Part 4: Diamond wa Kudakenai, JoJo no Kimyou na Bouken Part 5: Ougon no Kaze, JoJo no Kimyou na Bouken Part 6: Stone Ocean) are very close from each others in the clustering."
   ]
  },
  {
   "cell_type": "markdown",
   "metadata": {},
   "source": [
    "On an analysis standpoint, this classification shows that audiences are generally less concerned about genre when evaluating the quality of an anime, especially when it comes to the top anime. The clustering shows that they tend to watch sequels - or at least, anime of the same franchise, rather than selecting by genres."
   ]
  },
  {
   "cell_type": "markdown",
   "metadata": {},
   "source": [
    "Nevertheless, some animes are still grouped as belonging to the same genre. For example, Slam Dunk (basketball anime), Hajime no Ippo (boxing anime) and Ping Pong the Animation (table tennis anime) are in the same cluster."
   ]
  },
  {
   "cell_type": "markdown",
   "metadata": {},
   "source": [
    "We can then base our recommendation with the closest anime in the dendrogram. For instance, after a viewer watches the anime of the Kaguya-sama wa Kokurasetai franchise, one can recommend Spy x Family to them."
   ]
  },
  {
   "cell_type": "markdown",
   "metadata": {},
   "source": [
    "## Spectral embedding"
   ]
  },
  {
   "cell_type": "markdown",
   "metadata": {},
   "source": [
    "We can try to classify using spectral embedding to confirm or not that we reach the same conclusions.\n",
    "\n",
    "We turn each anime into a low dimension vector, then use hierarchical clustering to visualize the embedding."
   ]
  },
  {
   "cell_type": "code",
   "execution_count": 43,
   "metadata": {},
   "outputs": [],
   "source": [
    "spectral = Spectral(10)\n",
    "embedding = spectral.fit_transform(positive)"
   ]
  },
  {
   "cell_type": "code",
   "execution_count": 44,
   "metadata": {},
   "outputs": [],
   "source": [
    "ward = WardDense()\n",
    "index = top_k(scores_ppr, 199)\n",
    "dendrogram = ward.fit_transform(embedding[index])"
   ]
  },
  {
   "cell_type": "code",
   "execution_count": 45,
   "metadata": {},
   "outputs": [
    {
     "data": {
      "image/svg+xml": "<svg xmlns=\"http://www.w3.org/2000/svg\" width=\"1001.0\" height=\"2120.0\"><text x=\"715.0\" y=\"203.4673366834171\" font-size=\"8\">Cowboy Bebop</text><text x=\"715.0\" y=\"214.02010050251258\" font-size=\"8\">Cowboy Bebop: Tengoku no Tobira</text><text x=\"715.0\" y=\"836.6331658291458\" font-size=\"8\">Monster</text><text x=\"715.0\" y=\"171.80904522613068\" font-size=\"8\">One Piece</text><text x=\"715.0\" y=\"815.5276381909548\" font-size=\"8\">Neon Genesis Evangelion: The End of Evangelion</text><text x=\"715.0\" y=\"414.52261306532665\" font-size=\"8\">Kenpuu Denki Berserk</text><text x=\"715.0\" y=\"1047.6884422110552\" font-size=\"8\">Rurouni Kenshin: Meiji Kenkaku Romantan - Tsuioku-hen</text><text x=\"715.0\" y=\"509.49748743718595\" font-size=\"8\">Hunter x Hunter</text><text x=\"715.0\" y=\"942.1608040201006\" font-size=\"8\">Mononoke Hime</text><text x=\"715.0\" y=\"921.0552763819096\" font-size=\"8\">Slam Dunk</text><text x=\"715.0\" y=\"688.8944723618091\" font-size=\"8\">Sen to Chihiro no Kamikakushi</text><text x=\"715.0\" y=\"878.8442211055277\" font-size=\"8\">Samurai Champloo</text><text x=\"715.0\" y=\"931.6080402010051\" font-size=\"8\">Great Teacher Onizuka</text><text x=\"715.0\" y=\"910.5025125628141\" font-size=\"8\">Hajime no Ippo</text><text x=\"715.0\" y=\"287.88944723618096\" font-size=\"8\">Yuu\\xe2\\x98\\x86Yuu\\xe2\\x98\\x86Hakusho</text><text x=\"715.0\" y=\"562.2613065326634\" font-size=\"8\">Howl no Ugoku Shiro</text><text x=\"715.0\" y=\"636.1306532663317\" font-size=\"8\">Perfect Blue</text><text x=\"715.0\" y=\"572.8140703517588\" font-size=\"8\">Mushishi</text><text x=\"715.0\" y=\"646.6834170854272\" font-size=\"8\">Koukaku Kidoutai: Stand Alone Complex</text><text x=\"715.0\" y=\"731.105527638191\" font-size=\"8\">Kaze no Tani no Nausica\\xc3\\xa4</text><text x=\"715.0\" y=\"277.33668341708545\" font-size=\"8\">Hotaru no Haka</text><text x=\"715.0\" y=\"741.6582914572865\" font-size=\"8\">Hellsing Ultimate</text><text x=\"715.0\" y=\"604.4723618090453\" font-size=\"8\">Koukaku Kidoutai: Stand Alone Complex 2nd GIG</text><text x=\"715.0\" y=\"762.7638190954774\" font-size=\"8\">Ginga Eiyuu Densetsu</text><text x=\"715.0\" y=\"847.1859296482413\" font-size=\"8\">Nana</text><text x=\"715.0\" y=\"256.2311557788945\" font-size=\"8\">Gintama</text><text x=\"715.0\" y=\"583.3668341708543\" font-size=\"8\">Death Note</text><text x=\"715.0\" y=\"467.28643216080405\" font-size=\"8\">Code Geass: Hangyaku no Lelouch</text><text x=\"715.0\" y=\"710.0000000000001\" font-size=\"8\">Tengen Toppa Gurren Lagann</text><text x=\"715.0\" y=\"657.2361809045227\" font-size=\"8\">Mononoke</text><text x=\"715.0\" y=\"182.36180904522615\" font-size=\"8\">Baccano!</text><text x=\"715.0\" y=\"235.12562814070355\" font-size=\"8\">Code Geass: Hangyaku no Lelouch R2</text><text x=\"715.0\" y=\"857.7386934673367\" font-size=\"8\">Ashita no Joe 2</text><text x=\"715.0\" y=\"615.0251256281408\" font-size=\"8\">Aria the Origination</text><text x=\"715.0\" y=\"794.4221105527639\" font-size=\"8\">Evangelion: 3.0+1.0 Thrice Upon a Time</text><text x=\"715.0\" y=\"488.391959798995\" font-size=\"8\">Clannad: After Story</text><text x=\"715.0\" y=\"699.4472361809046\" font-size=\"8\">Kara no Kyoukai Movie 5: Mujun Rasen</text><text x=\"715.0\" y=\"868.2914572864322\" font-size=\"8\">Tengen Toppa Gurren Lagann Movie 2: Lagann-hen</text><text x=\"715.0\" y=\"720.5527638190955\" font-size=\"8\">Major S5</text><text x=\"715.0\" y=\"403.9698492462312\" font-size=\"8\">Fullmetal Alchemist: Brotherhood</text><text x=\"715.0\" y=\"804.9748743718594\" font-size=\"8\">Kara no Kyoukai Movie 7: Satsujin Kousatsu (Go)</text><text x=\"715.0\" y=\"498.9447236180905\" font-size=\"8\">Hajime no Ippo: New Challenger</text><text x=\"715.0\" y=\"625.5778894472362\" font-size=\"8\">Zoku Natsume Yuujinchou</text><text x=\"715.0\" y=\"530.6030150753769\" font-size=\"8\">Cross Game</text><text x=\"715.0\" y=\"425.07537688442216\" font-size=\"8\">Rainbow: Nisha Rokubou no Shichinin</text><text x=\"715.0\" y=\"593.9195979899498\" font-size=\"8\">Gintama: Shiroyasha Koutan</text><text x=\"715.0\" y=\"541.1557788944724\" font-size=\"8\">Suzumiya Haruhi no Shoushitsu</text><text x=\"715.0\" y=\"446.1809045226131\" font-size=\"8\">Gintama Movie 1: Shinyaku Benizakura-hen</text><text x=\"715.0\" y=\"973.819095477387\" font-size=\"8\">Yojouhan Shinwa Taikei</text><text x=\"715.0\" y=\"108.49246231155779\" font-size=\"8\">Steins;Gate</text><text x=\"715.0\" y=\"752.211055276382\" font-size=\"8\">Kizumonogatari I: Tekketsu-hen</text><text x=\"715.0\" y=\"520.0502512562815\" font-size=\"8\">K-On! Movie</text><text x=\"715.0\" y=\"24.070351758793972\" font-size=\"8\">Mahou Shoujo Madoka\\xe2\\x98\\x85Magica</text><text x=\"715.0\" y=\"340.6532663316583\" font-size=\"8\">Gintama'</text><text x=\"715.0\" y=\"984.3718592964825\" font-size=\"8\">Bakuman. 2nd Season</text><text x=\"715.0\" y=\"477.83919597989956\" font-size=\"8\">Usagi Drop</text><text x=\"715.0\" y=\"266.78391959799\" font-size=\"8\">Nichijou</text><text x=\"715.0\" y=\"551.7085427135679\" font-size=\"8\">Natsume Yuujinchou San</text><text x=\"715.0\" y=\"1174.321608040201\" font-size=\"8\">Hunter x Hunter (2011)</text><text x=\"715.0\" y=\"1986.8844221105528\" font-size=\"8\">Steins;Gate Movie: Fuka Ryouiki no D\\xc3\\xa9j\\xc3\\xa0 vu</text><text x=\"715.0\" y=\"319.54773869346735\" font-size=\"8\">Natsume Yuujinchou Shi</text><text x=\"715.0\" y=\"34.62311557788945\" font-size=\"8\">Fate/Zero 2nd Season</text><text x=\"715.0\" y=\"667.7889447236181\" font-size=\"8\">Mahou Shoujo Madoka\\xe2\\x98\\x85Magica Movie 2: Eien no Monogatari</text><text x=\"715.0\" y=\"393.4170854271357\" font-size=\"8\">Mahou Shoujo Madoka\\xe2\\x98\\x85Magica Movie 3: Hangyaku no Monogatari</text><text x=\"715.0\" y=\"245.67839195979903\" font-size=\"8\">Ookami Kodomo no Ame to Yuki</text><text x=\"715.0\" y=\"899.9497487437187\" font-size=\"8\">Bakuman. 3rd Season</text><text x=\"715.0\" y=\"382.86432160804026\" font-size=\"8\">Uchuu Kyoudai</text><text x=\"715.0\" y=\"129.59798994974875\" font-size=\"8\">Psycho-Pass</text><text x=\"715.0\" y=\"361.7587939698493\" font-size=\"8\">Chihayafuru 2</text><text x=\"715.0\" y=\"224.57286432160805\" font-size=\"8\">Gintama Movie 2: Kanketsu-hen - Yorozuya yo Eien Nare</text><text x=\"715.0\" y=\"456.7336683417086\" font-size=\"8\">Gintama': Enchousen</text><text x=\"715.0\" y=\"97.93969849246231\" font-size=\"8\">Shingeki no Kyojin</text><text x=\"715.0\" y=\"66.28140703517587\" font-size=\"8\">Monogatari Series: Second Season</text><text x=\"715.0\" y=\"13.517587939698492\" font-size=\"8\">Kingdom 2nd Season</text><text x=\"715.0\" y=\"889.3969849246232\" font-size=\"8\">Hajime no Ippo: Rising</text><text x=\"715.0\" y=\"308.9949748743719\" font-size=\"8\">Haikyuu!!</text><text x=\"715.0\" y=\"372.31155778894475\" font-size=\"8\">Mushishi: Hihamukage</text><text x=\"715.0\" y=\"678.3417085427136\" font-size=\"8\">Gintama: Yorinuki Gintama-san on Theater 2D</text><text x=\"715.0\" y=\"952.7135678391961\" font-size=\"8\">Mushishi Zoku Shou</text><text x=\"715.0\" y=\"1121.5577889447236\" font-size=\"8\">Ping Pong the Animation</text><text x=\"715.0\" y=\"119.04522613065326\" font-size=\"8\">Kiseijuu: Sei no Kakuritsu</text><text x=\"715.0\" y=\"1016.0301507537689\" font-size=\"8\">Barakamon</text><text x=\"715.0\" y=\"330.10050251256285\" font-size=\"8\">Shigatsu wa Kimi no Uso</text><text x=\"715.0\" y=\"192.91457286432163\" font-size=\"8\">Mushishi Zoku Shou: Odoro no Michi</text><text x=\"715.0\" y=\"351.2060301507538\" font-size=\"8\">Mushishi Zoku Shou 2nd Season</text><text x=\"715.0\" y=\"783.8693467336684\" font-size=\"8\">Shingeki no Kyojin Season 2</text><text x=\"715.0\" y=\"55.72864321608041\" font-size=\"8\">Shingeki no Kyojin: Kuinaki Sentaku</text><text x=\"715.0\" y=\"1501.4572864321608\" font-size=\"8\">JoJo no Kimyou na Bouken Part 3: Stardust Crusaders 2nd Season</text><text x=\"715.0\" y=\"45.17587939698493\" font-size=\"8\">Shouwa Genroku Rakugo Shinjuu</text><text x=\"715.0\" y=\"298.4422110552764\" font-size=\"8\">Koe no Katachi</text><text x=\"715.0\" y=\"1005.4773869346734\" font-size=\"8\">Haikyuu!! Second Season</text><text x=\"715.0\" y=\"826.0804020100503\" font-size=\"8\">Mushishi Zoku Shou: Suzu no Shizuku</text><text x=\"715.0\" y=\"76.83417085427136\" font-size=\"8\">Gintama\\xc2\\xb0</text><text x=\"715.0\" y=\"1026.5829145728644\" font-size=\"8\">One Punch Man</text><text x=\"715.0\" y=\"1258.7437185929648\" font-size=\"8\">Steins;Gate 0</text><text x=\"715.0\" y=\"1195.427135678392\" font-size=\"8\">Ansatsu Kyoushitsu 2nd Season</text><text x=\"715.0\" y=\"1068.7939698492462\" font-size=\"8\">Kamisama Hajimemashita: Kako-hen</text><text x=\"715.0\" y=\"161.2562814070352\" font-size=\"8\">Owarimonogatari</text><text x=\"715.0\" y=\"150.70351758793973\" font-size=\"8\">3-gatsu no Lion</text><text x=\"715.0\" y=\"140.15075376884425\" font-size=\"8\">Kizumonogatari II: Nekketsu-hen</text><text x=\"715.0\" y=\"1079.3467336683416\" font-size=\"8\">Kizumonogatari III: Reiketsu-hen</text><text x=\"715.0\" y=\"963.2663316582915\" font-size=\"8\">JoJo no Kimyou na Bouken Part 4: Diamond wa Kudakenai</text><text x=\"715.0\" y=\"1459.246231155779\" font-size=\"8\">Mob Psycho 100</text><text x=\"715.0\" y=\"1522.5628140703518\" font-size=\"8\">Kimi no Na wa.</text><text x=\"715.0\" y=\"1533.1155778894472\" font-size=\"8\">Gintama\\xc2\\xb0: Aizome Kaori-hen</text><text x=\"715.0\" y=\"1512.0100502512562\" font-size=\"8\">Haikyuu!!: Karasuno Koukou vs. Shiratorizawa Gakuen Koukou</text><text x=\"715.0\" y=\"435.6281407035176\" font-size=\"8\">Natsume Yuujinchou Go</text><text x=\"715.0\" y=\"1490.9045226130654\" font-size=\"8\">Fate/stay night Movie: Heaven's Feel - II. Lost Butterfly</text><text x=\"715.0\" y=\"773.3165829145729\" font-size=\"8\">Fate/stay night Movie: Heaven's Feel - III. Spring Song</text><text x=\"715.0\" y=\"1111.0050251256282\" font-size=\"8\">Shouwa Genroku Rakugo Shinjuu: Sukeroku Futatabi-hen</text><text x=\"715.0\" y=\"1037.1356783919598\" font-size=\"8\">Saiki Kusuo no \\xce\\xa8-nan</text><text x=\"715.0\" y=\"1585.8793969849246\" font-size=\"8\">Violet Evergarden</text><text x=\"715.0\" y=\"1469.7989949748744\" font-size=\"8\">Gintama.</text><text x=\"715.0\" y=\"994.924623115578\" font-size=\"8\">Natsume Yuujinchou Roku</text><text x=\"715.0\" y=\"1132.110552763819\" font-size=\"8\">Made in Abyss</text><text x=\"715.0\" y=\"1343.1658291457286\" font-size=\"8\">Saiki Kusuo no \\xce\\xa8-nan 2</text><text x=\"715.0\" y=\"1438.140703517588\" font-size=\"8\">3-gatsu no Lion 2nd Season</text><text x=\"715.0\" y=\"1427.5879396984924\" font-size=\"8\">Owarimonogatari 2nd Season</text><text x=\"715.0\" y=\"1448.6934673366834\" font-size=\"8\">Houseki no Kuni (TV)</text><text x=\"715.0\" y=\"1058.2412060301508\" font-size=\"8\">Shingeki no Kyojin Season 3</text><text x=\"715.0\" y=\"2007.9899497487438\" font-size=\"8\">Sora yori mo Tooi Basho</text><text x=\"715.0\" y=\"87.38693467336684\" font-size=\"8\">Gintama.: Porori-hen</text><text x=\"715.0\" y=\"1395.929648241206\" font-size=\"8\">Sayonara no Asa ni Yakusoku no Hana wo Kazarou</text><text x=\"715.0\" y=\"1184.8743718592964\" font-size=\"8\">Kimi no Suizou wo Tabetai</text><text x=\"715.0\" y=\"2050.2010050251256\" font-size=\"8\">Natsume Yuujinchou Roku Specials</text><text x=\"715.0\" y=\"1385.3768844221106\" font-size=\"8\">Natsume Yuujinchou Movie: Utsusemi ni Musubu</text><text x=\"715.0\" y=\"1311.5075376884422\" font-size=\"8\">Banana Fish</text><text x=\"715.0\" y=\"2071.306532663317\" font-size=\"8\">Gintama.: Shirogane no Tamashii-hen</text><text x=\"715.0\" y=\"1649.1959798994976\" font-size=\"8\">Made in Abyss Movie 3: Fukaki Tamashii no Reimei</text><text x=\"715.0\" y=\"2092.4120603015076\" font-size=\"8\">Saenai Heroine no Sodatekata Fine</text><text x=\"715.0\" y=\"1575.3266331658292\" font-size=\"8\">Zoku Owarimonogatari</text><text x=\"715.0\" y=\"2060.753768844221\" font-size=\"8\">Grand Blue</text><text x=\"715.0\" y=\"2102.964824120603\" font-size=\"8\">Mo Dao Zu Shi</text><text x=\"715.0\" y=\"1480.3517587939698\" font-size=\"8\">Chihayafuru 3</text><text x=\"715.0\" y=\"2081.859296482412\" font-size=\"8\">Gintama.: Shirogane no Tamashii-hen - Kouhan-sen</text><text x=\"715.0\" y=\"1406.4824120603016\" font-size=\"8\">Mob Psycho 100 II</text><text x=\"715.0\" y=\"1417.035175879397\" font-size=\"8\">Made in Abyss Movie 2: Hourou Suru Tasogare</text><text x=\"715.0\" y=\"1564.7738693467336\" font-size=\"8\">Vinland Saga</text><text x=\"715.0\" y=\"1786.3819095477388\" font-size=\"8\">Yakusoku no Neverland</text><text x=\"715.0\" y=\"1269.2964824120602\" font-size=\"8\">Kaze ga Tsuyoku Fuiteiru</text><text x=\"715.0\" y=\"1153.21608040201\" font-size=\"8\">Violet Evergarden Movie</text><text x=\"715.0\" y=\"1290.4020100502512\" font-size=\"8\">JoJo no Kimyou na Bouken Part 5: Ougon no Kaze</text><text x=\"715.0\" y=\"1659.748743718593\" font-size=\"8\">Kaguya-sama wa Kokurasetai: Tensai-tachi no Renai Zunousen</text><text x=\"715.0\" y=\"1796.9346733668342\" font-size=\"8\">Kimetsu no Yaiba</text><text x=\"715.0\" y=\"1163.7688442211056\" font-size=\"8\">Kono Subarashii Sekai ni Shukufuku wo! Movie: Kurenai Densetsu</text><text x=\"715.0\" y=\"2029.0954773869348\" font-size=\"8\">Seishun Buta Yarou wa Yumemiru Shoujo no Yume wo Minai</text><text x=\"715.0\" y=\"1205.9798994974874\" font-size=\"8\">Mo Dao Zu Shi: Xian Yun Pian</text><text x=\"715.0\" y=\"1227.0854271356784\" font-size=\"8\">Yuru Camp\\xe2\\x96\\xb3 Season 2</text><text x=\"715.0\" y=\"1237.6381909547738\" font-size=\"8\">Shingeki no Kyojin Season 3 Part 2</text><text x=\"715.0\" y=\"1089.8994974874372\" font-size=\"8\">Haikyuu!! To the Top</text><text x=\"715.0\" y=\"2018.5427135678392\" font-size=\"8\">Kono Oto Tomare! Part 2</text><text x=\"715.0\" y=\"1543.6683417085428\" font-size=\"8\">Kobayashi-san Chi no Maid Dragon S</text><text x=\"715.0\" y=\"1965.7788944723618\" font-size=\"8\">Gintama: The Final</text><text x=\"715.0\" y=\"1279.8492462311558\" font-size=\"8\">Given</text><text x=\"715.0\" y=\"1723.0653266331658\" font-size=\"8\">Mushoku Tensei: Isekai Ittara Honki Dasu</text><text x=\"715.0\" y=\"1248.1909547738694\" font-size=\"8\">Yahari Ore no Seishun Love Comedy wa Machigatteiru. Kan</text><text x=\"715.0\" y=\"1353.7185929648242\" font-size=\"8\">Tensei shitara Slime Datta Ken 2nd Season</text><text x=\"715.0\" y=\"1870.8040201005026\" font-size=\"8\">Re:Zero kara Hajimeru Isekai Seikatsu 2nd Season</text><text x=\"715.0\" y=\"1701.9597989949748\" font-size=\"8\">Violet Evergarden Gaiden: Eien to Jidou Shuki Ningyou</text><text x=\"715.0\" y=\"1881.356783919598\" font-size=\"8\">Non Non Biyori Nonstop</text><text x=\"715.0\" y=\"1744.1708542713568\" font-size=\"8\">Shingeki no Kyojin: The Final Season</text><text x=\"715.0\" y=\"1976.3316582914574\" font-size=\"8\">Golden Kamuy 3rd Season</text><text x=\"715.0\" y=\"1891.9095477386936\" font-size=\"8\">Fruits Basket 2nd Season</text><text x=\"715.0\" y=\"1955.2261306532664\" font-size=\"8\">Mo Dao Zu Shi: Wanjie Pian</text><text x=\"715.0\" y=\"1691.4070351758794\" font-size=\"8\">Kimetsu no Yaiba Movie: Mugen Ressha-hen</text><text x=\"715.0\" y=\"1754.7236180904522\" font-size=\"8\">Kaguya-sama wa Kokurasetai? Tensai-tachi no Renai Zunousen</text><text x=\"715.0\" y=\"1913.0150753768844\" font-size=\"8\">Shoujo\\xe2\\x98\\x86Kageki Revue Starlight Movie</text><text x=\"715.0\" y=\"1733.6180904522614\" font-size=\"8\">Kingdom 3rd Season</text><text x=\"715.0\" y=\"1765.2763819095478\" font-size=\"8\">Tian Guan Ci Fu</text><text x=\"715.0\" y=\"1997.4371859296482\" font-size=\"8\">Jujutsu Kaisen (TV)</text><text x=\"715.0\" y=\"1100.4522613065326\" font-size=\"8\">Haikyuu!! To the Top Part 2</text><text x=\"715.0\" y=\"1712.5125628140704\" font-size=\"8\">Josee to Tora to Sakana-tachi</text><text x=\"715.0\" y=\"1934.1206030150754\" font-size=\"8\">Ousama Ranking</text><text x=\"715.0\" y=\"1300.9547738693468\" font-size=\"8\">Fumetsu no Anata e</text><text x=\"715.0\" y=\"1554.2211055276382\" font-size=\"8\">Re:Zero kara Hajimeru Isekai Seikatsu 2nd Season Part 2</text><text x=\"715.0\" y=\"1944.6733668341708\" font-size=\"8\">Fruits Basket: The Final</text><text x=\"715.0\" y=\"1216.532663316583\" font-size=\"8\">Kaguya-sama wa Kokurasetai: Ultra Romantic</text><text x=\"715.0\" y=\"1902.462311557789\" font-size=\"8\">Tian Guan Ci Fu Special</text><text x=\"715.0\" y=\"1628.0904522613066\" font-size=\"8\">Shiguang Dailiren</text><text x=\"715.0\" y=\"1923.56783919598\" font-size=\"8\">Gintama: The Semi-Final</text><text x=\"715.0\" y=\"1596.4321608040202\" font-size=\"8\">Wu Liuqi Zhi Xuanwu Guo Pian</text><text x=\"715.0\" y=\"1807.4874371859296\" font-size=\"8\">Mushoku Tensei: Isekai Ittara Honki Dasu Part 2</text><text x=\"715.0\" y=\"1617.537688442211\" font-size=\"8\">Vivy: Fluorite Eye's Song</text><text x=\"715.0\" y=\"1828.5929648241206\" font-size=\"8\">Odd Taxi</text><text x=\"715.0\" y=\"1849.6984924623116\" font-size=\"8\">Summertime Render</text><text x=\"715.0\" y=\"1839.1457286432162\" font-size=\"8\">Kimetsu no Yaiba: Yuukaku-hen</text><text x=\"715.0\" y=\"1860.251256281407\" font-size=\"8\">Jujutsu Kaisen 0 Movie</text><text x=\"715.0\" y=\"1638.643216080402\" font-size=\"8\">86 Part 2</text><text x=\"715.0\" y=\"1670.3015075376884\" font-size=\"8\">Shingeki no Kyojin: The Final Season Part 2</text><text x=\"715.0\" y=\"1332.6130653266332\" font-size=\"8\">Yoru ni Kakeru</text><text x=\"715.0\" y=\"1680.854271356784\" font-size=\"8\">JoJo no Kimyou na Bouken Part 6: Stone Ocean</text><text x=\"715.0\" y=\"1775.8291457286432\" font-size=\"8\">Sono Bisque Doll wa Koi wo Suru</text><text x=\"715.0\" y=\"2039.6482412060302\" font-size=\"8\">Fruits Basket: Prelude</text><text x=\"715.0\" y=\"1142.6633165829146\" font-size=\"8\">Karakai Jouzu no Takagi-san 3</text><text x=\"715.0\" y=\"1818.0402010050252\" font-size=\"8\">Kotarou wa Hitorigurashi</text><text x=\"715.0\" y=\"1606.9849246231156\" font-size=\"8\">Kimetsu no Yaiba: Mugen Ressha-hen</text><text x=\"715.0\" y=\"1364.2713567839196\" font-size=\"8\">Kingdom 4th Season</text><text x=\"715.0\" y=\"1374.824120603015\" font-size=\"8\">Spy x Family</text><text x=\"715.0\" y=\"1322.0603015075376\" font-size=\"8\">Paripi Koumei</text><path stroke-width=\"2\" stroke=\"blue\" d=\"M 710.0 632.6130653266332 709.725202362139 632.6130653266332\"/><path stroke-width=\"2\" stroke=\"blue\" d=\"M 710.0 643.1658291457287 709.725202362139 643.1658291457287\"/><path stroke-width=\"2\" stroke=\"blue\" d=\"M 709.725202362139 632.6130653266332 709.725202362139 643.1658291457287\"/><path stroke-width=\"2\" stroke=\"purple\" d=\"M 710.0 1930.603015075377 709.7156668575253 1930.603015075377\"/><path stroke-width=\"2\" stroke=\"purple\" d=\"M 710.0 1941.1557788944724 709.7156668575253 1941.1557788944724\"/><path stroke-width=\"2\" stroke=\"purple\" d=\"M 709.7156668575253 1930.603015075377 709.7156668575253 1941.1557788944724\"/><path stroke-width=\"2\" stroke=\"red\" d=\"M 710.0 1698.4422110552764 709.481372696206 1698.4422110552764\"/><path stroke-width=\"2\" stroke=\"red\" d=\"M 710.0 1708.994974874372 709.481372696206 1708.994974874372\"/><path stroke-width=\"2\" stroke=\"red\" d=\"M 709.481372696206 1698.4422110552764 709.481372696206 1708.994974874372\"/><path stroke-width=\"2\" stroke=\"purple\" d=\"M 710.0 1920.0502512562816 709.285231392219 1920.0502512562816\"/><path stroke-width=\"2\" stroke=\"purple\" d=\"M 709.7156668575253 1935.8793969849248 709.285231392219 1935.8793969849248\"/><path stroke-width=\"2\" stroke=\"purple\" d=\"M 709.285231392219 1920.0502512562816 709.285231392219 1935.8793969849248\"/><path stroke-width=\"2\" stroke=\"blue\" d=\"M 710.0 854.2211055276382 709.1019551015183 854.2211055276382\"/><path stroke-width=\"2\" stroke=\"blue\" d=\"M 710.0 864.7738693467337 709.1019551015183 864.7738693467337\"/><path stroke-width=\"2\" stroke=\"blue\" d=\"M 709.1019551015183 854.2211055276382 709.1019551015183 864.7738693467337\"/><path stroke-width=\"2\" stroke=\"purple\" d=\"M 710.0 1962.2613065326634 709.0718295036556 1962.2613065326634\"/><path stroke-width=\"2\" stroke=\"purple\" d=\"M 710.0 1972.814070351759 709.0718295036556 1972.814070351759\"/><path stroke-width=\"2\" stroke=\"purple\" d=\"M 709.0718295036556 1962.2613065326634 709.0718295036556 1972.814070351759\"/><path stroke-width=\"2\" stroke=\"blue\" d=\"M 710.0 917.5376884422111 709.017726573847 917.5376884422111\"/><path stroke-width=\"2\" stroke=\"blue\" d=\"M 710.0 928.0904522613066 709.017726573847 928.0904522613066\"/><path stroke-width=\"2\" stroke=\"blue\" d=\"M 709.017726573847 917.5376884422111 709.017726573847 928.0904522613066\"/><path stroke-width=\"2\" stroke=\"blue\" d=\"M 710.0 685.3768844221106 708.9841938381934 685.3768844221106\"/><path stroke-width=\"2\" stroke=\"blue\" d=\"M 710.0 695.9296482412061 708.9841938381934 695.9296482412061\"/><path stroke-width=\"2\" stroke=\"blue\" d=\"M 708.9841938381934 685.3768844221106 708.9841938381934 695.9296482412061\"/><path stroke-width=\"2\" stroke=\"brown\" d=\"M 710.0 1149.6984924623116 708.9236055519293 1149.6984924623116\"/><path stroke-width=\"2\" stroke=\"brown\" d=\"M 710.0 1160.2512562814072 708.9236055519293 1160.2512562814072\"/><path stroke-width=\"2\" stroke=\"brown\" d=\"M 708.9236055519293 1149.6984924623116 708.9236055519293 1160.2512562814072\"/><path stroke-width=\"2\" stroke=\"green\" d=\"M 710.0 1519.0452261306534 708.821139050846 1519.0452261306534\"/><path stroke-width=\"2\" stroke=\"green\" d=\"M 710.0 1529.5979899497488 708.821139050846 1529.5979899497488\"/><path stroke-width=\"2\" stroke=\"green\" d=\"M 708.821139050846 1519.0452261306534 708.821139050846 1529.5979899497488\"/><path stroke-width=\"2\" stroke=\"red\" d=\"M 710.0 1687.889447236181 708.7583957823707 1687.889447236181\"/><path stroke-width=\"2\" stroke=\"red\" d=\"M 709.481372696206 1703.7185929648242 708.7583957823707 1703.7185929648242\"/><path stroke-width=\"2\" stroke=\"red\" d=\"M 708.7583957823707 1687.889447236181 708.7583957823707 1703.7185929648242\"/><path stroke-width=\"2\" stroke=\"blue\" d=\"M 710.0 674.8241206030151 708.7454713926448 674.8241206030151\"/><path stroke-width=\"2\" stroke=\"blue\" d=\"M 708.9841938381934 690.6532663316584 708.7454713926448 690.6532663316584\"/><path stroke-width=\"2\" stroke=\"blue\" d=\"M 708.7454713926448 674.8241206030151 708.7454713926448 690.6532663316584\"/><path stroke-width=\"2\" stroke=\"blue\" d=\"M 710.0 622.0603015075377 708.720794490686 622.0603015075377\"/><path stroke-width=\"2\" stroke=\"blue\" d=\"M 709.725202362139 637.889447236181 708.720794490686 637.889447236181\"/><path stroke-width=\"2\" stroke=\"blue\" d=\"M 708.720794490686 622.0603015075377 708.720794490686 637.889447236181\"/><path stroke-width=\"2\" stroke=\"red\" d=\"M 710.0 1825.0753768844222 708.6796063971428 1825.0753768844222\"/><path stroke-width=\"2\" stroke=\"red\" d=\"M 710.0 1835.6281407035178 708.6796063971428 1835.6281407035178\"/><path stroke-width=\"2\" stroke=\"red\" d=\"M 708.6796063971428 1825.0753768844222 708.6796063971428 1835.6281407035178\"/><path stroke-width=\"2\" stroke=\"red\" d=\"M 710.0 1719.5477386934674 708.6565056627012 1719.5477386934674\"/><path stroke-width=\"2\" stroke=\"red\" d=\"M 710.0 1730.100502512563 708.6565056627012 1730.100502512563\"/><path stroke-width=\"2\" stroke=\"red\" d=\"M 708.6565056627012 1719.5477386934674 708.6565056627012 1730.100502512563\"/><path stroke-width=\"2\" stroke=\"blue\" d=\"M 710.0 527.0854271356784 708.6557724509657 527.0854271356784\"/><path stroke-width=\"2\" stroke=\"blue\" d=\"M 710.0 537.6381909547739 708.6557724509657 537.6381909547739\"/><path stroke-width=\"2\" stroke=\"blue\" d=\"M 708.6557724509657 527.0854271356784 708.6557724509657 537.6381909547739\"/><path stroke-width=\"2\" stroke=\"blue\" d=\"M 710.0 558.7437185929649 708.5722429542274 558.7437185929649\"/><path stroke-width=\"2\" stroke=\"blue\" d=\"M 710.0 569.2964824120603 708.5722429542274 569.2964824120603\"/><path stroke-width=\"2\" stroke=\"blue\" d=\"M 708.5722429542274 558.7437185929649 708.5722429542274 569.2964824120603\"/><path stroke-width=\"2\" stroke=\"blue\" d=\"M 710.0 843.6683417085428 708.4359567318905 843.6683417085428\"/><path stroke-width=\"2\" stroke=\"blue\" d=\"M 709.1019551015183 859.497487437186 708.4359567318905 859.497487437186\"/><path stroke-width=\"2\" stroke=\"blue\" d=\"M 708.4359567318905 843.6683417085428 708.4359567318905 859.497487437186\"/><path stroke-width=\"2\" stroke=\"blue\" d=\"M 710.0 579.8492462311558 708.3436717495115 579.8492462311558\"/><path stroke-width=\"2\" stroke=\"blue\" d=\"M 710.0 590.4020100502513 708.3436717495115 590.4020100502513\"/><path stroke-width=\"2\" stroke=\"blue\" d=\"M 708.3436717495115 579.8492462311558 708.3436717495115 590.4020100502513\"/><path stroke-width=\"2\" stroke=\"blue\" d=\"M 710.0 906.9849246231156 708.3281110008809 906.9849246231156\"/><path stroke-width=\"2\" stroke=\"blue\" d=\"M 709.017726573847 922.8140703517588 708.3281110008809 922.8140703517588\"/><path stroke-width=\"2\" stroke=\"blue\" d=\"M 708.3281110008809 906.9849246231156 708.3281110008809 922.8140703517588\"/><path stroke-width=\"2\" stroke=\"purple\" d=\"M 710.0 1909.497487437186 708.2891770785104 1909.497487437186\"/><path stroke-width=\"2\" stroke=\"purple\" d=\"M 709.285231392219 1927.9648241206032 708.2891770785104 1927.9648241206032\"/><path stroke-width=\"2\" stroke=\"purple\" d=\"M 708.2891770785104 1909.497487437186 708.2891770785104 1927.9648241206032\"/><path stroke-width=\"2\" stroke=\"red\" d=\"M 708.7583957823707 1695.8040201005026 708.282947939883 1695.8040201005026\"/><path stroke-width=\"2\" stroke=\"red\" d=\"M 708.6565056627012 1724.8241206030152 708.282947939883 1724.8241206030152\"/><path stroke-width=\"2\" stroke=\"red\" d=\"M 708.282947939883 1695.8040201005026 708.282947939883 1724.8241206030152\"/><path stroke-width=\"2\" stroke=\"red\" d=\"M 710.0 1666.78391959799 708.2564742122347 1666.78391959799\"/><path stroke-width=\"2\" stroke=\"red\" d=\"M 710.0 1677.3366834170856 708.2564742122347 1677.3366834170856\"/><path stroke-width=\"2\" stroke=\"red\" d=\"M 708.2564742122347 1666.78391959799 708.2564742122347 1677.3366834170856\"/><path stroke-width=\"2\" stroke=\"blue\" d=\"M 710.0 970.3015075376885 708.237120228749 970.3015075376885\"/><path stroke-width=\"2\" stroke=\"blue\" d=\"M 710.0 980.854271356784 708.237120228749 980.854271356784\"/><path stroke-width=\"2\" stroke=\"blue\" d=\"M 708.237120228749 970.3015075376885 708.237120228749 980.854271356784\"/><path stroke-width=\"2\" stroke=\"red\" d=\"M 710.0 1867.2864321608042 708.2349455648706 1867.2864321608042\"/><path stroke-width=\"2\" stroke=\"red\" d=\"M 710.0 1877.8391959798996 708.2349455648706 1877.8391959798996\"/><path stroke-width=\"2\" stroke=\"red\" d=\"M 708.2349455648706 1867.2864321608042 708.2349455648706 1877.8391959798996\"/><path stroke-width=\"2\" stroke=\"blue\" d=\"M 710.0 411.00502512562815 708.148277263817 411.00502512562815\"/><path stroke-width=\"2\" stroke=\"blue\" d=\"M 710.0 421.55778894472365 708.148277263817 421.55778894472365\"/><path stroke-width=\"2\" stroke=\"blue\" d=\"M 708.148277263817 411.00502512562815 708.148277263817 421.55778894472365\"/><path stroke-width=\"2\" stroke=\"purple\" d=\"M 710.0 1951.708542713568 708.1462960588713 1951.708542713568\"/><path stroke-width=\"2\" stroke=\"purple\" d=\"M 709.0718295036556 1967.5376884422112 708.1462960588713 1967.5376884422112\"/><path stroke-width=\"2\" stroke=\"purple\" d=\"M 708.1462960588713 1951.708542713568 708.1462960588713 1967.5376884422112\"/><path stroke-width=\"2\" stroke=\"purple\" d=\"M 710.0 1888.3919597989952 708.1346584391839 1888.3919597989952\"/><path stroke-width=\"2\" stroke=\"purple\" d=\"M 710.0 1898.9447236180906 708.1346584391839 1898.9447236180906\"/><path stroke-width=\"2\" stroke=\"purple\" d=\"M 708.1346584391839 1888.3919597989952 708.1346584391839 1898.9447236180906\"/><path stroke-width=\"2\" stroke=\"red\" d=\"M 710.0 1761.7587939698494 708.0866815763164 1761.7587939698494\"/><path stroke-width=\"2\" stroke=\"red\" d=\"M 710.0 1772.3115577889448 708.0866815763164 1772.3115577889448\"/><path stroke-width=\"2\" stroke=\"red\" d=\"M 708.0866815763164 1761.7587939698494 708.0866815763164 1772.3115577889448\"/><path stroke-width=\"2\" stroke=\"red\" d=\"M 710.0 1645.6783919597992 708.0476269698678 1645.6783919597992\"/><path stroke-width=\"2\" stroke=\"red\" d=\"M 710.0 1656.2311557788946 708.0476269698678 1656.2311557788946\"/><path stroke-width=\"2\" stroke=\"red\" d=\"M 708.0476269698678 1645.6783919597992 708.0476269698678 1656.2311557788946\"/><path stroke-width=\"2\" stroke=\"olive\" d=\"M 710.0 1202.462311557789 708.0218902001568 1202.462311557789\"/><path stroke-width=\"2\" stroke=\"olive\" d=\"M 710.0 1213.0150753768846 708.0218902001568 1213.0150753768846\"/><path stroke-width=\"2\" stroke=\"olive\" d=\"M 708.0218902001568 1202.462311557789 708.0218902001568 1213.0150753768846\"/><path stroke-width=\"2\" stroke=\"blue\" d=\"M 710.0 727.5879396984925 708.0189785768445 727.5879396984925\"/><path stroke-width=\"2\" stroke=\"blue\" d=\"M 710.0 738.140703517588 708.0189785768445 738.140703517588\"/><path stroke-width=\"2\" stroke=\"blue\" d=\"M 708.0189785768445 727.5879396984925 708.0189785768445 738.140703517588\"/><path stroke-width=\"2\" stroke=\"red\" d=\"M 710.0 1624.5728643216082 707.9732846528416 1624.5728643216082\"/><path stroke-width=\"2\" stroke=\"red\" d=\"M 710.0 1635.1256281407036 707.9732846528416 1635.1256281407036\"/><path stroke-width=\"2\" stroke=\"red\" d=\"M 707.9732846528416 1624.5728643216082 707.9732846528416 1635.1256281407036\"/><path stroke-width=\"2\" stroke=\"blue\" d=\"M 710.0 611.5075376884423 707.9317337236005 611.5075376884423\"/><path stroke-width=\"2\" stroke=\"blue\" d=\"M 708.720794490686 629.9748743718594 707.9317337236005 629.9748743718594\"/><path stroke-width=\"2\" stroke=\"blue\" d=\"M 707.9317337236005 611.5075376884423 707.9317337236005 629.9748743718594\"/><path stroke-width=\"2\" stroke=\"blue\" d=\"M 710.0 790.9045226130654 707.7557549375143 790.9045226130654\"/><path stroke-width=\"2\" stroke=\"blue\" d=\"M 710.0 801.4572864321609 707.7557549375143 801.4572864321609\"/><path stroke-width=\"2\" stroke=\"blue\" d=\"M 707.7557549375143 790.9045226130654 707.7557549375143 801.4572864321609\"/><path stroke-width=\"2\" stroke=\"blue\" d=\"M 710.0 833.1155778894473 707.750643938392 833.1155778894473\"/><path stroke-width=\"2\" stroke=\"blue\" d=\"M 708.4359567318905 851.5829145728644 707.750643938392 851.5829145728644\"/><path stroke-width=\"2\" stroke=\"blue\" d=\"M 707.750643938392 833.1155778894473 707.750643938392 851.5829145728644\"/><path stroke-width=\"2\" stroke=\"red\" d=\"M 710.0 1814.5226130653268 707.6788836209824 1814.5226130653268\"/><path stroke-width=\"2\" stroke=\"red\" d=\"M 708.6796063971428 1830.35175879397 707.6788836209824 1830.35175879397\"/><path stroke-width=\"2\" stroke=\"red\" d=\"M 707.6788836209824 1814.5226130653268 707.6788836209824 1830.35175879397\"/><path stroke-width=\"2\" stroke=\"olive\" d=\"M 710.0 1234.1206030150754 707.6186026116 1234.1206030150754\"/><path stroke-width=\"2\" stroke=\"olive\" d=\"M 710.0 1244.673366834171 707.6186026116 1244.673366834171\"/><path stroke-width=\"2\" stroke=\"olive\" d=\"M 707.6186026116 1234.1206030150754 707.6186026116 1244.673366834171\"/><path stroke-width=\"2\" stroke=\"blue\" d=\"M 710.0 664.2713567839196 707.5426229514969 664.2713567839196\"/><path stroke-width=\"2\" stroke=\"blue\" d=\"M 708.7454713926448 682.7386934673368 707.5426229514969 682.7386934673368\"/><path stroke-width=\"2\" stroke=\"blue\" d=\"M 707.5426229514969 664.2713567839196 707.5426229514969 682.7386934673368\"/><path stroke-width=\"2\" stroke=\"yellow\" d=\"M 710.0 2046.6834170854272 707.4940978451392 2046.6834170854272\"/><path stroke-width=\"2\" stroke=\"yellow\" d=\"M 710.0 2057.236180904523 707.4940978451392 2057.236180904523\"/><path stroke-width=\"2\" stroke=\"yellow\" d=\"M 707.4940978451392 2046.6834170854272 707.4940978451392 2057.236180904523\"/><path stroke-width=\"2\" stroke=\"blue\" d=\"M 710.0 896.4321608040202 707.481982215426 896.4321608040202\"/><path stroke-width=\"2\" stroke=\"blue\" d=\"M 708.3281110008809 914.8994974874372 707.481982215426 914.8994974874372\"/><path stroke-width=\"2\" stroke=\"blue\" d=\"M 707.481982215426 896.4321608040202 707.481982215426 914.8994974874372\"/><path stroke-width=\"2\" stroke=\"blue\" d=\"M 710.0 780.3517587939699 707.290327601421 780.3517587939699\"/><path stroke-width=\"2\" stroke=\"blue\" d=\"M 707.7557549375143 796.1809045226132 707.290327601421 796.1809045226132\"/><path stroke-width=\"2\" stroke=\"blue\" d=\"M 707.290327601421 780.3517587939699 707.290327601421 796.1809045226132\"/><path stroke-width=\"2\" stroke=\"blue\" d=\"M 710.0 484.8743718592965 707.2590485627715 484.8743718592965\"/><path stroke-width=\"2\" stroke=\"blue\" d=\"M 710.0 495.427135678392 707.2590485627715 495.427135678392\"/><path stroke-width=\"2\" stroke=\"blue\" d=\"M 707.2590485627715 484.8743718592965 707.2590485627715 495.427135678392\"/><path stroke-width=\"2\" stroke=\"blue\" d=\"M 710.0 717.035175879397 707.2167691426773 717.035175879397\"/><path stroke-width=\"2\" stroke=\"blue\" d=\"M 708.0189785768445 732.8643216080402 707.2167691426773 732.8643216080402\"/><path stroke-width=\"2\" stroke=\"blue\" d=\"M 707.2167691426773 717.035175879397 707.2167691426773 732.8643216080402\"/><path stroke-width=\"2\" stroke=\"blue\" d=\"M 710.0 548.1909547738694 707.2118718775604 548.1909547738694\"/><path stroke-width=\"2\" stroke=\"blue\" d=\"M 708.5722429542274 564.0201005025126 707.2118718775604 564.0201005025126\"/><path stroke-width=\"2\" stroke=\"blue\" d=\"M 707.2118718775604 548.1909547738694 707.2118718775604 564.0201005025126\"/><path stroke-width=\"2\" stroke=\"blue\" d=\"M 710.0 885.8793969849247 707.1635756765361 885.8793969849247\"/><path stroke-width=\"2\" stroke=\"blue\" d=\"M 707.481982215426 905.6658291457287 707.1635756765361 905.6658291457287\"/><path stroke-width=\"2\" stroke=\"blue\" d=\"M 707.1635756765361 885.8793969849247 707.1635756765361 905.6658291457287\"/><path stroke-width=\"2\" stroke=\"orange\" d=\"M 710.0 104.9748743718593 707.1133724300228 104.9748743718593\"/><path stroke-width=\"2\" stroke=\"orange\" d=\"M 710.0 115.52763819095478 707.1133724300228 115.52763819095478\"/><path stroke-width=\"2\" stroke=\"orange\" d=\"M 707.1133724300228 104.9748743718593 707.1133724300228 115.52763819095478\"/><path stroke-width=\"2\" stroke=\"blue\" d=\"M 710.0 653.7185929648242 707.0285984460293 653.7185929648242\"/><path stroke-width=\"2\" stroke=\"blue\" d=\"M 707.5426229514969 673.5050251256282 707.0285984460293 673.5050251256282\"/><path stroke-width=\"2\" stroke=\"blue\" d=\"M 707.0285984460293 653.7185929648242 707.0285984460293 673.5050251256282\"/><path stroke-width=\"2\" stroke=\"blue\" d=\"M 710.0 400.4522613065327 706.9579546292332 400.4522613065327\"/><path stroke-width=\"2\" stroke=\"blue\" d=\"M 708.148277263817 416.2814070351759 706.9579546292332 416.2814070351759\"/><path stroke-width=\"2\" stroke=\"blue\" d=\"M 706.9579546292332 400.4522613065327 706.9579546292332 416.2814070351759\"/><path stroke-width=\"2\" stroke=\"blue\" d=\"M 710.0 600.9547738693468 706.8215152440695 600.9547738693468\"/><path stroke-width=\"2\" stroke=\"blue\" d=\"M 707.9317337236005 620.7412060301508 706.8215152440695 620.7412060301508\"/><path stroke-width=\"2\" stroke=\"blue\" d=\"M 706.8215152440695 600.9547738693468 706.8215152440695 620.7412060301508\"/><path stroke-width=\"2\" stroke=\"blue\" d=\"M 710.0 358.2412060301508 706.7733573807095 358.2412060301508\"/><path stroke-width=\"2\" stroke=\"blue\" d=\"M 710.0 368.79396984924625 706.7733573807095 368.79396984924625\"/><path stroke-width=\"2\" stroke=\"blue\" d=\"M 706.7733573807095 358.2412060301508 706.7733573807095 368.79396984924625\"/><path stroke-width=\"2\" stroke=\"blue\" d=\"M 710.0 284.37185929648246 706.6379288505341 284.37185929648246\"/><path stroke-width=\"2\" stroke=\"blue\" d=\"M 710.0 294.9246231155779 706.6379288505341 294.9246231155779\"/><path stroke-width=\"2\" stroke=\"blue\" d=\"M 706.6379288505341 284.37185929648246 706.6379288505341 294.9246231155779\"/><path stroke-width=\"2\" stroke=\"blue\" d=\"M 708.3436717495115 585.1256281407036 706.5563644233969 585.1256281407036\"/><path stroke-width=\"2\" stroke=\"blue\" d=\"M 706.8215152440695 610.8479899497488 706.5563644233969 610.8479899497488\"/><path stroke-width=\"2\" stroke=\"blue\" d=\"M 706.5563644233969 585.1256281407036 706.5563644233969 610.8479899497488\"/><path stroke-width=\"2\" stroke=\"olive\" d=\"M 710.0 1223.56783919598 706.4588946738932 1223.56783919598\"/><path stroke-width=\"2\" stroke=\"olive\" d=\"M 707.6186026116 1239.3969849246232 706.4588946738932 1239.3969849246232\"/><path stroke-width=\"2\" stroke=\"olive\" d=\"M 706.4588946738932 1223.56783919598 706.4588946738932 1239.3969849246232\"/><path stroke-width=\"2\" stroke=\"red\" d=\"M 710.0 1614.0201005025126 706.1475188379408 1614.0201005025126\"/><path stroke-width=\"2\" stroke=\"red\" d=\"M 707.9732846528416 1629.849246231156 706.1475188379408 1629.849246231156\"/><path stroke-width=\"2\" stroke=\"red\" d=\"M 706.1475188379408 1614.0201005025126 706.1475188379408 1629.849246231156\"/><path stroke-width=\"2\" stroke=\"blue\" d=\"M 710.0 505.97989949748745 706.1019177648955 505.97989949748745\"/><path stroke-width=\"2\" stroke=\"blue\" d=\"M 710.0 516.532663316583 706.1019177648955 516.532663316583\"/><path stroke-width=\"2\" stroke=\"blue\" d=\"M 706.1019177648955 505.97989949748745 706.1019177648955 516.532663316583\"/><path stroke-width=\"2\" stroke=\"blue\" d=\"M 710.0 706.4824120603016 706.0863671133774 706.4824120603016\"/><path stroke-width=\"2\" stroke=\"blue\" d=\"M 707.2167691426773 724.9497487437186 706.0863671133774 724.9497487437186\"/><path stroke-width=\"2\" stroke=\"blue\" d=\"M 706.0863671133774 706.4824120603016 706.0863671133774 724.9497487437186\"/><path stroke-width=\"2\" stroke=\"blue\" d=\"M 710.0 812.0100502512563 705.9244879716765 812.0100502512563\"/><path stroke-width=\"2\" stroke=\"blue\" d=\"M 710.0 822.5628140703518 705.9244879716765 822.5628140703518\"/><path stroke-width=\"2\" stroke=\"blue\" d=\"M 705.9244879716765 812.0100502512563 705.9244879716765 822.5628140703518\"/><path stroke-width=\"2\" stroke=\"purple\" d=\"M 708.2891770785104 1918.7311557788946 705.897284328166 1918.7311557788946\"/><path stroke-width=\"2\" stroke=\"purple\" d=\"M 708.1462960588713 1959.6231155778896 705.897284328166 1959.6231155778896\"/><path stroke-width=\"2\" stroke=\"purple\" d=\"M 705.897284328166 1918.7311557788946 705.897284328166 1959.6231155778896\"/><path stroke-width=\"2\" stroke=\"orange\" d=\"M 710.0 94.42211055276383 705.8393021749552 94.42211055276383\"/><path stroke-width=\"2\" stroke=\"orange\" d=\"M 707.1133724300228 110.25125628140704 705.8393021749552 110.25125628140704\"/><path stroke-width=\"2\" stroke=\"orange\" d=\"M 705.8393021749552 94.42211055276383 705.8393021749552 110.25125628140704\"/><path stroke-width=\"2\" stroke=\"red\" d=\"M 710.0 1803.9698492462312 705.7727387344411 1803.9698492462312\"/><path stroke-width=\"2\" stroke=\"red\" d=\"M 707.6788836209824 1822.4371859296484 705.7727387344411 1822.4371859296484\"/><path stroke-width=\"2\" stroke=\"red\" d=\"M 705.7727387344411 1803.9698492462312 705.7727387344411 1822.4371859296484\"/><path stroke-width=\"2\" stroke=\"blue\" d=\"M 710.0 347.6884422110553 705.7631817325928 347.6884422110553\"/><path stroke-width=\"2\" stroke=\"blue\" d=\"M 706.7733573807095 363.5175879396985 705.7631817325928 363.5175879396985\"/><path stroke-width=\"2\" stroke=\"blue\" d=\"M 705.7631817325928 347.6884422110553 705.7631817325928 363.5175879396985\"/><path stroke-width=\"2\" stroke=\"blue\" d=\"M 710.0 442.6633165829146 705.7418360297642 442.6633165829146\"/><path stroke-width=\"2\" stroke=\"blue\" d=\"M 710.0 453.2160804020101 705.7418360297642 453.2160804020101\"/><path stroke-width=\"2\" stroke=\"blue\" d=\"M 705.7418360297642 442.6633165829146 705.7418360297642 453.2160804020101\"/><path stroke-width=\"2\" stroke=\"blue\" d=\"M 710.0 938.6432160804021 705.7416011903757 938.6432160804021\"/><path stroke-width=\"2\" stroke=\"blue\" d=\"M 710.0 949.1959798994976 705.7416011903757 949.1959798994976\"/><path stroke-width=\"2\" stroke=\"blue\" d=\"M 705.7416011903757 938.6432160804021 705.7416011903757 949.1959798994976\"/><path stroke-width=\"2\" stroke=\"red\" d=\"M 710.0 1751.2060301507538 705.6741722038774 1751.2060301507538\"/><path stroke-width=\"2\" stroke=\"red\" d=\"M 708.0866815763164 1767.0351758793972 705.6741722038774 1767.0351758793972\"/><path stroke-width=\"2\" stroke=\"red\" d=\"M 705.6741722038774 1751.2060301507538 705.6741722038774 1767.0351758793972\"/><path stroke-width=\"2\" stroke=\"blue\" d=\"M 708.6557724509657 532.3618090452262 705.5260370825166 532.3618090452262\"/><path stroke-width=\"2\" stroke=\"blue\" d=\"M 707.2118718775604 556.105527638191 705.5260370825166 556.105527638191\"/><path stroke-width=\"2\" stroke=\"blue\" d=\"M 705.5260370825166 532.3618090452262 705.5260370825166 556.105527638191\"/><path stroke-width=\"2\" stroke=\"blue\" d=\"M 710.0 168.29145728643218 705.2993320098708 168.29145728643218\"/><path stroke-width=\"2\" stroke=\"blue\" d=\"M 710.0 178.84422110552765 705.2993320098708 178.84422110552765\"/><path stroke-width=\"2\" stroke=\"blue\" d=\"M 705.2993320098708 168.29145728643218 705.2993320098708 178.84422110552765\"/><path stroke-width=\"2\" stroke=\"blue\" d=\"M 707.0285984460293 663.6118090452262 705.2599492892665 663.6118090452262\"/><path stroke-width=\"2\" stroke=\"blue\" d=\"M 706.0863671133774 715.7160804020101 705.2599492892665 715.7160804020101\"/><path stroke-width=\"2\" stroke=\"blue\" d=\"M 705.2599492892665 663.6118090452262 705.2599492892665 715.7160804020101\"/><path stroke-width=\"2\" stroke=\"yellow\" d=\"M 710.0 2088.894472361809 705.2200458883109 2088.894472361809\"/><path stroke-width=\"2\" stroke=\"yellow\" d=\"M 710.0 2099.447236180905 705.2200458883109 2099.447236180905\"/><path stroke-width=\"2\" stroke=\"yellow\" d=\"M 705.2200458883109 2088.894472361809 705.2200458883109 2099.447236180905\"/><path stroke-width=\"2\" stroke=\"orange\" d=\"M 710.0 62.76381909547739 705.1319775870759 62.76381909547739\"/><path stroke-width=\"2\" stroke=\"orange\" d=\"M 710.0 73.31658291457288 705.1319775870759 73.31658291457288\"/><path stroke-width=\"2\" stroke=\"orange\" d=\"M 705.1319775870759 62.76381909547739 705.1319775870759 73.31658291457288\"/><path stroke-width=\"2\" stroke=\"blue\" d=\"M 710.0 389.8994974874372 705.0010592117418 389.8994974874372\"/><path stroke-width=\"2\" stroke=\"blue\" d=\"M 706.9579546292332 408.3668341708543 705.0010592117418 408.3668341708543\"/><path stroke-width=\"2\" stroke=\"blue\" d=\"M 705.0010592117418 389.8994974874372 705.0010592117418 408.3668341708543\"/><path stroke-width=\"2\" stroke=\"blue\" d=\"M 710.0 959.748743718593 704.8176410599609 959.748743718593\"/><path stroke-width=\"2\" stroke=\"blue\" d=\"M 708.237120228749 975.5778894472362 704.8176410599609 975.5778894472362\"/><path stroke-width=\"2\" stroke=\"blue\" d=\"M 704.8176410599609 959.748743718593 704.8176410599609 975.5778894472362\"/><path stroke-width=\"2\" stroke=\"purple\" d=\"M 710.0 2004.4723618090454 704.7691608305552 2004.4723618090454\"/><path stroke-width=\"2\" stroke=\"purple\" d=\"M 710.0 2015.0251256281408 704.7691608305552 2015.0251256281408\"/><path stroke-width=\"2\" stroke=\"purple\" d=\"M 704.7691608305552 2004.4723618090454 704.7691608305552 2015.0251256281408\"/><path stroke-width=\"2\" stroke=\"fuchsia\" d=\"M 710.0 1012.5125628140704 704.519358011647 1012.5125628140704\"/><path stroke-width=\"2\" stroke=\"fuchsia\" d=\"M 710.0 1023.0653266331659 704.519358011647 1023.0653266331659\"/><path stroke-width=\"2\" stroke=\"fuchsia\" d=\"M 704.519358011647 1012.5125628140704 704.519358011647 1023.0653266331659\"/><path stroke-width=\"2\" stroke=\"blue\" d=\"M 710.0 252.713567839196 704.5123640207937 252.713567839196\"/><path stroke-width=\"2\" stroke=\"blue\" d=\"M 710.0 263.2663316582915 704.5123640207937 263.2663316582915\"/><path stroke-width=\"2\" stroke=\"blue\" d=\"M 704.5123640207937 252.713567839196 704.5123640207937 263.2663316582915\"/><path stroke-width=\"2\" stroke=\"aqua\" d=\"M 710.0 1582.3618090452262 704.5059283710451 1582.3618090452262\"/><path stroke-width=\"2\" stroke=\"aqua\" d=\"M 710.0 1592.9145728643218 704.5059283710451 1592.9145728643218\"/><path stroke-width=\"2\" stroke=\"aqua\" d=\"M 704.5059283710451 1582.3618090452262 704.5059283710451 1592.9145728643218\"/><path stroke-width=\"2\" stroke=\"orange\" d=\"M 710.0 83.86934673366835 704.389136276804 83.86934673366835\"/><path stroke-width=\"2\" stroke=\"orange\" d=\"M 705.8393021749552 102.33668341708542 704.389136276804 102.33668341708542\"/><path stroke-width=\"2\" stroke=\"orange\" d=\"M 704.389136276804 83.86934673366835 704.389136276804 102.33668341708542\"/><path stroke-width=\"2\" stroke=\"blue\" d=\"M 710.0 316.03015075376885 704.3745388692444 316.03015075376885\"/><path stroke-width=\"2\" stroke=\"blue\" d=\"M 710.0 326.58291457286435 704.3745388692444 326.58291457286435\"/><path stroke-width=\"2\" stroke=\"blue\" d=\"M 704.3745388692444 316.03015075376885 704.3745388692444 326.58291457286435\"/><path stroke-width=\"2\" stroke=\"aqua\" d=\"M 710.0 1540.1507537688444 704.3620412557339 1540.1507537688444\"/><path stroke-width=\"2\" stroke=\"aqua\" d=\"M 710.0 1550.7035175879398 704.3620412557339 1550.7035175879398\"/><path stroke-width=\"2\" stroke=\"aqua\" d=\"M 704.3620412557339 1540.1507537688444 704.3620412557339 1550.7035175879398\"/><path stroke-width=\"2\" stroke=\"blue\" d=\"M 710.0 463.76884422110555 704.1922156936737 463.76884422110555\"/><path stroke-width=\"2\" stroke=\"blue\" d=\"M 710.0 474.32160804020106 704.1922156936737 474.32160804020106\"/><path stroke-width=\"2\" stroke=\"blue\" d=\"M 704.1922156936737 463.76884422110555 704.1922156936737 474.32160804020106\"/><path stroke-width=\"2\" stroke=\"blue\" d=\"M 710.0 273.81909547738695 704.1038769288956 273.81909547738695\"/><path stroke-width=\"2\" stroke=\"blue\" d=\"M 706.6379288505341 289.6482412060302 704.1038769288956 289.6482412060302\"/><path stroke-width=\"2\" stroke=\"blue\" d=\"M 704.1038769288956 273.81909547738695 704.1038769288956 289.6482412060302\"/><path stroke-width=\"2\" stroke=\"blue\" d=\"M 706.1019177648955 511.2562814070352 704.0024682242064 511.2562814070352\"/><path stroke-width=\"2\" stroke=\"blue\" d=\"M 705.5260370825166 544.2336683417086 704.0024682242064 544.2336683417086\"/><path stroke-width=\"2\" stroke=\"blue\" d=\"M 704.0024682242064 511.2562814070352 704.0024682242064 544.2336683417086\"/><path stroke-width=\"2\" stroke=\"blue\" d=\"M 707.290327601421 788.2663316582916 703.9766564025078 788.2663316582916\"/><path stroke-width=\"2\" stroke=\"blue\" d=\"M 705.9244879716765 817.286432160804 703.9766564025078 817.286432160804\"/><path stroke-width=\"2\" stroke=\"blue\" d=\"M 703.9766564025078 788.2663316582916 703.9766564025078 817.286432160804\"/><path stroke-width=\"2\" stroke=\"green\" d=\"M 710.0 1434.6231155778896 703.8993889629257 1434.6231155778896\"/><path stroke-width=\"2\" stroke=\"green\" d=\"M 710.0 1445.175879396985 703.8993889629257 1445.175879396985\"/><path stroke-width=\"2\" stroke=\"green\" d=\"M 703.8993889629257 1434.6231155778896 703.8993889629257 1445.175879396985\"/><path stroke-width=\"2\" stroke=\"brown\" d=\"M 710.0 1139.1457286432162 703.6786662803122 1139.1457286432162\"/><path stroke-width=\"2\" stroke=\"brown\" d=\"M 708.9236055519293 1154.9748743718594 703.6786662803122 1154.9748743718594\"/><path stroke-width=\"2\" stroke=\"brown\" d=\"M 703.6786662803122 1139.1457286432162 703.6786662803122 1154.9748743718594\"/><path stroke-width=\"2\" stroke=\"green\" d=\"M 710.0 1392.4120603015076 703.5670387094092 1392.4120603015076\"/><path stroke-width=\"2\" stroke=\"green\" d=\"M 710.0 1402.9648241206032 703.5670387094092 1402.9648241206032\"/><path stroke-width=\"2\" stroke=\"green\" d=\"M 703.5670387094092 1392.4120603015076 703.5670387094092 1402.9648241206032\"/><path stroke-width=\"2\" stroke=\"blue\" d=\"M 710.0 305.4773869346734 703.4859005031014 305.4773869346734\"/><path stroke-width=\"2\" stroke=\"blue\" d=\"M 704.3745388692444 321.3065326633166 703.4859005031014 321.3065326633166\"/><path stroke-width=\"2\" stroke=\"blue\" d=\"M 703.4859005031014 305.4773869346734 703.4859005031014 321.3065326633166\"/><path stroke-width=\"2\" stroke=\"blue\" d=\"M 710.0 875.3266331658292 703.3362503972166 875.3266331658292\"/><path stroke-width=\"2\" stroke=\"blue\" d=\"M 707.1635756765361 895.7726130653267 703.3362503972166 895.7726130653267\"/><path stroke-width=\"2\" stroke=\"blue\" d=\"M 703.3362503972166 875.3266331658292 703.3362503972166 895.7726130653267\"/><path stroke-width=\"2\" stroke=\"blue\" d=\"M 707.2590485627715 490.15075376884425 703.3121803172735 490.15075376884425\"/><path stroke-width=\"2\" stroke=\"blue\" d=\"M 704.0024682242064 527.7449748743719 703.3121803172735 527.7449748743719\"/><path stroke-width=\"2\" stroke=\"blue\" d=\"M 703.3121803172735 490.15075376884425 703.3121803172735 527.7449748743719\"/><path stroke-width=\"2\" stroke=\"purple\" d=\"M 708.1346584391839 1893.6683417085428 703.2073469582697 1893.6683417085428\"/><path stroke-width=\"2\" stroke=\"purple\" d=\"M 705.897284328166 1939.177135678392 703.2073469582697 1939.177135678392\"/><path stroke-width=\"2\" stroke=\"purple\" d=\"M 703.2073469582697 1893.6683417085428 703.2073469582697 1939.177135678392\"/><path stroke-width=\"2\" stroke=\"red\" d=\"M 710.0 1740.6532663316584 703.169825325046 1740.6532663316584\"/><path stroke-width=\"2\" stroke=\"red\" d=\"M 705.6741722038774 1759.1206030150756 703.169825325046 1759.1206030150756\"/><path stroke-width=\"2\" stroke=\"red\" d=\"M 703.169825325046 1740.6532663316584 703.169825325046 1759.1206030150756\"/><path stroke-width=\"2\" stroke=\"red\" d=\"M 710.0 1856.7336683417086 703.0495207527208 1856.7336683417086\"/><path stroke-width=\"2\" stroke=\"red\" d=\"M 708.2349455648706 1872.562814070352 703.0495207527208 1872.562814070352\"/><path stroke-width=\"2\" stroke=\"red\" d=\"M 703.0495207527208 1856.7336683417086 703.0495207527208 1872.562814070352\"/><path stroke-width=\"2\" stroke=\"blue\" d=\"M 707.750643938392 842.3492462311558 702.8811455849769 842.3492462311558\"/><path stroke-width=\"2\" stroke=\"blue\" d=\"M 703.3362503972166 885.549623115578 702.8811455849769 885.549623115578\"/><path stroke-width=\"2\" stroke=\"blue\" d=\"M 702.8811455849769 842.3492462311558 702.8811455849769 885.549623115578\"/><path stroke-width=\"2\" stroke=\"blue\" d=\"M 705.7416011903757 943.9195979899498 702.8791403634117 943.9195979899498\"/><path stroke-width=\"2\" stroke=\"blue\" d=\"M 704.8176410599609 967.6633165829146 702.8791403634117 967.6633165829146\"/><path stroke-width=\"2\" stroke=\"blue\" d=\"M 702.8791403634117 943.9195979899498 702.8791403634117 967.6633165829146\"/><path stroke-width=\"2\" stroke=\"blue\" d=\"M 706.5563644233969 597.9868090452262 702.813555419717 597.9868090452262\"/><path stroke-width=\"2\" stroke=\"blue\" d=\"M 705.2599492892665 689.6639447236182 702.813555419717 689.6639447236182\"/><path stroke-width=\"2\" stroke=\"blue\" d=\"M 702.813555419717 597.9868090452262 702.813555419717 689.6639447236182\"/><path stroke-width=\"2\" stroke=\"blue\" d=\"M 710.0 1118.0402010050252 702.6374230256929 1118.0402010050252\"/><path stroke-width=\"2\" stroke=\"blue\" d=\"M 710.0 1128.5929648241206 702.6374230256929 1128.5929648241206\"/><path stroke-width=\"2\" stroke=\"blue\" d=\"M 702.6374230256929 1118.0402010050252 702.6374230256929 1128.5929648241206\"/><path stroke-width=\"2\" stroke=\"blue\" d=\"M 710.0 199.9497487437186 702.5285896101907 199.9497487437186\"/><path stroke-width=\"2\" stroke=\"blue\" d=\"M 710.0 210.50251256281408 702.5285896101907 210.50251256281408\"/><path stroke-width=\"2\" stroke=\"blue\" d=\"M 702.5285896101907 199.9497487437186 702.5285896101907 210.50251256281408\"/><path stroke-width=\"2\" stroke=\"green\" d=\"M 710.0 1508.4924623115578 702.4278647896607 1508.4924623115578\"/><path stroke-width=\"2\" stroke=\"green\" d=\"M 708.821139050846 1524.3216080402012 702.4278647896607 1524.3216080402012\"/><path stroke-width=\"2\" stroke=\"green\" d=\"M 702.4278647896607 1508.4924623115578 702.4278647896607 1524.3216080402012\"/><path stroke-width=\"2\" stroke=\"blue\" d=\"M 704.5123640207937 257.98994974874375 702.1955312014552 257.98994974874375\"/><path stroke-width=\"2\" stroke=\"blue\" d=\"M 704.1038769288956 281.7336683417086 702.1955312014552 281.7336683417086\"/><path stroke-width=\"2\" stroke=\"blue\" d=\"M 702.1955312014552 257.98994974874375 702.1955312014552 281.7336683417086\"/><path stroke-width=\"2\" stroke=\"fuchsia\" d=\"M 710.0 1044.1708542713568 701.992630647669 1044.1708542713568\"/><path stroke-width=\"2\" stroke=\"fuchsia\" d=\"M 710.0 1054.7236180904524 701.992630647669 1054.7236180904524\"/><path stroke-width=\"2\" stroke=\"fuchsia\" d=\"M 701.992630647669 1044.1708542713568 701.992630647669 1054.7236180904524\"/><path stroke-width=\"2\" stroke=\"aqua\" d=\"M 710.0 1571.8090452261308 701.8373758691113 1571.8090452261308\"/><path stroke-width=\"2\" stroke=\"aqua\" d=\"M 704.5059283710451 1587.638190954774 701.8373758691113 1587.638190954774\"/><path stroke-width=\"2\" stroke=\"aqua\" d=\"M 701.8373758691113 1571.8090452261308 701.8373758691113 1587.638190954774\"/><path stroke-width=\"2\" stroke=\"olive\" d=\"M 708.0218902001568 1207.7386934673368 701.5951078384225 1207.7386934673368\"/><path stroke-width=\"2\" stroke=\"olive\" d=\"M 706.4588946738932 1231.4824120603016 701.5951078384225 1231.4824120603016\"/><path stroke-width=\"2\" stroke=\"olive\" d=\"M 701.5951078384225 1207.7386934673368 701.5951078384225 1231.4824120603016\"/><path stroke-width=\"2\" stroke=\"red\" d=\"M 708.282947939883 1710.3140703517588 701.4152524696431 1710.3140703517588\"/><path stroke-width=\"2\" stroke=\"red\" d=\"M 703.169825325046 1749.886934673367 701.4152524696431 1749.886934673367\"/><path stroke-width=\"2\" stroke=\"red\" d=\"M 701.4152524696431 1710.3140703517588 701.4152524696431 1749.886934673367\"/><path stroke-width=\"2\" stroke=\"blue\" d=\"M 702.8811455849769 863.9494346733669 701.239914470818 863.9494346733669\"/><path stroke-width=\"2\" stroke=\"blue\" d=\"M 702.8791403634117 955.7914572864322 701.239914470818 955.7914572864322\"/><path stroke-width=\"2\" stroke=\"blue\" d=\"M 701.239914470818 863.9494346733669 701.239914470818 955.7914572864322\"/><path stroke-width=\"2\" stroke=\"blue\" d=\"M 710.0 759.2462311557789 701.0874698140764 759.2462311557789\"/><path stroke-width=\"2\" stroke=\"blue\" d=\"M 710.0 769.7989949748744 701.0874698140764 769.7989949748744\"/><path stroke-width=\"2\" stroke=\"blue\" d=\"M 701.0874698140764 759.2462311557789 701.0874698140764 769.7989949748744\"/><path stroke-width=\"2\" stroke=\"orange\" d=\"M 710.0 31.105527638190956 700.8524555292319 31.105527638190956\"/><path stroke-width=\"2\" stroke=\"orange\" d=\"M 710.0 41.65829145728644 700.8524555292319 41.65829145728644\"/><path stroke-width=\"2\" stroke=\"orange\" d=\"M 700.8524555292319 31.105527638190956 700.8524555292319 41.65829145728644\"/><path stroke-width=\"2\" stroke=\"blue\" d=\"M 710.0 337.1356783919598 700.8106592116447 337.1356783919598\"/><path stroke-width=\"2\" stroke=\"blue\" d=\"M 705.7631817325928 355.6030150753769 700.8106592116447 355.6030150753769\"/><path stroke-width=\"2\" stroke=\"blue\" d=\"M 700.8106592116447 337.1356783919598 700.8106592116447 355.6030150753769\"/><path stroke-width=\"2\" stroke=\"blue\" d=\"M 710.0 379.34673366834176 700.7986354897431 379.34673366834176\"/><path stroke-width=\"2\" stroke=\"blue\" d=\"M 705.0010592117418 399.13316582914575 700.7986354897431 399.13316582914575\"/><path stroke-width=\"2\" stroke=\"blue\" d=\"M 700.7986354897431 379.34673366834176 700.7986354897431 399.13316582914575\"/><path stroke-width=\"2\" stroke=\"fuchsia\" d=\"M 710.0 1033.6180904522614 700.7571380855088 1033.6180904522614\"/><path stroke-width=\"2\" stroke=\"fuchsia\" d=\"M 701.992630647669 1049.4472361809046 700.7571380855088 1049.4472361809046\"/><path stroke-width=\"2\" stroke=\"fuchsia\" d=\"M 700.7571380855088 1033.6180904522614 700.7571380855088 1049.4472361809046\"/><path stroke-width=\"2\" stroke=\"green\" d=\"M 710.0 1381.8592964824122 700.6363790544847 1381.8592964824122\"/><path stroke-width=\"2\" stroke=\"green\" d=\"M 703.5670387094092 1397.6884422110554 700.6363790544847 1397.6884422110554\"/><path stroke-width=\"2\" stroke=\"green\" d=\"M 700.6363790544847 1381.8592964824122 700.6363790544847 1397.6884422110554\"/><path stroke-width=\"2\" stroke=\"purple\" d=\"M 710.0 1993.9195979899498 700.4613266607391 1993.9195979899498\"/><path stroke-width=\"2\" stroke=\"purple\" d=\"M 704.7691608305552 2009.7487437185932 700.4613266607391 2009.7487437185932\"/><path stroke-width=\"2\" stroke=\"purple\" d=\"M 700.4613266607391 1993.9195979899498 700.4613266607391 2009.7487437185932\"/><path stroke-width=\"2\" stroke=\"blue\" d=\"M 710.0 432.1105527638191 699.8963119958898 432.1105527638191\"/><path stroke-width=\"2\" stroke=\"blue\" d=\"M 705.7418360297642 447.93969849246236 699.8963119958898 447.93969849246236\"/><path stroke-width=\"2\" stroke=\"blue\" d=\"M 699.8963119958898 432.1105527638191 699.8963119958898 447.93969849246236\"/><path stroke-width=\"2\" stroke=\"red\" d=\"M 708.2564742122347 1672.0603015075378 699.766824762486 1672.0603015075378\"/><path stroke-width=\"2\" stroke=\"red\" d=\"M 701.4152524696431 1730.1005025125628 699.766824762486 1730.1005025125628\"/><path stroke-width=\"2\" stroke=\"red\" d=\"M 699.766824762486 1672.0603015075378 699.766824762486 1730.1005025125628\"/><path stroke-width=\"2\" stroke=\"green\" d=\"M 710.0 1424.070351758794 699.7039511463489 1424.070351758794\"/><path stroke-width=\"2\" stroke=\"green\" d=\"M 703.8993889629257 1439.8994974874372 699.7039511463489 1439.8994974874372\"/><path stroke-width=\"2\" stroke=\"green\" d=\"M 699.7039511463489 1424.070351758794 699.7039511463489 1439.8994974874372\"/><path stroke-width=\"2\" stroke=\"blue\" d=\"M 710.0 748.6934673366835 699.5473822606425 748.6934673366835\"/><path stroke-width=\"2\" stroke=\"blue\" d=\"M 701.0874698140764 764.5226130653266 699.5473822606425 764.5226130653266\"/><path stroke-width=\"2\" stroke=\"blue\" d=\"M 699.5473822606425 748.6934673366835 699.5473822606425 764.5226130653266\"/><path stroke-width=\"2\" stroke=\"red\" d=\"M 710.0 1846.1809045226132 699.4672810893752 1846.1809045226132\"/><path stroke-width=\"2\" stroke=\"red\" d=\"M 703.0495207527208 1864.6482412060304 699.4672810893752 1864.6482412060304\"/><path stroke-width=\"2\" stroke=\"red\" d=\"M 699.4672810893752 1846.1809045226132 699.4672810893752 1864.6482412060304\"/><path stroke-width=\"2\" stroke=\"blue\" d=\"M 703.3121803172735 508.9478643216081 698.9188386330329 508.9478643216081\"/><path stroke-width=\"2\" stroke=\"blue\" d=\"M 702.813555419717 643.8253768844222 698.9188386330329 643.8253768844222\"/><path stroke-width=\"2\" stroke=\"blue\" d=\"M 698.9188386330329 508.9478643216081 698.9188386330329 643.8253768844222\"/><path stroke-width=\"2\" stroke=\"red\" d=\"M 710.0 1603.4673366834172 698.847233490334 1603.4673366834172\"/><path stroke-width=\"2\" stroke=\"red\" d=\"M 706.1475188379408 1621.9346733668344 698.847233490334 1621.9346733668344\"/><path stroke-width=\"2\" stroke=\"red\" d=\"M 698.847233490334 1603.4673366834172 698.847233490334 1621.9346733668344\"/><path stroke-width=\"2\" stroke=\"orange\" d=\"M 710.0 20.55276381909548 698.4384093751329 20.55276381909548\"/><path stroke-width=\"2\" stroke=\"orange\" d=\"M 700.8524555292319 36.3819095477387 698.4384093751329 36.3819095477387\"/><path stroke-width=\"2\" stroke=\"orange\" d=\"M 698.4384093751329 20.55276381909548 698.4384093751329 36.3819095477387\"/><path stroke-width=\"2\" stroke=\"blue\" d=\"M 710.0 157.7386934673367 698.298935070037 157.7386934673367\"/><path stroke-width=\"2\" stroke=\"blue\" d=\"M 705.2993320098708 173.5678391959799 698.298935070037 173.5678391959799\"/><path stroke-width=\"2\" stroke=\"blue\" d=\"M 698.298935070037 157.7386934673367 698.298935070037 173.5678391959799\"/><path stroke-width=\"2\" stroke=\"blue\" d=\"M 703.9766564025078 802.7763819095478 697.6742028905309 802.7763819095478\"/><path stroke-width=\"2\" stroke=\"blue\" d=\"M 701.239914470818 909.8704459798996 697.6742028905309 909.8704459798996\"/><path stroke-width=\"2\" stroke=\"blue\" d=\"M 697.6742028905309 802.7763819095478 697.6742028905309 909.8704459798996\"/><path stroke-width=\"2\" stroke=\"orange\" d=\"M 710.0 126.08040201005026 697.6664085558956 126.08040201005026\"/><path stroke-width=\"2\" stroke=\"orange\" d=\"M 710.0 136.63316582914575 697.6664085558956 136.63316582914575\"/><path stroke-width=\"2\" stroke=\"orange\" d=\"M 697.6664085558956 126.08040201005026 697.6664085558956 136.63316582914575\"/><path stroke-width=\"2\" stroke=\"blue\" d=\"M 710.0 231.60804020100505 697.4451222112541 231.60804020100505\"/><path stroke-width=\"2\" stroke=\"blue\" d=\"M 710.0 242.16080402010053 697.4451222112541 242.16080402010053\"/><path stroke-width=\"2\" stroke=\"blue\" d=\"M 697.4451222112541 231.60804020100505 697.4451222112541 242.16080402010053\"/><path stroke-width=\"2\" stroke=\"blue\" d=\"M 700.8106592116447 346.36934673366835 697.2845167918864 346.36934673366835\"/><path stroke-width=\"2\" stroke=\"blue\" d=\"M 700.7986354897431 389.23994974874375 697.2845167918864 389.23994974874375\"/><path stroke-width=\"2\" stroke=\"blue\" d=\"M 697.2845167918864 346.36934673366835 697.2845167918864 389.23994974874375\"/><path stroke-width=\"2\" stroke=\"blue\" d=\"M 710.0 189.39698492462313 697.2398013836469 189.39698492462313\"/><path stroke-width=\"2\" stroke=\"blue\" d=\"M 702.5285896101907 205.22613065326635 697.2398013836469 205.22613065326635\"/><path stroke-width=\"2\" stroke=\"blue\" d=\"M 697.2398013836469 189.39698492462313 697.2398013836469 205.22613065326635\"/><path stroke-width=\"2\" stroke=\"yellow\" d=\"M 710.0 2036.1306532663318 697.0443114988924 2036.1306532663318\"/><path stroke-width=\"2\" stroke=\"yellow\" d=\"M 707.4940978451392 2051.9597989949752 697.0443114988924 2051.9597989949752\"/><path stroke-width=\"2\" stroke=\"yellow\" d=\"M 697.0443114988924 2036.1306532663318 697.0443114988924 2051.9597989949752\"/><path stroke-width=\"2\" stroke=\"blue\" d=\"M 704.1922156936737 469.0452261306533 696.309893106309 469.0452261306533\"/><path stroke-width=\"2\" stroke=\"blue\" d=\"M 698.9188386330329 576.3866206030152 696.309893106309 576.3866206030152\"/><path stroke-width=\"2\" stroke=\"blue\" d=\"M 696.309893106309 469.0452261306533 696.309893106309 576.3866206030152\"/><path stroke-width=\"2\" stroke=\"orange\" d=\"M 710.0 52.21105527638191 695.50040539118 52.21105527638191\"/><path stroke-width=\"2\" stroke=\"orange\" d=\"M 705.1319775870759 68.04020100502512 695.50040539118 68.04020100502512\"/><path stroke-width=\"2\" stroke=\"orange\" d=\"M 695.50040539118 52.21105527638191 695.50040539118 68.04020100502512\"/><path stroke-width=\"2\" stroke=\"orange\" d=\"M 704.389136276804 93.10301507537689 695.4770203957095 93.10301507537689\"/><path stroke-width=\"2\" stroke=\"orange\" d=\"M 697.6664085558956 131.356783919598 695.4770203957095 131.356783919598\"/><path stroke-width=\"2\" stroke=\"orange\" d=\"M 695.4770203957095 93.10301507537689 695.4770203957095 131.356783919598\"/><path stroke-width=\"2\" stroke=\"green\" d=\"M 710.0 1455.7286432160806 694.9714452354226 1455.7286432160806\"/><path stroke-width=\"2\" stroke=\"green\" d=\"M 710.0 1466.281407035176 694.9714452354226 1466.281407035176\"/><path stroke-width=\"2\" stroke=\"green\" d=\"M 694.9714452354226 1455.7286432160806 694.9714452354226 1466.281407035176\"/><path stroke-width=\"2\" stroke=\"blue\" d=\"M 703.4859005031014 313.391959798995 694.9666754118016 313.391959798995\"/><path stroke-width=\"2\" stroke=\"blue\" d=\"M 697.2845167918864 367.80464824120605 694.9666754118016 367.80464824120605\"/><path stroke-width=\"2\" stroke=\"blue\" d=\"M 694.9666754118016 313.391959798995 694.9666754118016 367.80464824120605\"/><path stroke-width=\"2\" stroke=\"blue\" d=\"M 710.0 147.18592964824123 693.7696290720025 147.18592964824123\"/><path stroke-width=\"2\" stroke=\"blue\" d=\"M 698.298935070037 165.6532663316583 693.7696290720025 165.6532663316583\"/><path stroke-width=\"2\" stroke=\"blue\" d=\"M 693.7696290720025 147.18592964824123 693.7696290720025 165.6532663316583\"/><path stroke-width=\"2\" stroke=\"aqua\" d=\"M 710.0 1561.2562814070352 693.4506195587843 1561.2562814070352\"/><path stroke-width=\"2\" stroke=\"aqua\" d=\"M 701.8373758691113 1579.7236180904524 693.4506195587843 1579.7236180904524\"/><path stroke-width=\"2\" stroke=\"aqua\" d=\"M 693.4506195587843 1561.2562814070352 693.4506195587843 1579.7236180904524\"/><path stroke-width=\"2\" stroke=\"red\" d=\"M 710.0 1782.8643216080404 692.6873405164365 1782.8643216080404\"/><path stroke-width=\"2\" stroke=\"red\" d=\"M 710.0 1793.4170854271358 692.6873405164365 1793.4170854271358\"/><path stroke-width=\"2\" stroke=\"red\" d=\"M 692.6873405164365 1782.8643216080404 692.6873405164365 1793.4170854271358\"/><path stroke-width=\"2\" stroke=\"red\" d=\"M 705.7727387344411 1813.2035175879398 692.0597273195269 1813.2035175879398\"/><path stroke-width=\"2\" stroke=\"red\" d=\"M 699.4672810893752 1855.4145728643218 692.0597273195269 1855.4145728643218\"/><path stroke-width=\"2\" stroke=\"red\" d=\"M 692.0597273195269 1813.2035175879398 692.0597273195269 1855.4145728643218\"/><path stroke-width=\"2\" stroke=\"purple\" d=\"M 710.0 1983.3668341708544 691.8797381692116 1983.3668341708544\"/><path stroke-width=\"2\" stroke=\"purple\" d=\"M 700.4613266607391 2001.8341708542716 691.8797381692116 2001.8341708542716\"/><path stroke-width=\"2\" stroke=\"purple\" d=\"M 691.8797381692116 1983.3668341708544 691.8797381692116 2001.8341708542716\"/><path stroke-width=\"2\" stroke=\"blue\" d=\"M 710.0 221.05527638190955 691.8496197012183 221.05527638190955\"/><path stroke-width=\"2\" stroke=\"blue\" d=\"M 697.4451222112541 236.8844221105528 691.8496197012183 236.8844221105528\"/><path stroke-width=\"2\" stroke=\"blue\" d=\"M 691.8496197012183 221.05527638190955 691.8496197012183 236.8844221105528\"/><path stroke-width=\"2\" stroke=\"blue\" d=\"M 702.1955312014552 269.8618090452262 691.8489293847604 269.8618090452262\"/><path stroke-width=\"2\" stroke=\"blue\" d=\"M 694.9666754118016 340.5983040201005 691.8489293847604 340.5983040201005\"/><path stroke-width=\"2\" stroke=\"blue\" d=\"M 691.8489293847604 269.8618090452262 691.8489293847604 340.5983040201005\"/><path stroke-width=\"2\" stroke=\"yellow\" d=\"M 710.0 2025.5778894472364 691.7934944265315 2025.5778894472364\"/><path stroke-width=\"2\" stroke=\"yellow\" d=\"M 697.0443114988924 2044.0452261306536 691.7934944265315 2044.0452261306536\"/><path stroke-width=\"2\" stroke=\"yellow\" d=\"M 691.7934944265315 2025.5778894472364 691.7934944265315 2044.0452261306536\"/><path stroke-width=\"2\" stroke=\"red\" d=\"M 708.0476269698678 1650.9547738693468 691.6778187680081 1650.9547738693468\"/><path stroke-width=\"2\" stroke=\"red\" d=\"M 699.766824762486 1701.0804020100504 691.6778187680081 1701.0804020100504\"/><path stroke-width=\"2\" stroke=\"red\" d=\"M 691.6778187680081 1650.9547738693468 691.6778187680081 1701.0804020100504\"/><path stroke-width=\"2\" stroke=\"purple\" d=\"M 710.0 1286.8844221105528 691.6527291171233 1286.8844221105528\"/><path stroke-width=\"2\" stroke=\"purple\" d=\"M 710.0 1297.4371859296484 691.6527291171233 1297.4371859296484\"/><path stroke-width=\"2\" stroke=\"purple\" d=\"M 691.6527291171233 1286.8844221105528 691.6527291171233 1297.4371859296484\"/><path stroke-width=\"2\" stroke=\"blue\" d=\"M 699.8963119958898 440.0251256281407 689.3070440040273 440.0251256281407\"/><path stroke-width=\"2\" stroke=\"blue\" d=\"M 696.309893106309 522.7159233668342 689.3070440040273 522.7159233668342\"/><path stroke-width=\"2\" stroke=\"blue\" d=\"M 689.3070440040273 440.0251256281407 689.3070440040273 522.7159233668342\"/><path stroke-width=\"2\" stroke=\"orange\" d=\"M 710.0 10.0 689.1118708130641 10.0\"/><path stroke-width=\"2\" stroke=\"orange\" d=\"M 698.4384093751329 28.467336683417088 689.1118708130641 28.467336683417088\"/><path stroke-width=\"2\" stroke=\"orange\" d=\"M 689.1118708130641 10.0 689.1118708130641 28.467336683417088\"/><path stroke-width=\"2\" stroke=\"yellow\" d=\"M 710.0 2078.3417085427136 689.0212133213638 2078.3417085427136\"/><path stroke-width=\"2\" stroke=\"yellow\" d=\"M 705.2200458883109 2094.170854271357 689.0212133213638 2094.170854271357\"/><path stroke-width=\"2\" stroke=\"yellow\" d=\"M 689.0212133213638 2078.3417085427136 689.0212133213638 2094.170854271357\"/><path stroke-width=\"2\" stroke=\"blue\" d=\"M 691.8496197012183 228.96984924623118 688.993051722721 228.96984924623118\"/><path stroke-width=\"2\" stroke=\"blue\" d=\"M 691.8489293847604 305.23005653266335 688.993051722721 305.23005653266335\"/><path stroke-width=\"2\" stroke=\"blue\" d=\"M 688.993051722721 228.96984924623118 688.993051722721 305.23005653266335\"/><path stroke-width=\"2\" stroke=\"blue\" d=\"M 699.5473822606425 756.608040201005 686.576496715046 756.608040201005\"/><path stroke-width=\"2\" stroke=\"blue\" d=\"M 697.6742028905309 856.3234139447237 686.576496715046 856.3234139447237\"/><path stroke-width=\"2\" stroke=\"blue\" d=\"M 686.576496715046 756.608040201005 686.576496715046 856.3234139447237\"/><path stroke-width=\"2\" stroke=\"red\" d=\"M 698.847233490334 1612.7010050251258 686.295292416707 1612.7010050251258\"/><path stroke-width=\"2\" stroke=\"red\" d=\"M 691.6778187680081 1676.0175879396986 686.295292416707 1676.0175879396986\"/><path stroke-width=\"2\" stroke=\"red\" d=\"M 686.295292416707 1612.7010050251258 686.295292416707 1676.0175879396986\"/><path stroke-width=\"2\" stroke=\"fuchsia\" d=\"M 704.519358011647 1017.7889447236182 686.2352322482393 1017.7889447236182\"/><path stroke-width=\"2\" stroke=\"fuchsia\" d=\"M 700.7571380855088 1041.532663316583 686.2352322482393 1041.532663316583\"/><path stroke-width=\"2\" stroke=\"fuchsia\" d=\"M 686.2352322482393 1017.7889447236182 686.2352322482393 1041.532663316583\"/><path stroke-width=\"2\" stroke=\"brown\" d=\"M 710.0 1170.8040201005026 686.0992063222631 1170.8040201005026\"/><path stroke-width=\"2\" stroke=\"brown\" d=\"M 710.0 1181.356783919598 686.0992063222631 1181.356783919598\"/><path stroke-width=\"2\" stroke=\"brown\" d=\"M 686.0992063222631 1170.8040201005026 686.0992063222631 1181.356783919598\"/><path stroke-width=\"2\" stroke=\"aqua\" d=\"M 704.3620412557339 1545.427135678392 685.4316245311838 1545.427135678392\"/><path stroke-width=\"2\" stroke=\"aqua\" d=\"M 693.4506195587843 1570.4899497487438 685.4316245311838 1570.4899497487438\"/><path stroke-width=\"2\" stroke=\"aqua\" d=\"M 685.4316245311838 1545.427135678392 685.4316245311838 1570.4899497487438\"/><path stroke-width=\"2\" stroke=\"green\" d=\"M 710.0 1497.9396984924624 685.4177388760055 1497.9396984924624\"/><path stroke-width=\"2\" stroke=\"green\" d=\"M 702.4278647896607 1516.4070351758796 685.4177388760055 1516.4070351758796\"/><path stroke-width=\"2\" stroke=\"green\" d=\"M 685.4177388760055 1497.9396984924624 685.4177388760055 1516.4070351758796\"/><path stroke-width=\"2\" stroke=\"orange\" d=\"M 695.50040539118 60.12562814070352 684.8656419402212 60.12562814070352\"/><path stroke-width=\"2\" stroke=\"orange\" d=\"M 695.4770203957095 112.22989949748745 684.8656419402212 112.22989949748745\"/><path stroke-width=\"2\" stroke=\"orange\" d=\"M 684.8656419402212 60.12562814070352 684.8656419402212 112.22989949748745\"/><path stroke-width=\"2\" stroke=\"fuchsia\" d=\"M 710.0 1001.9597989949749 684.2921673375605 1001.9597989949749\"/><path stroke-width=\"2\" stroke=\"fuchsia\" d=\"M 686.2352322482393 1029.6608040201006 684.2921673375605 1029.6608040201006\"/><path stroke-width=\"2\" stroke=\"fuchsia\" d=\"M 684.2921673375605 1001.9597989949749 684.2921673375605 1029.6608040201006\"/><path stroke-width=\"2\" stroke=\"purple\" d=\"M 703.2073469582697 1916.4227386934674 681.6335716559389 1916.4227386934674\"/><path stroke-width=\"2\" stroke=\"purple\" d=\"M 691.8797381692116 1992.600502512563 681.6335716559389 1992.600502512563\"/><path stroke-width=\"2\" stroke=\"purple\" d=\"M 681.6335716559389 1916.4227386934674 681.6335716559389 1992.600502512563\"/><path stroke-width=\"2\" stroke=\"red\" d=\"M 710.0 1075.8291457286432 681.3033524804281 1075.8291457286432\"/><path stroke-width=\"2\" stroke=\"red\" d=\"M 710.0 1086.3819095477388 681.3033524804281 1086.3819095477388\"/><path stroke-width=\"2\" stroke=\"red\" d=\"M 681.3033524804281 1075.8291457286432 681.3033524804281 1086.3819095477388\"/><path stroke-width=\"2\" stroke=\"green\" d=\"M 710.0 1487.386934673367 681.0072802663175 1487.386934673367\"/><path stroke-width=\"2\" stroke=\"green\" d=\"M 685.4177388760055 1507.173366834171 681.0072802663175 1507.173366834171\"/><path stroke-width=\"2\" stroke=\"green\" d=\"M 681.0072802663175 1487.386934673367 681.0072802663175 1507.173366834171\"/><path stroke-width=\"2\" stroke=\"green\" d=\"M 699.7039511463489 1431.9849246231156 680.6129248319758 1431.9849246231156\"/><path stroke-width=\"2\" stroke=\"green\" d=\"M 694.9714452354226 1461.0050251256284 680.6129248319758 1461.0050251256284\"/><path stroke-width=\"2\" stroke=\"green\" d=\"M 680.6129248319758 1431.9849246231156 680.6129248319758 1461.0050251256284\"/><path stroke-width=\"2\" stroke=\"olive\" d=\"M 710.0 1191.9095477386936 679.8447881502584 1191.9095477386936\"/><path stroke-width=\"2\" stroke=\"olive\" d=\"M 701.5951078384225 1219.6105527638192 679.8447881502584 1219.6105527638192\"/><path stroke-width=\"2\" stroke=\"olive\" d=\"M 679.8447881502584 1191.9095477386936 679.8447881502584 1219.6105527638192\"/><path stroke-width=\"2\" stroke=\"yellow\" d=\"M 710.0 2067.7889447236184 679.7455420766155 2067.7889447236184\"/><path stroke-width=\"2\" stroke=\"yellow\" d=\"M 689.0212133213638 2086.256281407035 679.7455420766155 2086.256281407035\"/><path stroke-width=\"2\" stroke=\"yellow\" d=\"M 679.7455420766155 2067.7889447236184 679.7455420766155 2086.256281407035\"/><path stroke-width=\"2\" stroke=\"green\" d=\"M 710.0 1265.7788944723618 679.3209526650104 1265.7788944723618\"/><path stroke-width=\"2\" stroke=\"green\" d=\"M 710.0 1276.3316582914574 679.3209526650104 1276.3316582914574\"/><path stroke-width=\"2\" stroke=\"green\" d=\"M 679.3209526650104 1265.7788944723618 679.3209526650104 1276.3316582914574\"/><path stroke-width=\"2\" stroke=\"blue\" d=\"M 689.3070440040273 481.37052449748745 678.5844637259434 481.37052449748745\"/><path stroke-width=\"2\" stroke=\"blue\" d=\"M 686.576496715046 806.4657270728644 678.5844637259434 806.4657270728644\"/><path stroke-width=\"2\" stroke=\"blue\" d=\"M 678.5844637259434 481.37052449748745 678.5844637259434 806.4657270728644\"/><path stroke-width=\"2\" stroke=\"red\" d=\"M 692.6873405164365 1788.140703517588 677.2777623414596 1788.140703517588\"/><path stroke-width=\"2\" stroke=\"red\" d=\"M 692.0597273195269 1834.3090452261308 677.2777623414596 1834.3090452261308\"/><path stroke-width=\"2\" stroke=\"red\" d=\"M 677.2777623414596 1788.140703517588 677.2777623414596 1834.3090452261308\"/><path stroke-width=\"2\" stroke=\"green\" d=\"M 710.0 1476.8341708542714 675.8798359938073 1476.8341708542714\"/><path stroke-width=\"2\" stroke=\"green\" d=\"M 681.0072802663175 1497.280150753769 675.8798359938073 1497.280150753769\"/><path stroke-width=\"2\" stroke=\"green\" d=\"M 675.8798359938073 1476.8341708542714 675.8798359938073 1497.280150753769\"/><path stroke-width=\"2\" stroke=\"blue\" d=\"M 710.0 1107.4874371859298 675.5078818362027 1107.4874371859298\"/><path stroke-width=\"2\" stroke=\"blue\" d=\"M 702.6374230256929 1123.3165829145728 675.5078818362027 1123.3165829145728\"/><path stroke-width=\"2\" stroke=\"blue\" d=\"M 675.5078818362027 1107.4874371859298 675.5078818362027 1123.3165829145728\"/><path stroke-width=\"2\" stroke=\"green\" d=\"M 680.6129248319758 1446.494974874372 674.8393617453121 1446.494974874372\"/><path stroke-width=\"2\" stroke=\"green\" d=\"M 675.8798359938073 1487.0571608040202 674.8393617453121 1487.0571608040202\"/><path stroke-width=\"2\" stroke=\"green\" d=\"M 674.8393617453121 1446.494974874372 674.8393617453121 1487.0571608040202\"/><path stroke-width=\"2\" stroke=\"fuchsia\" d=\"M 710.0 991.4070351758795 674.5974484490281 991.4070351758795\"/><path stroke-width=\"2\" stroke=\"fuchsia\" d=\"M 684.2921673375605 1015.8103015075378 674.5974484490281 1015.8103015075378\"/><path stroke-width=\"2\" stroke=\"fuchsia\" d=\"M 674.5974484490281 991.4070351758795 674.5974484490281 1015.8103015075378\"/><path stroke-width=\"2\" stroke=\"green\" d=\"M 710.0 1413.5175879396986 674.0505111910658 1413.5175879396986\"/><path stroke-width=\"2\" stroke=\"green\" d=\"M 674.8393617453121 1466.776067839196 674.0505111910658 1466.776067839196\"/><path stroke-width=\"2\" stroke=\"green\" d=\"M 674.0505111910658 1413.5175879396986 674.0505111910658 1466.776067839196\"/><path stroke-width=\"2\" stroke=\"orange\" d=\"M 710.0 1307.9899497487438 672.7107005069322 1307.9899497487438\"/><path stroke-width=\"2\" stroke=\"orange\" d=\"M 710.0 1318.5427135678392 672.7107005069322 1318.5427135678392\"/><path stroke-width=\"2\" stroke=\"orange\" d=\"M 672.7107005069322 1307.9899497487438 672.7107005069322 1318.5427135678392\"/><path stroke-width=\"2\" stroke=\"orange\" d=\"M 689.1118708130641 19.233668341708544 671.6673974073883 19.233668341708544\"/><path stroke-width=\"2\" stroke=\"orange\" d=\"M 684.8656419402212 86.17776381909549 671.6673974073883 86.17776381909549\"/><path stroke-width=\"2\" stroke=\"orange\" d=\"M 671.6673974073883 19.233668341708544 671.6673974073883 86.17776381909549\"/><path stroke-width=\"2\" stroke=\"green\" d=\"M 710.0 1255.2261306532664 670.282838071123 1255.2261306532664\"/><path stroke-width=\"2\" stroke=\"green\" d=\"M 679.3209526650104 1271.0552763819096 670.282838071123 1271.0552763819096\"/><path stroke-width=\"2\" stroke=\"green\" d=\"M 670.282838071123 1255.2261306532664 670.282838071123 1271.0552763819096\"/><path stroke-width=\"2\" stroke=\"blue\" d=\"M 688.993051722721 267.09995288944725 668.2714305024471 267.09995288944725\"/><path stroke-width=\"2\" stroke=\"blue\" d=\"M 678.5844637259434 643.9181257851759 668.2714305024471 643.9181257851759\"/><path stroke-width=\"2\" stroke=\"blue\" d=\"M 668.2714305024471 267.09995288944725 668.2714305024471 643.9181257851759\"/><path stroke-width=\"2\" stroke=\"yellow\" d=\"M 691.7934944265315 2034.811557788945 666.1523936373399 2034.811557788945\"/><path stroke-width=\"2\" stroke=\"yellow\" d=\"M 679.7455420766155 2077.022613065327 666.1523936373399 2077.022613065327\"/><path stroke-width=\"2\" stroke=\"yellow\" d=\"M 666.1523936373399 2034.811557788945 666.1523936373399 2077.022613065327\"/><path stroke-width=\"2\" stroke=\"green\" d=\"M 700.6363790544847 1389.7738693467338 665.6412078345361 1389.7738693467338\"/><path stroke-width=\"2\" stroke=\"green\" d=\"M 674.0505111910658 1440.1468278894472 665.6412078345361 1440.1468278894472\"/><path stroke-width=\"2\" stroke=\"green\" d=\"M 665.6412078345361 1389.7738693467338 665.6412078345361 1440.1468278894472\"/><path stroke-width=\"2\" stroke=\"brown\" d=\"M 703.6786662803122 1147.0603015075378 664.2621960672031 1147.0603015075378\"/><path stroke-width=\"2\" stroke=\"brown\" d=\"M 686.0992063222631 1176.0804020100504 664.2621960672031 1176.0804020100504\"/><path stroke-width=\"2\" stroke=\"brown\" d=\"M 664.2621960672031 1147.0603015075378 664.2621960672031 1176.0804020100504\"/><path stroke-width=\"2\" stroke=\"blue\" d=\"M 697.2398013836469 197.31155778894475 663.9079298334401 197.31155778894475\"/><path stroke-width=\"2\" stroke=\"blue\" d=\"M 668.2714305024471 455.5090393373116 663.9079298334401 455.5090393373116\"/><path stroke-width=\"2\" stroke=\"blue\" d=\"M 663.9079298334401 197.31155778894475 663.9079298334401 455.5090393373116\"/><path stroke-width=\"2\" stroke=\"red\" d=\"M 686.295292416707 1644.3592964824122 662.9199133333854 1644.3592964824122\"/><path stroke-width=\"2\" stroke=\"red\" d=\"M 677.2777623414596 1811.2248743718594 662.9199133333854 1811.2248743718594\"/><path stroke-width=\"2\" stroke=\"red\" d=\"M 662.9199133333854 1644.3592964824122 662.9199133333854 1811.2248743718594\"/><path stroke-width=\"2\" stroke=\"yellow\" d=\"M 710.0 1339.6482412060302 660.2154296520127 1339.6482412060302\"/><path stroke-width=\"2\" stroke=\"yellow\" d=\"M 710.0 1350.2010050251258 660.2154296520127 1350.2010050251258\"/><path stroke-width=\"2\" stroke=\"yellow\" d=\"M 660.2154296520127 1339.6482412060302 660.2154296520127 1350.2010050251258\"/><path stroke-width=\"2\" stroke=\"red\" d=\"M 710.0 1065.2763819095478 659.2472300431374 1065.2763819095478\"/><path stroke-width=\"2\" stroke=\"red\" d=\"M 681.3033524804281 1081.105527638191 659.2472300431374 1081.105527638191\"/><path stroke-width=\"2\" stroke=\"red\" d=\"M 659.2472300431374 1065.2763819095478 659.2472300431374 1081.105527638191\"/><path stroke-width=\"2\" stroke=\"blue\" d=\"M 693.7696290720025 156.41959798994975 653.7342946900401 156.41959798994975\"/><path stroke-width=\"2\" stroke=\"blue\" d=\"M 663.9079298334401 326.4102985631282 653.7342946900401 326.4102985631282\"/><path stroke-width=\"2\" stroke=\"blue\" d=\"M 653.7342946900401 156.41959798994975 653.7342946900401 326.4102985631282\"/><path stroke-width=\"2\" stroke=\"black\" d=\"M 674.5974484490281 1003.6086683417086 649.0752572349628 1003.6086683417086\"/><path stroke-width=\"2\" stroke=\"black\" d=\"M 659.2472300431374 1073.1909547738694 649.0752572349628 1073.1909547738694\"/><path stroke-width=\"2\" stroke=\"black\" d=\"M 649.0752572349628 1003.6086683417086 649.0752572349628 1073.1909547738694\"/><path stroke-width=\"2\" stroke=\"black\" d=\"M 685.4316245311838 1557.958542713568 647.8014186742749 1557.958542713568\"/><path stroke-width=\"2\" stroke=\"black\" d=\"M 662.9199133333854 1727.7920854271358 647.8014186742749 1727.7920854271358\"/><path stroke-width=\"2\" stroke=\"black\" d=\"M 647.8014186742749 1557.958542713568 647.8014186742749 1727.7920854271358\"/><path stroke-width=\"2\" stroke=\"black\" d=\"M 710.0 1329.0954773869348 645.6685018375907 1329.0954773869348\"/><path stroke-width=\"2\" stroke=\"black\" d=\"M 660.2154296520127 1344.924623115578 645.6685018375907 1344.924623115578\"/><path stroke-width=\"2\" stroke=\"black\" d=\"M 645.6685018375907 1329.0954773869348 645.6685018375907 1344.924623115578\"/><path stroke-width=\"2\" stroke=\"black\" d=\"M 681.6335716559389 1954.5116206030152 645.4268524816862 1954.5116206030152\"/><path stroke-width=\"2\" stroke=\"black\" d=\"M 666.1523936373399 2055.917085427136 645.4268524816862 2055.917085427136\"/><path stroke-width=\"2\" stroke=\"black\" d=\"M 645.4268524816862 1954.5116206030152 645.4268524816862 2055.917085427136\"/><path stroke-width=\"2\" stroke=\"black\" d=\"M 710.0 1096.9346733668342 644.8944735505368 1096.9346733668342\"/><path stroke-width=\"2\" stroke=\"black\" d=\"M 675.5078818362027 1115.4020100502512 644.8944735505368 1115.4020100502512\"/><path stroke-width=\"2\" stroke=\"black\" d=\"M 644.8944735505368 1096.9346733668342 644.8944735505368 1115.4020100502512\"/><path stroke-width=\"2\" stroke=\"black\" d=\"M 710.0 1360.7537688442212 643.3513430496832 1360.7537688442212\"/><path stroke-width=\"2\" stroke=\"black\" d=\"M 710.0 1371.3065326633166 643.3513430496832 1371.3065326633166\"/><path stroke-width=\"2\" stroke=\"black\" d=\"M 643.3513430496832 1360.7537688442212 643.3513430496832 1371.3065326633166\"/><path stroke-width=\"2\" stroke=\"black\" d=\"M 645.6685018375907 1337.0100502512564 635.6971462571364 1337.0100502512564\"/><path stroke-width=\"2\" stroke=\"black\" d=\"M 643.3513430496832 1366.0301507537688 635.6971462571364 1366.0301507537688\"/><path stroke-width=\"2\" stroke=\"black\" d=\"M 635.6971462571364 1337.0100502512564 635.6971462571364 1366.0301507537688\"/><path stroke-width=\"2\" stroke=\"black\" d=\"M 671.6673974073883 52.70571608040201 635.174520561035 52.70571608040201\"/><path stroke-width=\"2\" stroke=\"black\" d=\"M 653.7342946900401 241.41494827653898 635.174520561035 241.41494827653898\"/><path stroke-width=\"2\" stroke=\"black\" d=\"M 635.174520561035 52.70571608040201 635.174520561035 241.41494827653898\"/><path stroke-width=\"2\" stroke=\"black\" d=\"M 679.8447881502584 1205.7600502512564 632.1741861374305 1205.7600502512564\"/><path stroke-width=\"2\" stroke=\"black\" d=\"M 670.282838071123 1263.140703517588 632.1741861374305 1263.140703517588\"/><path stroke-width=\"2\" stroke=\"black\" d=\"M 632.1741861374305 1205.7600502512564 632.1741861374305 1263.140703517588\"/><path stroke-width=\"2\" stroke=\"black\" d=\"M 672.7107005069322 1313.2663316582916 619.993776275875 1313.2663316582916\"/><path stroke-width=\"2\" stroke=\"black\" d=\"M 635.6971462571364 1351.5201005025126 619.993776275875 1351.5201005025126\"/><path stroke-width=\"2\" stroke=\"black\" d=\"M 619.993776275875 1313.2663316582916 619.993776275875 1351.5201005025126\"/><path stroke-width=\"2\" stroke=\"black\" d=\"M 691.6527291171233 1292.1608040201006 617.7663678669455 1292.1608040201006\"/><path stroke-width=\"2\" stroke=\"black\" d=\"M 619.993776275875 1332.393216080402 617.7663678669455 1332.393216080402\"/><path stroke-width=\"2\" stroke=\"black\" d=\"M 617.7663678669455 1292.1608040201006 617.7663678669455 1332.393216080402\"/><path stroke-width=\"2\" stroke=\"black\" d=\"M 649.0752572349628 1038.399811557789 611.6848972176181 1038.399811557789\"/><path stroke-width=\"2\" stroke=\"black\" d=\"M 644.8944735505368 1106.1683417085428 611.6848972176181 1106.1683417085428\"/><path stroke-width=\"2\" stroke=\"black\" d=\"M 611.6848972176181 1038.399811557789 611.6848972176181 1106.1683417085428\"/><path stroke-width=\"2\" stroke=\"black\" d=\"M 647.8014186742749 1642.875314070352 599.2070583225669 1642.875314070352\"/><path stroke-width=\"2\" stroke=\"black\" d=\"M 645.4268524816862 2005.2143530150756 599.2070583225669 2005.2143530150756\"/><path stroke-width=\"2\" stroke=\"black\" d=\"M 599.2070583225669 1642.875314070352 599.2070583225669 2005.2143530150756\"/><path stroke-width=\"2\" stroke=\"black\" d=\"M 632.1741861374305 1234.4503768844222 581.5634940727195 1234.4503768844222\"/><path stroke-width=\"2\" stroke=\"black\" d=\"M 617.7663678669455 1312.2770100502512 581.5634940727195 1312.2770100502512\"/><path stroke-width=\"2\" stroke=\"black\" d=\"M 581.5634940727195 1234.4503768844222 581.5634940727195 1312.2770100502512\"/><path stroke-width=\"2\" stroke=\"black\" d=\"M 664.2621960672031 1161.570351758794 570.4341962572139 1161.570351758794\"/><path stroke-width=\"2\" stroke=\"black\" d=\"M 581.5634940727195 1273.3636934673368 570.4341962572139 1273.3636934673368\"/><path stroke-width=\"2\" stroke=\"black\" d=\"M 570.4341962572139 1161.570351758794 570.4341962572139 1273.3636934673368\"/><path stroke-width=\"2\" stroke=\"black\" d=\"M 665.6412078345361 1414.9603486180904 565.1719039923187 1414.9603486180904\"/><path stroke-width=\"2\" stroke=\"black\" d=\"M 599.2070583225669 1824.0448335427138 565.1719039923187 1824.0448335427138\"/><path stroke-width=\"2\" stroke=\"black\" d=\"M 565.1719039923187 1414.9603486180904 565.1719039923187 1824.0448335427138\"/><path stroke-width=\"2\" stroke=\"black\" d=\"M 635.174520561035 147.0603321784705 541.2331329629098 147.0603321784705\"/><path stroke-width=\"2\" stroke=\"black\" d=\"M 611.6848972176181 1072.284076633166 541.2331329629098 1072.284076633166\"/><path stroke-width=\"2\" stroke=\"black\" d=\"M 541.2331329629098 147.0603321784705 541.2331329629098 1072.284076633166\"/><path stroke-width=\"2\" stroke=\"black\" d=\"M 570.4341962572139 1217.4670226130654 429.8187711120629 1217.4670226130654\"/><path stroke-width=\"2\" stroke=\"black\" d=\"M 565.1719039923187 1619.502591080402 429.8187711120629 1619.502591080402\"/><path stroke-width=\"2\" stroke=\"black\" d=\"M 429.8187711120629 1217.4670226130654 429.8187711120629 1619.502591080402\"/><path stroke-width=\"2\" stroke=\"black\" d=\"M 541.2331329629098 609.6722044058183 10.0 609.6722044058183\"/><path stroke-width=\"2\" stroke=\"black\" d=\"M 429.8187711120629 1418.4848068467336 10.0 1418.4848068467336\"/><path stroke-width=\"2\" stroke=\"black\" d=\"M 10.0 609.6722044058183 10.0 1418.4848068467336\"/></svg>",
      "text/plain": [
       "<IPython.core.display.SVG object>"
      ]
     },
     "execution_count": 45,
     "metadata": {},
     "output_type": "execute_result"
    }
   ],
   "source": [
    "image = svg_dendrogram(dendrogram, names, rotate = True, width = 200, height=600, scale = 3.5, n_clusters = 20, font_size=8)\n",
    "SVG(image)"
   ]
  },
  {
   "cell_type": "markdown",
   "metadata": {},
   "source": [
    "Unlike the previous clustering, this one groups anime more \"chaotically\", disregarding both genre and franchise in its classification."
   ]
  },
  {
   "cell_type": "markdown",
   "metadata": {},
   "source": [
    "## Conclusion"
   ]
  },
  {
   "cell_type": "markdown",
   "metadata": {},
   "source": [
    "By using the data obtained with request from the API of MyAnimeList, we managed to offer recommendations for a certain user using PageRank, by either seeking animes similar to another one or by taking into account what the user has already seen.\n",
    "Using Paris, we built a dendrogram in order to discover which animes are similar, and to check if different seasons of an anime are similar, which they are."
   ]
  }
 ],
 "metadata": {
  "kernelspec": {
   "display_name": "Python 3",
   "language": "python",
   "name": "python3"
  },
  "language_info": {
   "codemirror_mode": {
    "name": "ipython",
    "version": 3
   },
   "file_extension": ".py",
   "mimetype": "text/x-python",
   "name": "python",
   "nbconvert_exporter": "python",
   "pygments_lexer": "ipython3",
   "version": "3.9.13"
  },
  "vscode": {
   "interpreter": {
    "hash": "ad2bdc8ecc057115af97d19610ffacc2b4e99fae6737bb82f5d7fb13d2f2c186"
   }
  }
 },
 "nbformat": 4,
 "nbformat_minor": 4
}
